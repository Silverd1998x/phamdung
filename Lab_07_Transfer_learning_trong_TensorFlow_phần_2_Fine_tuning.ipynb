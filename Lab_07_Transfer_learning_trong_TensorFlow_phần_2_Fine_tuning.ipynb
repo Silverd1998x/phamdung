{
 "cells": [
  {
   "cell_type": "markdown",
   "metadata": {
    "id": "view-in-github"
   },
   "source": [
    "<a href=\"https://colab.research.google.com/github/mrdbourke/tensorflow-deep-learning/blob/main/05_transfer_learning_in_tensorflow_part_2_fine_tuning.ipynb\" target=\"_parent\"><img src=\"https://colab.research.google.com/assets/colab-badge.svg\" alt=\"Open In Colab\"/></a>"
   ]
  },
  {
   "cell_type": "markdown",
   "metadata": {
    "id": "UTWetPM7AWfY"
   },
   "source": [
    "# 05. Transfer Learning với TensorFlow Phần 2: Fine-tuning\n",
    "\n",
    "Ở phần trước, chúng ta đã thấy cách tận dụng feature extraction transfer learning để đạt được kết quả tốt hơn cho project Food Vision so với việc xây dựng mô hình của riêng mình (với ít dữ liệu hơn).\n",
    "\n",
    "Bây giờ chúng ta sẽ tìm hiểu một loại transfer learning khác: fine-tuning (tinh chỉnh).\n",
    "\n",
    "Trong **fine-tuning transfer learning**, trọng số của pre-trained model từ mô hình khác bị ngưng hoạt động và được tinh chỉnh trong quá trình đó để phù hợp hơn với dữ liệu.\n",
    "\n",
    "Với feature extraction transfer learning, bạn chỉ có thể huấn luyện 1-3 layer trên cùng của pre-trained model với dữ liệu của mình, còn trong fine-tuning transfer learning, có thể huấn luyện 1-3+ layer của pre-trained model (trong đó '+' thể hiện nhiều hoặc tất cả layer có thể huấn luyện).\n",
    "\n",
    "![](https://raw.githubusercontent.com/mrdbourke/tensorflow-deep-learning/main/images/05-transfer-learning-feature-extraction-vs-fine-tuning.png)\n",
    "*Feature extraction transfer learning với fine-tuning transfer learning. Khác biệt chính ở đây là trong fine-tuning, nhiều layer của pre-trained model ngừng hoạt động và điều chỉnh dữ liệu tùy chỉnh. Fine-tuning này thường cần nhiều dữ liệu hơn so với feature extraction để được hiệu quả.*  \n",
    "\n",
    "## Những điều chúng ta sẽ tìm hiểu\n",
    "\n",
    "Chúng ta sẽ xem xét những điều sau với TensorFlow:\n",
    "\n",
    "- Giới thiệu fine-tuning - một loại transfer learning chỉnh sửa pre-trained model để phù hợp với dữ liệu\n",
    "- Sử dụng Keras Functional API (cách khác để xây dựng mô hình trong Keras)\n",
    "- Sử dụng tập dữ liệu nhỏ hơn để thử nghiệm nhanh hơn (ví dụ: 1-10% mẫu huấn luyện của 10 lớp về đồ ăn)\n",
    "- Data augmentation (cách khiến tập huấn luyện đa dạng hơn mà không cần thêm nhiều dữ liệu)\n",
    "- Chạy một chuỗi các thử nghiệm lập mô hình trên dữ liệu Food Vision\n",
    "  - Mô hình 0: mô hình transfer learning sử dụng Keras Functional API\n",
    "  - Mô hình 1: mô hình feature extraction transfer learning trên 1% dữ liệu với data augmentation\n",
    "  - Mô hình 2: mô hình feature extraction transfer learning trên 10% dữ liệu với data augmentation\n",
    "  - Mô hình 3: mô hình fine-tuned transfer learning trên 10% dữ liệu\n",
    "  - Mô hình 4: mô hình fine-tuned transfer learning trên 100% dữ liệu\n",
    "- Giới thiệu ModelCheckpoint callback để lưu các kết quả huấn luyện trung gian\n",
    "- So sánh các thử nghiệm mô hình sử dụng TensorBoard\n",
    "\n",
    "## Cách sử dụng notebook này\n",
    "\n",
    "Các bạn có thể đọc qua các mô tả và code (tất cả sẽ chạy, trừ những cell mắc lỗi có chủ đích), nhưng có một lựa chọn tốt hơn.\n",
    "Tự viết toàn bộ code.\n",
    "\n",
    "Nghiêm túc đấy. Hãy tạo notebook mới và tự viết lại từng dòng. Kiểm tra xem bạn có thể thay đổi nó không và lý do cho điều đó.\n",
    "\n",
    "Bạn không cần viết mô tả bằng văn bản nhưng tự viết lại code là một cách tuyệt vời để có trải nghiệm thực tiễn.\n",
    "\n",
    "Đừng lo lắng nếu mắc sai sót, ai cũng đều mắc lỗi cả. Cách thực hiện tốt hơn và mắc ít lỗi hơn là **viết nhiều code hơn**."
   ]
  },
  {
   "cell_type": "code",
   "execution_count": null,
   "metadata": {
    "colab": {
     "base_uri": "https://localhost:8080/"
    },
    "id": "Nq4kxIpQMpZT",
    "outputId": "8248e560-36dc-4570-ceac-a962b6151cad"
   },
   "outputs": [
    {
     "name": "stdout",
     "output_type": "stream",
     "text": [
      "Tue Feb 16 02:14:29 2021       \n",
      "+-----------------------------------------------------------------------------+\n",
      "| NVIDIA-SMI 460.39       Driver Version: 460.32.03    CUDA Version: 11.2     |\n",
      "|-------------------------------+----------------------+----------------------+\n",
      "| GPU  Name        Persistence-M| Bus-Id        Disp.A | Volatile Uncorr. ECC |\n",
      "| Fan  Temp  Perf  Pwr:Usage/Cap|         Memory-Usage | GPU-Util  Compute M. |\n",
      "|                               |                      |               MIG M. |\n",
      "|===============================+======================+======================|\n",
      "|   0  Tesla T4            Off  | 00000000:00:04.0 Off |                    0 |\n",
      "| N/A   73C    P8    13W /  70W |      0MiB / 15109MiB |      0%      Default |\n",
      "|                               |                      |                  N/A |\n",
      "+-------------------------------+----------------------+----------------------+\n",
      "                                                                               \n",
      "+-----------------------------------------------------------------------------+\n",
      "| Processes:                                                                  |\n",
      "|  GPU   GI   CI        PID   Type   Process name                  GPU Memory |\n",
      "|        ID   ID                                                   Usage      |\n",
      "|=============================================================================|\n",
      "|  No running processes found                                                 |\n",
      "+-----------------------------------------------------------------------------+\n"
     ]
    }
   ],
   "source": [
    "# Chúng ta có đang sử dụng GPU không? (nếu không có và đang dùng Google Colab, tới Runtime -> Change Runtime Type -> Harware Accelerator: GPU )\n",
    "!nvidia-smi"
   ]
  },
  {
   "cell_type": "markdown",
   "metadata": {
    "id": "P_t7iZxXvlZ9"
   },
   "source": [
    "## Tạo hàm hỗ trợ\n",
    "\n",
    "Các bạn sẽ gặp những đoạn code cần lặp đi lặp lại trong các thử nghiệm ML.\n",
    "\n",
    "Ví dụ: hàm vẽ object `history` của mô hình (xem `plot_loss_curves()` dưới đây).\n",
    "\n",
    "Chúng ta có thể tạo lại các hàm này nhiều lần.\n",
    "\n",
    "Nhưng các bạn thấy đấy, viết lại nhiều lần như vậy rất dài dòng.\n",
    "\n",
    "Một trong các giải pháp là lưu chúng trong một hàm hỗ trợ như [`helper_functions.py`](https://github.com/mrdbourke/tensorflow-deep-learning/blob/main/extras/helper_functions.py), sau đó import chức năng cần thiết nếu cần.\n",
    "\n",
    "Ví dụ, bạn có thể viết:\n",
    "\n",
    "```\n",
    "from helper_functions import plot_loss_curves\n",
    "\n",
    "...\n",
    "\n",
    "plot_loss_curves(history)\n",
    "```\n",
    "\n",
    "Hãy xem điều này trông như thế nào."
   ]
  },
  {
   "cell_type": "code",
   "execution_count": null,
   "metadata": {
    "colab": {
     "base_uri": "https://localhost:8080/"
    },
    "id": "wEuiAtXkhsJM",
    "outputId": "c2ca862e-a4f8-4bd4-8a24-f015df35742e"
   },
   "outputs": [
    {
     "name": "stdout",
     "output_type": "stream",
     "text": [
      "--2021-02-16 02:14:32--  https://raw.githubusercontent.com/mrdbourke/tensorflow-deep-learning/main/extras/helper_functions.py\n",
      "Resolving raw.githubusercontent.com (raw.githubusercontent.com)... 185.199.111.133, 185.199.108.133, 185.199.109.133, ...\n",
      "Connecting to raw.githubusercontent.com (raw.githubusercontent.com)|185.199.111.133|:443... connected.\n",
      "HTTP request sent, awaiting response... 200 OK\n",
      "Length: 9373 (9.2K) [text/plain]\n",
      "Saving to: ‘helper_functions.py.1’\n",
      "\n",
      "\r",
      "helper_functions.py   0%[                    ]       0  --.-KB/s               \r",
      "helper_functions.py 100%[===================>]   9.15K  --.-KB/s    in 0s      \n",
      "\n",
      "2021-02-16 02:14:32 (99.6 MB/s) - ‘helper_functions.py.1’ saved [9373/9373]\n",
      "\n"
     ]
    }
   ],
   "source": [
    "# Lấy helper_functions.py script từ khóa GitHub\n",
    "!wget https://raw.githubusercontent.com/mrdbourke/tensorflow-deep-learning/main/extras/helper_functions.py \n",
    "\n",
    "# Import hàm hỗ trợ mà chúng ta sẽ sử dụng \n",
    "from helper_functions import create_tensorboard_callback, plot_loss_curves, unzip_data, walk_through_dir"
   ]
  },
  {
   "cell_type": "markdown",
   "metadata": {
    "id": "AZUvqGMxizYc"
   },
   "source": [
    "Tuyệt, chúng ta đã có nhiều hàm hỗ trợ để dùng trong suốt notebook mà không cần viết lại từ đầu mỗi lần.\n",
    "\n",
    "> 🔑 **Lưu ý:** Nếu bạn đang chạy notebook này trong Google Colab, khi hết giờ Colab sẽ xóa file `helper_functions.py`. Do đó, để sử dụng các hàm đã import ở trên, cần chạy lại cell."
   ]
  },
  {
   "cell_type": "markdown",
   "metadata": {
    "id": "TWemvyC2pv3T"
   },
   "source": [
    "## 10 Food Classes: Làm việc với ít dữ liệu hơn\n",
    "\n",
    "Ở [notebook trước](https://github.com/mrdbourke/tensorflow-deep-learning/blob/main/04_transfer_learning_in_tensorflow_part_1_feature_extraction.ipynb), chúng ta đã thấy rằng có thể thu được kết quả tốt hơn chỉ với 10% dữ liệu huấn luyện khi sử dụng transfer learning với TensorFlow Hub.\n",
    "\n",
    "Trong notebook này, chúng ta sẽ tiếp tục làm việc với các tập dữ liệu con nhỏ hơn, trừ việc lần này chúng ta sẽ xem xét cách sử dụng các pretrained model được tích hợp trong mô-đun `tf.keras.applications` cũng như cách tinh chỉnh chúng với tập dữ liệu tùy chỉnh của chúng ta\n",
    "\n",
    "Chúng ta cũng sẽ luyện tập với một hàm dataloader mới nhưng tương tự với hàm [`image_dataset_from_directory()`](https://www.tensorflow.org/api_docs/python/tf/keras/preprocessing/image_dataset_from_directory) chúng ta đã dùng trước đó, là một phần của mô-đun [`tf.keras.preprocessing`](https://www.tensorflow.org/api_docs/python/tf/keras/preprocessing).\n",
    "\n",
    "Cuối cùng, chúng ta sẽ luyện tập với [Keras Functional API](https://keras.io/guides/functional_api/) để xây dựng các mô hình deep learning. Functional API là cách tạo mô hình linh hoạt hơn so với tf.keras.Sequential API.\n",
    "\n",
    "Chúng ta sẽ khám phá chi tiết từng thứ một.\n",
    "\n",
    "Hãy bắt đầu bằng việc download một vài dữ liệu."
   ]
  },
  {
   "cell_type": "code",
   "execution_count": null,
   "metadata": {
    "colab": {
     "base_uri": "https://localhost:8080/"
    },
    "id": "P7m6pjH0JTyJ",
    "outputId": "1877d951-5772-4d4a-9b2c-e1b35713cb28"
   },
   "outputs": [
    {
     "name": "stdout",
     "output_type": "stream",
     "text": [
      "--2021-02-16 02:14:53--  https://storage.googleapis.com/ztm_tf_course/food_vision/10_food_classes_10_percent.zip\n",
      "Resolving storage.googleapis.com (storage.googleapis.com)... 172.217.12.240, 172.217.15.112, 172.253.62.128, ...\n",
      "Connecting to storage.googleapis.com (storage.googleapis.com)|172.217.12.240|:443... connected.\n",
      "HTTP request sent, awaiting response... 200 OK\n",
      "Length: 168546183 (161M) [application/zip]\n",
      "Saving to: ‘10_food_classes_10_percent.zip.1’\n",
      "\n",
      "10_food_classes_10_ 100%[===================>] 160.74M   186MB/s    in 0.9s    \n",
      "\n",
      "2021-02-16 02:14:54 (186 MB/s) - ‘10_food_classes_10_percent.zip.1’ saved [168546183/168546183]\n",
      "\n"
     ]
    }
   ],
   "source": [
    "# Lấy 10% dữ liệu của 10 lớp\n",
    "!wget https://storage.googleapis.com/ztm_tf_course/food_vision/10_food_classes_10_percent.zip \n",
    "\n",
    "unzip_data(\"10_food_classes_10_percent.zip\")"
   ]
  },
  {
   "cell_type": "markdown",
   "metadata": {
    "id": "fknY0DqM14EO"
   },
   "source": [
    "Tập dữ liệu mà chúng ta đang download là tập dữ liệu 10 food classes (từ Food 101) với 10% dữ liệu ảnh huấn luyện mà chúng ta đã dùng ở notebook trước.\n",
    "\n",
    "> 🔑 **Lưu ý:** Các bạn có thể thấy cách tạo tập dữ liệu này trong [notebook image data modification](https://github.com/mrdbourke/tensorflow-deep-learning/blob/main/extras/image_data_modification.ipynb).\n",
    "\n"
   ]
  },
  {
   "cell_type": "code",
   "execution_count": null,
   "metadata": {
    "colab": {
     "base_uri": "https://localhost:8080/"
    },
    "id": "8IHQ3i9s2lRm",
    "outputId": "4311188c-1d7c-4716-b7dd-04305dc5de96"
   },
   "outputs": [
    {
     "name": "stdout",
     "output_type": "stream",
     "text": [
      "There are 2 directories and 0 images in '10_food_classes_10_percent'.\n",
      "There are 10 directories and 0 images in '10_food_classes_10_percent/train'.\n",
      "There are 0 directories and 75 images in '10_food_classes_10_percent/train/ice_cream'.\n",
      "There are 0 directories and 75 images in '10_food_classes_10_percent/train/ramen'.\n",
      "There are 0 directories and 75 images in '10_food_classes_10_percent/train/chicken_wings'.\n",
      "There are 0 directories and 75 images in '10_food_classes_10_percent/train/pizza'.\n",
      "There are 0 directories and 75 images in '10_food_classes_10_percent/train/steak'.\n",
      "There are 0 directories and 75 images in '10_food_classes_10_percent/train/fried_rice'.\n",
      "There are 0 directories and 75 images in '10_food_classes_10_percent/train/hamburger'.\n",
      "There are 0 directories and 75 images in '10_food_classes_10_percent/train/grilled_salmon'.\n",
      "There are 0 directories and 75 images in '10_food_classes_10_percent/train/sushi'.\n",
      "There are 0 directories and 75 images in '10_food_classes_10_percent/train/chicken_curry'.\n",
      "There are 10 directories and 0 images in '10_food_classes_10_percent/test'.\n",
      "There are 0 directories and 250 images in '10_food_classes_10_percent/test/ice_cream'.\n",
      "There are 0 directories and 250 images in '10_food_classes_10_percent/test/ramen'.\n",
      "There are 0 directories and 250 images in '10_food_classes_10_percent/test/chicken_wings'.\n",
      "There are 0 directories and 250 images in '10_food_classes_10_percent/test/pizza'.\n",
      "There are 0 directories and 250 images in '10_food_classes_10_percent/test/steak'.\n",
      "There are 0 directories and 250 images in '10_food_classes_10_percent/test/fried_rice'.\n",
      "There are 0 directories and 250 images in '10_food_classes_10_percent/test/hamburger'.\n",
      "There are 0 directories and 250 images in '10_food_classes_10_percent/test/grilled_salmon'.\n",
      "There are 0 directories and 250 images in '10_food_classes_10_percent/test/sushi'.\n",
      "There are 0 directories and 250 images in '10_food_classes_10_percent/test/chicken_curry'.\n"
     ]
    }
   ],
   "source": [
    "Xem qua directory 10% dữ liệu và liệt kê số file\n",
    "walk_through_dir(\"10_food_classes_10_percent\")"
   ]
  },
  {
   "cell_type": "markdown",
   "metadata": {
    "id": "a4bhxd-z2Vov"
   },
   "source": [
    "Chúng ta có thể thấy mỗi training directory có 75 ảnh và mỗi test directory có 250 ảnh.\n",
    "\n",
    "Hãy định nghĩa đường dẫn file huấn luyện và kiểm tra."
   ]
  },
  {
   "cell_type": "code",
   "execution_count": null,
   "metadata": {
    "id": "tELTNwq6L43a"
   },
   "outputs": [],
   "source": [
    "# Tạo các training/test directory\n",
    "train_dir = \"10_food_classes_10_percent/train/\"\n",
    "test_dir = \"10_food_classes_10_percent/test/\""
   ]
  },
  {
   "cell_type": "markdown",
   "metadata": {
    "id": "vkEZyNnLzppR"
   },
   "source": [
    "Chúng ta đã có một số dữ liệu ảnh, cần load nó thành định dạng tương thích với TensorFlow.\n",
    "\n",
    "Trước đó, chúng ta đã dùng lớp [`ImageDataGenerator`](https://www.tensorflow.org/api_docs/python/tf/keras/preprocessing/image/ImageDataGenerator). dù nó hoạt động khá tốt và vẫn đang được sử dụng phổ biến nhưng lần này chúng ta sẽ dùng hàm `image_data_from_directory`.\n",
    "\n",
    "Nó hoạt động khá tương tự với phương thức `flow_from_directory` của `ImageDataGenerator`, nghĩa là ảnh của bạn cần ở định dạng file sau:\n",
    "\n",
    "```\n",
    "Mẫu cấu trúc file\n",
    "\n",
    "10_food_classes_10_percent <- top level folder\n",
    "└───train <- training images\n",
    "│   └───pizza\n",
    "│   │   │   1008104.jpg\n",
    "│   │   │   1638227.jpg\n",
    "│   │   │   ...      \n",
    "│   └───steak\n",
    "│       │   1000205.jpg\n",
    "│       │   1647351.jpg\n",
    "│       │   ...\n",
    "│   \n",
    "└───test <- testing images\n",
    "│   └───pizza\n",
    "│   │   │   1001116.jpg\n",
    "│   │   │   1507019.jpg\n",
    "│   │   │   ...      \n",
    "│   └───steak\n",
    "│       │   100274.jpg\n",
    "│       │   1653815.jpg\n",
    "│       │   ...    \n",
    "```\n",
    "\n",
    "Một trong những lợi ích chính của việc sử dụng [`tf.keras.prepreprocessing.image_dataset_from_directory()`](https://www.tensorflow.org/api_docs/python/tf/keras/preprocessing/image_dataset_from_directory) so với `ImageDataGenerator` là nó tạo đối tượng [`tf.data.Dataset`](https://www.tensorflow.org/api_docs/python/tf/data/Dataset) thay vì tạo generator. Ưu điểm chính của điều này là API `tf.data.Dataset` hiệu quả hơn (nhanh hơn) so với API `ImageDataGenerator`, nó vô cùng quan trọng với các tập dữ liệu lớn hơn.\n",
    "\n",
    "Hãy xem điều này thực tế thế nào."
   ]
  },
  {
   "cell_type": "code",
   "execution_count": null,
   "metadata": {
    "colab": {
     "base_uri": "https://localhost:8080/"
    },
    "id": "QcBs8C5wJ0et",
    "outputId": "0dbce4fd-5b92-4eb3-8688-f4b1b5e0f22d"
   },
   "outputs": [
    {
     "name": "stdout",
     "output_type": "stream",
     "text": [
      "Found 750 files belonging to 10 classes.\n",
      "Found 2500 files belonging to 10 classes.\n"
     ]
    }
   ],
   "source": [
    "# Tạo đầu vào dữ liệu\n",
    "import tensorflow as tf\n",
    "IMG_SIZE = (224, 224) # xác định size của ảnh \n",
    "train_data_10_percent = tf.keras.preprocessing.image_dataset_from_directory(directory=train_dir,\n",
    "                                                                            image_size=IMG_SIZE,\n",
    "                                                                            label_mode=\"categorical\", # nhãn thuộc loại nào?\n",
    "                                                                            batch_size=32) # batch_size mặc định là 32, đây thường là số tốt \n",
    "test_data_10_percent = tf.keras.preprocessing.image_dataset_from_directory(directory=test_dir,\n",
    "                                                                           image_size=IMG_SIZE,\n",
    "                                                                           label_mode=\"categorical\")"
   ]
  },
  {
   "cell_type": "markdown",
   "metadata": {
    "id": "OaNOwJXu5Kms"
   },
   "source": [
    "Tuyệt vời! Có vẻ các dataloader đã tìm thấy đúng số lượng ảnh cho mỗi tập dữ liệu.\n",
    "\n",
    "Còn giờ chúng ta sẽ quan tâm tới các tham số chính trong hàm `image_dataset_from_directory()`:\n",
    "* `directory` - filepath của directory mục tiêu mà chúng ta đang load ảnh từ đó.\n",
    "* `image_size` - kích thước mục tiêu của các ảnh mà chúng ta đang load vào (chiều cao, chiều rộng).\n",
    "* `batch_size` - kích thước batch của ảnh mà chúng ta đang load vào. Ví dụ: nếu `batch_size` là 32 (mặc định) thì batch của 32 ảnh và nhãn sẽ được truyền vào mô hình cùng một lúc.\n",
    "\n",
    "Chúng ta có thể thử với nhiều thứ khác nếu muốn trong [tài liệu `tf.keras.preprocessing`](https://www.tensorflow.org/api_docs/python/tf/keras/preprocessing/image_dataset_from_directory).\n",
    "\n",
    "Nếu chúng ta kiểm tra kiểu dữ liệu của dữ liệu huấn luyện sẽ thấy nó là `BatchDataset` có shape liên quan với dữ liệu của chúng ta."
   ]
  },
  {
   "cell_type": "code",
   "execution_count": null,
   "metadata": {
    "colab": {
     "base_uri": "https://localhost:8080/"
    },
    "id": "a30VfDiv3ZGc",
    "outputId": "536f060f-a82a-4d76-ae6f-d2c48ac0464c"
   },
   "outputs": [
    {
     "data": {
      "text/plain": [
       "<BatchDataset shapes: ((None, 224, 224, 3), (None, 10)), types: (tf.float32, tf.float32)>"
      ]
     },
     "execution_count": 7,
     "metadata": {
      "tags": []
     },
     "output_type": "execute_result"
    }
   ],
   "source": [
    "# Kiểm tra kiểu dữ liệu của dữ liệu huấn luyện\n",
    "train_data_10_percent"
   ]
  },
  {
   "cell_type": "markdown",
   "metadata": {
    "id": "Y7p3h9nC6ZH1"
   },
   "source": [
    "Trong đầu ra ở trên:\n",
    "\n",
    "* `(None, 224, 224, 3)` đề cập tensor shape của ảnh, trong đó: `None` là kích thước batch, `224` là chiều cao (và chiều rộng) và `3` là kênh màu (red, green, blue).\n",
    "* `(None, 10)` đề cập tensor shape của nhãn, trong đó: `None` là kích thước batch, `10` là số nhãn có thể (10 lớp thức ăn khác nhau).\n",
    "* Cả image tensor và nhãn đều là kiểu dữ liệu `tf.float32`.\n",
    "\n",
    "Bạn có thể coi `None` là placeholder đợi để điền với tham số `batch_size` từ `image_dataset_from_directory()`.\n",
    "\n",
    "Một lợi ích khác của việc sử dụng API `tf.data.Dataset` là các phương thức liên kết đi kèm với nó.\n",
    "\n",
    "Chẳng hạn: có thể dùng thuộc tính `class_names` nếu muốn tìm tên của các lớp mà chúng ta đang làm việc."
   ]
  },
  {
   "cell_type": "code",
   "execution_count": null,
   "metadata": {
    "colab": {
     "base_uri": "https://localhost:8080/"
    },
    "id": "9mRe2rnv7YdW",
    "outputId": "ada12547-900a-41a9-fc07-5c2a97e9f366"
   },
   "outputs": [
    {
     "data": {
      "text/plain": [
       "['chicken_curry',\n",
       " 'chicken_wings',\n",
       " 'fried_rice',\n",
       " 'grilled_salmon',\n",
       " 'hamburger',\n",
       " 'ice_cream',\n",
       " 'pizza',\n",
       " 'ramen',\n",
       " 'steak',\n",
       " 'sushi']"
      ]
     },
     "execution_count": 8,
     "metadata": {
      "tags": []
     },
     "output_type": "execute_result"
    }
   ],
   "source": [
    "# Kiểm tra tên các lớp của tập dữ liệu\n",
    "train_data_10_percent.class_names"
   ]
  },
  {
   "cell_type": "markdown",
   "metadata": {
    "id": "c09o0KAr8SFM"
   },
   "source": [
    "Hoặc nếu muốn thấy ví dụ về batch dữ liệu, chúng ta có thể dùng phương thức `take()`."
   ]
  },
  {
   "cell_type": "code",
   "execution_count": null,
   "metadata": {
    "colab": {
     "base_uri": "https://localhost:8080/"
    },
    "id": "cZ25UPow7q5K",
    "outputId": "1e1ec9b5-de59-4160-9b7c-b248a509696f"
   },
   "outputs": [
    {
     "name": "stdout",
     "output_type": "stream",
     "text": [
      "tf.Tensor(\n",
      "[[[[1.00000000e+00 0.00000000e+00 3.10000000e+01]\n",
      "   [1.00000000e+00 0.00000000e+00 3.10000000e+01]\n",
      "   [1.00000000e+00 0.00000000e+00 3.10000000e+01]\n",
      "   ...\n",
      "   [1.00000000e+00 0.00000000e+00 3.10000000e+01]\n",
      "   [1.00000000e+00 0.00000000e+00 3.10000000e+01]\n",
      "   [1.00000000e+00 0.00000000e+00 3.10000000e+01]]\n",
      "\n",
      "  [[1.00000000e+00 0.00000000e+00 3.10000000e+01]\n",
      "   [1.00000000e+00 0.00000000e+00 3.10000000e+01]\n",
      "   [1.00000000e+00 0.00000000e+00 3.10000000e+01]\n",
      "   ...\n",
      "   [1.00000000e+00 0.00000000e+00 3.10000000e+01]\n",
      "   [1.00000000e+00 0.00000000e+00 3.10000000e+01]\n",
      "   [1.00000000e+00 0.00000000e+00 3.10000000e+01]]\n",
      "\n",
      "  [[1.00000000e+00 0.00000000e+00 3.10000000e+01]\n",
      "   [1.00000000e+00 0.00000000e+00 3.10000000e+01]\n",
      "   [1.00000000e+00 0.00000000e+00 3.10000000e+01]\n",
      "   ...\n",
      "   [1.00000000e+00 0.00000000e+00 3.10000000e+01]\n",
      "   [1.00000000e+00 0.00000000e+00 3.10000000e+01]\n",
      "   [1.00000000e+00 0.00000000e+00 3.10000000e+01]]\n",
      "\n",
      "  ...\n",
      "\n",
      "  [[1.07500107e+02 9.49286346e+01 8.90816803e+01]\n",
      "   [1.15714394e+02 1.01285782e+02 9.41582489e+01]\n",
      "   [1.17974548e+02 1.04188812e+02 9.51888123e+01]\n",
      "   ...\n",
      "   [1.18617378e+02 2.90000000e+01 2.76939182e+01]\n",
      "   [1.19000000e+02 2.90000000e+01 2.80000000e+01]\n",
      "   [1.20076530e+02 3.00765305e+01 2.98622665e+01]]\n",
      "\n",
      "  [[1.07045891e+02 9.20458908e+01 8.70458908e+01]\n",
      "   [1.15852043e+02 1.00852043e+02 9.38520432e+01]\n",
      "   [1.15841820e+02 1.02056099e+02 9.32703857e+01]\n",
      "   ...\n",
      "   [1.17943863e+02 2.99438648e+01 2.87296009e+01]\n",
      "   [1.17923454e+02 2.79234543e+01 2.79234543e+01]\n",
      "   [1.17857117e+02 2.78571167e+01 2.78571167e+01]]\n",
      "\n",
      "  [[1.00785606e+02 8.57856064e+01 8.07856064e+01]\n",
      "   [1.13999931e+02 9.89999313e+01 9.28061218e+01]\n",
      "   [1.11999931e+02 9.74284973e+01 9.06427841e+01]\n",
      "   ...\n",
      "   [1.16857086e+02 2.88570862e+01 2.76428223e+01]\n",
      "   [1.14571381e+02 2.65713806e+01 2.55713806e+01]\n",
      "   [1.14642822e+02 2.46428223e+01 2.66428223e+01]]]\n",
      "\n",
      "\n",
      " [[[9.76530609e+01 7.90663223e+01 6.50663223e+01]\n",
      "   [1.04392860e+02 8.82500000e+01 7.33214264e+01]\n",
      "   [1.09520409e+02 9.69591827e+01 8.36683655e+01]\n",
      "   ...\n",
      "   [2.44423492e+02 2.37423492e+02 2.19423492e+02]\n",
      "   [2.46760208e+02 2.39760208e+02 2.21760208e+02]\n",
      "   [2.48000000e+02 2.41000000e+02 2.23000000e+02]]\n",
      "\n",
      "  [[1.06326530e+02 8.95204086e+01 7.75867386e+01]\n",
      "   [1.11239799e+02 9.68877640e+01 8.40918427e+01]\n",
      "   [1.50612259e+02 1.41198990e+02 1.26897972e+02]\n",
      "   ...\n",
      "   [2.40857162e+02 2.33857162e+02 2.15857162e+02]\n",
      "   [2.45071442e+02 2.38071442e+02 2.20071442e+02]\n",
      "   [2.47000000e+02 2.40000000e+02 2.22000000e+02]]\n",
      "\n",
      "  [[1.15163269e+02 1.02295921e+02 9.33724518e+01]\n",
      "   [1.54887756e+02 1.45117355e+02 1.34989807e+02]\n",
      "   [2.00071426e+02 1.92836746e+02 1.79790833e+02]\n",
      "   ...\n",
      "   [2.40357193e+02 2.33357193e+02 2.15357193e+02]\n",
      "   [2.43642868e+02 2.36642868e+02 2.18642868e+02]\n",
      "   [2.44571426e+02 2.37571426e+02 2.19571426e+02]]\n",
      "\n",
      "  ...\n",
      "\n",
      "  [[1.41214325e+02 5.36428566e+01 5.27959023e+01]\n",
      "   [1.37571487e+02 5.00000229e+01 4.82704086e+01]\n",
      "   [1.39000046e+02 5.16428375e+01 4.90000000e+01]\n",
      "   ...\n",
      "   [2.50168350e+02 2.41168350e+02 2.24168350e+02]\n",
      "   [2.50000000e+02 2.41000000e+02 2.24000000e+02]\n",
      "   [2.49785736e+02 2.40785736e+02 2.23785736e+02]]\n",
      "\n",
      "  [[1.41974503e+02 5.39744949e+01 5.19744949e+01]\n",
      "   [1.40357147e+02 5.23571548e+01 5.03571548e+01]\n",
      "   [1.39642853e+02 5.16581650e+01 4.76122398e+01]\n",
      "   ...\n",
      "   [2.51000000e+02 2.42000000e+02 2.25000000e+02]\n",
      "   [2.50933655e+02 2.41933655e+02 2.24933655e+02]\n",
      "   [2.50000000e+02 2.41000000e+02 2.24000000e+02]]\n",
      "\n",
      "  [[1.42571426e+02 5.45714302e+01 5.25714302e+01]\n",
      "   [1.42617371e+02 5.46173782e+01 5.26173782e+01]\n",
      "   [1.39642853e+02 5.18571434e+01 4.72142868e+01]\n",
      "   ...\n",
      "   [2.51494919e+02 2.42494919e+02 2.25494919e+02]\n",
      "   [2.51000000e+02 2.42000000e+02 2.25000000e+02]\n",
      "   [2.51000000e+02 2.42000000e+02 2.25000000e+02]]]\n",
      "\n",
      "\n",
      " [[[3.25867348e+01 3.25867348e+01 3.05867348e+01]\n",
      "   [3.20000000e+01 3.20000000e+01 3.20000000e+01]\n",
      "   [3.24285736e+01 3.20000000e+01 3.42142868e+01]\n",
      "   ...\n",
      "   [3.66428566e+01 3.14285927e+01 2.90713844e+01]\n",
      "   [3.03570900e+01 2.53570900e+01 2.23570900e+01]\n",
      "   [2.30560646e+01 1.80560646e+01 1.50560656e+01]]\n",
      "\n",
      "  [[3.14030609e+01 3.14030609e+01 2.94030609e+01]\n",
      "   [3.10714283e+01 3.10714283e+01 3.10714283e+01]\n",
      "   [3.24285736e+01 3.20000000e+01 3.42142868e+01]\n",
      "   ...\n",
      "   [3.91428375e+01 3.39285736e+01 3.15713634e+01]\n",
      "   [3.35713768e+01 2.85713768e+01 2.55713768e+01]\n",
      "   [2.48570385e+01 1.98570385e+01 1.68570385e+01]]\n",
      "\n",
      "  [[3.00000000e+01 3.00000000e+01 2.80000000e+01]\n",
      "   [3.07295914e+01 3.07295914e+01 3.07295914e+01]\n",
      "   [3.24285736e+01 3.20000000e+01 3.42142868e+01]\n",
      "   ...\n",
      "   [4.04285278e+01 3.52142639e+01 3.28570557e+01]\n",
      "   [3.82142487e+01 3.32142487e+01 3.02142467e+01]\n",
      "   [2.99998608e+01 2.49998608e+01 2.19998608e+01]]\n",
      "\n",
      "  ...\n",
      "\n",
      "  [[2.54000000e+02 2.54000000e+02 2.54000000e+02]\n",
      "   [2.54000000e+02 2.54000000e+02 2.54000000e+02]\n",
      "   [2.54000000e+02 2.54000000e+02 2.54000000e+02]\n",
      "   ...\n",
      "   [4.64285278e+01 2.27857361e+01 9.00000000e+00]\n",
      "   [4.59285583e+01 2.21428223e+01 9.71429443e+00]\n",
      "   [4.28570862e+01 1.90713501e+01 6.64282227e+00]]\n",
      "\n",
      "  [[2.54000000e+02 2.54000000e+02 2.54000000e+02]\n",
      "   [2.54000000e+02 2.54000000e+02 2.54000000e+02]\n",
      "   [2.54000000e+02 2.54000000e+02 2.54000000e+02]\n",
      "   ...\n",
      "   [4.63723946e+01 2.27296009e+01 8.94386578e+00]\n",
      "   [4.27856750e+01 1.87856750e+01 6.78567505e+00]\n",
      "   [3.95968971e+01 1.55968981e+01 3.59689808e+00]]\n",
      "\n",
      "  [[2.54000000e+02 2.54000000e+02 2.54000000e+02]\n",
      "   [2.54000000e+02 2.54000000e+02 2.54000000e+02]\n",
      "   [2.54000000e+02 2.54000000e+02 2.54000000e+02]\n",
      "   ...\n",
      "   [4.32090836e+01 1.87805557e+01 6.56629181e+00]\n",
      "   [4.10000000e+01 1.70000000e+01 5.00000000e+00]\n",
      "   [4.07143555e+01 1.67143555e+01 6.71435547e+00]]]\n",
      "\n",
      "\n",
      " ...\n",
      "\n",
      "\n",
      " [[[2.35000000e+02 2.33000000e+02 1.84000000e+02]\n",
      "   [2.36928574e+02 2.34928574e+02 1.86928574e+02]\n",
      "   [2.38138702e+02 2.35924423e+02 1.88567276e+02]\n",
      "   ...\n",
      "   [1.42204636e+02 1.06061691e+02 7.66331635e+01]\n",
      "   [1.36100983e+02 9.71009827e+01 6.61009827e+01]\n",
      "   [1.26105240e+02 8.51052399e+01 5.51052399e+01]]\n",
      "\n",
      "  [[2.35642853e+02 2.31642853e+02 1.83642853e+02]\n",
      "   [2.37874680e+02 2.33874680e+02 1.86874680e+02]\n",
      "   [2.38941971e+02 2.34941971e+02 1.88370544e+02]\n",
      "   ...\n",
      "   [1.49318756e+02 1.13961540e+02 8.21509323e+01]\n",
      "   [1.34856155e+02 9.58561478e+01 6.48561478e+01]\n",
      "   [1.27820007e+02 8.68200073e+01 5.68200111e+01]]\n",
      "\n",
      "  [[2.35642853e+02 2.31642853e+02 1.83642853e+02]\n",
      "   [2.36945480e+02 2.32945480e+02 1.85182083e+02]\n",
      "   [2.37236603e+02 2.33236603e+02 1.86338013e+02]\n",
      "   ...\n",
      "   [1.48766525e+02 1.13409317e+02 8.11950531e+01]\n",
      "   [1.38290176e+02 9.92901764e+01 6.67633896e+01]\n",
      "   [1.32347656e+02 9.13476562e+01 5.98208733e+01]]\n",
      "\n",
      "  ...\n",
      "\n",
      "  [[2.55000000e+02 2.12133591e+02 1.86660324e+02]\n",
      "   [2.55000000e+02 2.14763367e+02 1.86763367e+02]\n",
      "   [2.53323334e+02 2.12650497e+02 1.84385498e+02]\n",
      "   ...\n",
      "   [2.26525040e+02 1.69525040e+02 1.62525040e+02]\n",
      "   [2.52622208e+02 1.98511551e+02 1.89116196e+02]\n",
      "   [2.53545837e+02 2.02877548e+02 1.91211685e+02]]\n",
      "\n",
      "  [[2.52510468e+02 2.10364456e+02 1.82758881e+02]\n",
      "   [2.53116028e+02 2.12116028e+02 1.84116028e+02]\n",
      "   [2.53416138e+02 2.14300110e+02 1.85131409e+02]\n",
      "   ...\n",
      "   [1.46211349e+02 8.82693710e+01 8.40953293e+01]\n",
      "   [2.23439270e+02 1.68443405e+02 1.61430969e+02]\n",
      "   [2.53081512e+02 2.00401398e+02 1.91860809e+02]]\n",
      "\n",
      "  [[2.52710815e+02 2.12458923e+02 1.86584869e+02]\n",
      "   [2.51163895e+02 2.12163895e+02 1.83163895e+02]\n",
      "   [2.47927551e+02 2.10776413e+02 1.81776413e+02]\n",
      "   ...\n",
      "   [1.41158997e+02 8.71762772e+01 8.26849136e+01]\n",
      "   [1.58315674e+02 1.05315666e+02 9.93156662e+01]\n",
      "   [2.39812149e+02 1.89132050e+02 1.82106827e+02]]]\n",
      "\n",
      "\n",
      " [[[2.23229599e+02 1.86229599e+02 8.22295914e+01]\n",
      "   [2.27816330e+02 1.90816330e+02 8.68163300e+01]\n",
      "   [2.31607132e+02 1.93607132e+02 9.26071396e+01]\n",
      "   ...\n",
      "   [6.21326485e+01 2.38417950e+01 5.98976803e+00]\n",
      "   [6.32602386e+01 2.16173820e+01 4.85206604e+00]\n",
      "   [6.12141113e+01 1.95712547e+01 2.98453188e+00]]\n",
      "\n",
      "  [[2.20500000e+02 1.83525497e+02 7.73775558e+01]\n",
      "   [2.20214294e+02 1.83214294e+02 7.89336777e+01]\n",
      "   [2.21770416e+02 1.83770416e+02 8.33112259e+01]\n",
      "   ...\n",
      "   [6.63571014e+01 2.94132233e+01 3.19893765e+00]\n",
      "   [6.80765457e+01 2.81377678e+01 2.78571439e+00]\n",
      "   [6.53365631e+01 2.34079933e+01 5.96906424e-01]]\n",
      "\n",
      "  [[2.15132660e+02 1.78994904e+02 6.78367386e+01]\n",
      "   [2.13642868e+02 1.76642868e+02 7.05714264e+01]\n",
      "   [2.16091843e+02 1.77923462e+02 7.95969391e+01]\n",
      "   ...\n",
      "   [7.24439240e+01 3.48265762e+01 4.59136739e-02]\n",
      "   [7.98724670e+01 4.06734505e+01 3.87243915e+00]\n",
      "   [7.55713272e+01 3.37856102e+01 0.00000000e+00]]\n",
      "\n",
      "  ...\n",
      "\n",
      "  [[2.47362259e+02 2.40362259e+02 1.86010223e+02]\n",
      "   [2.47127548e+02 2.40127548e+02 1.85428574e+02]\n",
      "   [2.45025513e+02 2.38214279e+02 1.81025528e+02]\n",
      "   ...\n",
      "   [2.49000000e+02 2.41168381e+02 1.91663239e+02]\n",
      "   [2.48729568e+02 2.40943863e+02 1.91300980e+02]\n",
      "   [2.48000000e+02 2.40494934e+02 1.89857056e+02]]\n",
      "\n",
      "  [[2.50163315e+02 2.43163315e+02 1.91071503e+02]\n",
      "   [2.48000015e+02 2.41000015e+02 1.88867401e+02]\n",
      "   [2.47301056e+02 2.39673508e+02 1.85801071e+02]\n",
      "   ...\n",
      "   [2.48071411e+02 2.41056107e+02 1.89102020e+02]\n",
      "   [2.48000000e+02 2.41000000e+02 1.88867325e+02]\n",
      "   [2.48331665e+02 2.41331665e+02 1.87423477e+02]]\n",
      "\n",
      "  [[2.50301025e+02 2.42301025e+02 1.93301025e+02]\n",
      "   [2.46382660e+02 2.38714294e+02 1.88719376e+02]\n",
      "   [2.47005112e+02 2.39362244e+02 1.86586731e+02]\n",
      "   ...\n",
      "   [2.47214264e+02 2.40214264e+02 1.87204041e+02]\n",
      "   [2.47071442e+02 2.40071442e+02 1.86071442e+02]\n",
      "   [2.49000000e+02 2.42000000e+02 1.87229584e+02]]]\n",
      "\n",
      "\n",
      " [[[6.97142868e+01 3.65000000e+01 3.78571415e+00]\n",
      "   [7.13112259e+01 3.87397957e+01 4.09693861e+00]\n",
      "   [6.95765305e+01 3.76479568e+01 2.29081607e+00]\n",
      "   ...\n",
      "   [8.57296371e+01 7.10051575e+01 3.42143517e+01]\n",
      "   [8.00407181e+01 6.71580582e+01 3.58723984e+01]\n",
      "   [6.88163376e+01 5.69591942e+01 3.08164062e+01]]\n",
      "\n",
      "  [[7.57602081e+01 3.49030609e+01 2.83163333e+00]\n",
      "   [7.48520432e+01 3.60663261e+01 2.99489808e+00]\n",
      "   [6.94285660e+01 3.38571396e+01 5.61222248e-02]\n",
      "   ...\n",
      "   [8.16378098e+01 5.68265762e+01 2.58265553e+01]\n",
      "   [8.39948807e+01 5.93520241e+01 1.94999714e+01]\n",
      "   [8.73317719e+01 6.36174850e+01 1.82603378e+01]]\n",
      "\n",
      "  [[6.67193832e+01 3.52193871e+01 2.21938777e+00]\n",
      "   [6.24285660e+01 3.07142849e+01 1.53060742e-02]\n",
      "   [5.93469391e+01 2.78316326e+01 9.18368548e-02]\n",
      "   ...\n",
      "   [8.25203552e+01 6.37601357e+01 3.13570137e+01]\n",
      "   [7.80000000e+01 5.59285469e+01 1.55867128e+01]\n",
      "   [8.65716400e+01 6.06430664e+01 1.65002098e+01]]\n",
      "\n",
      "  ...\n",
      "\n",
      "  [[2.00591873e+02 2.15158142e+02 2.14382751e+02]\n",
      "   [1.96270523e+02 2.09841873e+02 2.02326660e+02]\n",
      "   [1.92760223e+02 2.06545929e+02 1.90780655e+02]\n",
      "   ...\n",
      "   [1.14596886e+02 1.18596886e+02 9.48316422e+01]\n",
      "   [1.22800980e+02 1.27800980e+02 1.05800980e+02]\n",
      "   [1.15928619e+02 1.20928619e+02 1.00928619e+02]]\n",
      "\n",
      "  [[1.94892899e+02 2.02750015e+02 2.14678635e+02]\n",
      "   [2.08076462e+02 2.16928482e+02 2.22428528e+02]\n",
      "   [1.96413361e+02 2.09556198e+02 2.00153214e+02]\n",
      "   ...\n",
      "   [1.15285706e+02 1.18270401e+02 9.94592056e+01]\n",
      "   [1.21846909e+02 1.26704025e+02 1.06775467e+02]\n",
      "   [1.10285736e+02 1.15142853e+02 9.32142944e+01]]\n",
      "\n",
      "  [[1.85152374e+02 1.88152374e+02 2.06325897e+02]\n",
      "   [2.01362289e+02 2.07959198e+02 2.18908234e+02]\n",
      "   [2.06392944e+02 2.17387833e+02 2.17765442e+02]\n",
      "   ...\n",
      "   [1.17357178e+02 1.19709175e+02 1.05938766e+02]\n",
      "   [1.23499908e+02 1.26499908e+02 1.07499908e+02]\n",
      "   [1.07285645e+02 1.10285645e+02 8.92856445e+01]]]], shape=(32, 224, 224, 3), dtype=float32) tf.Tensor(\n",
      "[[0. 0. 0. 1. 0. 0. 0. 0. 0. 0.]\n",
      " [0. 0. 0. 0. 0. 0. 0. 0. 0. 1.]\n",
      " [0. 0. 0. 0. 0. 0. 0. 0. 1. 0.]\n",
      " [0. 0. 0. 0. 0. 0. 1. 0. 0. 0.]\n",
      " [0. 0. 0. 0. 0. 0. 1. 0. 0. 0.]\n",
      " [0. 1. 0. 0. 0. 0. 0. 0. 0. 0.]\n",
      " [1. 0. 0. 0. 0. 0. 0. 0. 0. 0.]\n",
      " [0. 0. 0. 0. 0. 0. 0. 0. 1. 0.]\n",
      " [0. 0. 0. 0. 0. 0. 0. 0. 1. 0.]\n",
      " [0. 0. 0. 0. 0. 1. 0. 0. 0. 0.]\n",
      " [0. 0. 0. 0. 0. 1. 0. 0. 0. 0.]\n",
      " [0. 0. 0. 0. 0. 0. 0. 0. 0. 1.]\n",
      " [0. 0. 0. 0. 0. 0. 0. 0. 0. 1.]\n",
      " [0. 0. 0. 0. 1. 0. 0. 0. 0. 0.]\n",
      " [0. 0. 0. 0. 0. 1. 0. 0. 0. 0.]\n",
      " [0. 0. 0. 0. 0. 0. 0. 1. 0. 0.]\n",
      " [0. 0. 0. 0. 0. 1. 0. 0. 0. 0.]\n",
      " [0. 0. 0. 0. 0. 1. 0. 0. 0. 0.]\n",
      " [0. 0. 0. 0. 0. 1. 0. 0. 0. 0.]\n",
      " [0. 0. 1. 0. 0. 0. 0. 0. 0. 0.]\n",
      " [0. 0. 0. 0. 0. 0. 1. 0. 0. 0.]\n",
      " [0. 0. 0. 0. 0. 1. 0. 0. 0. 0.]\n",
      " [0. 0. 0. 0. 0. 0. 0. 0. 0. 1.]\n",
      " [1. 0. 0. 0. 0. 0. 0. 0. 0. 0.]\n",
      " [0. 0. 0. 0. 0. 0. 1. 0. 0. 0.]\n",
      " [0. 0. 0. 0. 0. 0. 0. 0. 1. 0.]\n",
      " [0. 0. 0. 0. 0. 0. 0. 0. 1. 0.]\n",
      " [0. 0. 0. 0. 0. 0. 0. 1. 0. 0.]\n",
      " [0. 0. 0. 0. 0. 0. 0. 1. 0. 0.]\n",
      " [0. 0. 0. 0. 0. 0. 0. 0. 0. 1.]\n",
      " [0. 0. 0. 1. 0. 0. 0. 0. 0. 0.]\n",
      " [0. 0. 0. 0. 0. 0. 0. 1. 0. 0.]], shape=(32, 10), dtype=float32)\n"
     ]
    }
   ],
   "source": [
    "# Xem ví dụ về batch của dữ liệu\n",
    "for images, labels in train_data_10_percent.take(1):\n",
    "  print(images, labels)"
   ]
  },
  {
   "cell_type": "markdown",
   "metadata": {
    "id": "c1WcrMG58YtV"
   },
   "source": [
    "Lưu ý cách các mảng ảnh xuất hiện tensor của các giá trị điểm ảnh, trong đó các nhãn xuất hiện ở dạng mã hóa one-hot (ví dụ: `[0. 0. 0. 0. 1. 0. 0. 0. 0. 0.]` cho `hamburger`)."
   ]
  },
  {
   "cell_type": "markdown",
   "metadata": {
    "id": "i5DL4UYE8m1j"
   },
   "source": [
    "### Mô hình 0: Xây dựng mô hình transfer learning với Keras Functional API\n",
    "\n",
    "Dữ liệu đã được biến thành tensor, hãy xây dựng mô hình.\n",
    "\n",
    "Để thực hiện, chúng ta sẽ sử dụng mô-đun [`tf.keras.applications`](https://www.tensorflow.org/api_docs/python/tf/keras/applications) vì nó chứa một chuỗi các mô hình thị giác máy tính đã huấn luyện (trên ImageNet) cũng như Keras Functional API để tạo mô hình.\n",
    "\n",
    "Chúng ta sẽ thực hiện các bước sau:\n",
    "\n",
    "1. Khởi tạo đối tượng  pre-trained base model bằng cách chọn mô hình mục tiêu như [`EfficientNetB0`](https://www.tensorflow.org/api_docs/python/tf/keras/applications/EfficientNetB0) từ `tf.keras.applications`, thiết lập tham số `include_top` thành `False` (vì chúng ta sẽ tạo top của riêng mình, là layer đầu ra cho mô hình).\n",
    "2. Thiết lập thuộc tính `trainable` của base model thành `False` để đóng băng toàn bộ trọng số trong pre-trained model.\n",
    "3. Xác định layer đầu ra cho mô hình, chẳng hạn: shape của dữ liệu mà mô hình kỳ vọng là gì?\n",
    "4. [Tùy chọn]  Chuẩn hóa đầu ra cho mô hình nếu cần. Một số mô hình thị giác máy tính như `ResNetV250` yêu cầu đầu ra trong khoảng 0-1.\n",
    "\n",
    "> 🤔 **Lưu ý:** Khi viết, các mô hình `EfficientNet` trong mô-đun `tf.keras.applications` không yêu cầu ảnh phải được chuẩn hóa (các giá trị điểm ảnh trong khoảng 0-1) trên đầu ra trong khi nhiều mô hình khác lại yêu cầu. Tôi đã đăng [vấn đề này lên lên TensorFlow GitHub](https://github.com/tensorflow/tensorflow/issues/42506) và họ đã xác nhận nó.\n",
    "\n",
    "5. Truyền các đầu vào cho base model.\n",
    "6. Nhóm đầu ra của base model thành shape tương thích với layer kích hoạt đầu ra (biến base model output tensor thành shape tương tự như label tensor). Có thể thực hiện điều này bằng cách sử dụng [`tf.keras.layers.GlobalAveragePooling2D()`](https://www.tensorflow.org/api_docs/python/tf/keras/layers/GlobalAveragePooling2D) hoặc [`tf.keras.layers.GlobalMaxPooling2D()`](https://www.tensorflow.org/api_docs/python/tf/keras/layers/GlobalMaxPool2D?hl=en) dù `tf.keras.layers.GlobalAveragePooling2D()` được dùng phổ biến hơn.\n",
    "7. Tạo layer kích hoạt đầu ra bằng cách sử dụng `tf.keras.layers.Dense()` với hàm kích hoạt và số nơ-ron thích hợp.\n",
    "8. Kết hợp layer đầu  vào và đầu ra thành một mô hình bằng [`tf.keras.Model()`](https://www.tensorflow.org/api_docs/python/tf/keras/Model).\n",
    "9. Biên dịch mô hình với hàm mất mát phù hợp và chọn thuật toán tối ưu.\n",
    "10. Khớp mô hình cho số epoch mong muốn và với các callback cần thiết (trong trường hợp này, chúng ta sẽ bắt đầu với TensorBoard callback).\n",
    "\n",
    "Có vẻ khá nhiều bước. Trước khi đi tiếp, hãy xem nó chạy thế nào."
   ]
  },
  {
   "cell_type": "code",
   "execution_count": null,
   "metadata": {
    "colab": {
     "base_uri": "https://localhost:8080/"
    },
    "id": "ayNga8DsJLPa",
    "outputId": "e585c86c-d376-4ace-a746-dc8a87d7dd91"
   },
   "outputs": [
    {
     "name": "stdout",
     "output_type": "stream",
     "text": [
      "Shape after base_model: (None, 7, 7, 1280)\n",
      "After GlobalAveragePooling2D(): (None, 1280)\n",
      "Saving TensorBoard log files to: transfer_learning/10_percent_feature_extract/20210216-021515\n",
      "Epoch 1/5\n",
      "24/24 [==============================] - 14s 313ms/step - loss: 2.1271 - accuracy: 0.2823 - val_loss: 1.3399 - val_accuracy: 0.6743\n",
      "Epoch 2/5\n",
      "24/24 [==============================] - 6s 223ms/step - loss: 1.2676 - accuracy: 0.6741 - val_loss: 0.8985 - val_accuracy: 0.8224\n",
      "Epoch 3/5\n",
      "24/24 [==============================] - 6s 222ms/step - loss: 0.9113 - accuracy: 0.7824 - val_loss: 0.6983 - val_accuracy: 0.8520\n",
      "Epoch 4/5\n",
      "24/24 [==============================] - 6s 224ms/step - loss: 0.7330 - accuracy: 0.8208 - val_loss: 0.6213 - val_accuracy: 0.8635\n",
      "Epoch 5/5\n",
      "24/24 [==============================] - 6s 224ms/step - loss: 0.6232 - accuracy: 0.8519 - val_loss: 0.5716 - val_accuracy: 0.8651\n"
     ]
    }
   ],
   "source": [
    "# 1. Tạo mô hình với tf.keras.applications\n",
    "base_model = tf.keras.applications.EfficientNetB0(include_top=False)\n",
    "\n",
    "# 2. Đóng băng base model (nên các pattern đã tìm hiểu vẫn còn)\n",
    "base_model.trainable = False\n",
    "\n",
    "# 3. Tạo các đầu ra thành base model\n",
    "inputs = tf.keras.layers.Input(shape=(224, 224, 3), name=\"input_layer\")\n",
    "\n",
    "# 4. Nếu đang sử dụng ResNet50V2, thêm nó để tăng tốc hội tụ, loại bỏ nếu dùng EfficientNet\n",
    "# x = tf.keras.layers.experimental.preprocessing.Rescaling(1./255)(inputs)\n",
    "\n",
    "# 5. Truyền đầu vào cho base_model (lưu ý: dùng tf.keras.applications, đầu vào của EfficientNet không cần chuẩn hóa)\n",
    "x = base_model(inputs)\n",
    "# Kiểm tra shape dữ liệu sau khi truyền nó vào base_model\n",
    "print(f\"Shape after base_model: {x.shape}\")\n",
    "\n",
    "# 6. Gộp trung bình đầu ra của base model (tổng hợp tất cả những thông tin quan trọng nhất, giảm số lần tính toán)\n",
    "x = tf.keras.layers.GlobalAveragePooling2D(name=\"global_average_pooling_layer\")(x)\n",
    "print(f\"After GlobalAveragePooling2D(): {x.shape}\")\n",
    "\n",
    "# 7. Tạo layer kích hoạt đầu ra\n",
    "outputs = tf.keras.layers.Dense(10, activation=\"softmax\", name=\"output_layer\")(x)\n",
    "\n",
    "# 8. Kết hợp đầu vào với đầu ra thành một mô hình\n",
    "model_0 = tf.keras.Model(inputs, outputs)\n",
    "\n",
    "# 9. Biên dịch mô hình \n",
    "model_0.compile(loss='categorical_crossentropy',\n",
    "              optimizer=tf.keras.optimizers.Adam(),\n",
    "              metrics=[\"accuracy\"])\n",
    "\n",
    "# 10. Khớp mô hình (sử dụng ít bước hơn cho validation nên nó nhanh hơn)\n",
    "history_10_percent = model_0.fit(train_data_10_percent,\n",
    "                                 epochs=5,\n",
    "                                 steps_per_epoch=len(train_data_10_percent),\n",
    "                                 validation_data=test_data_10_percent,\n",
    "                                 # Đi qua ít dữ liệu kiểm định hơn nên các epoch nhanh hơn (chúng ta muốn thử nghiệm nhanh hơn!)\n",
    "                                 validation_steps=int(0.25 * len(test_data_10_percent)), \n",
    "                                 # Theo dõi nhật ký huấn luyện của mô hình cho các trực quan hóa sau này\n",
    "                                 callbacks=[create_tensorboard_callback(\"transfer_learning\", \"10_percent_feature_extract\")])"
   ]
  },
  {
   "cell_type": "markdown",
   "metadata": {
    "id": "sUhkvBx0Hb8D"
   },
   "source": [
    "Tuyệt! Sau khoảng một phút huấn luyện, mô hình của chúng ta đã thực hiện vô cùng tốt trên cả tập huấn luyện (độ chính xác trên 87%) và tập kiểm tra (độ chính xác ~83%).\n",
    "\n",
    "Điều này rất đáng kinh ngạc, tất cả là nhờ khả năng của transfer learning.\n",
    "\n",
    "Cần lưu ý loại transfer learning mà chúng ta dùng ở đây là feature extraction transfer learning, như những gì chúng ta thực hiện với các mô hình TensorFlow Hub.\n",
    "\n",
    "Nói cách khác, chúng ta truyền dữ liệu tùy chỉnh vào pre-trained model (`EfficientNetB0`), hỏi nó \"thấy những pattern nào\" rồi đặt layer đầu ra lên đầu để đảm bảo đầu ra được điều chỉnh phủ hợp với số lớp mong muốn.\n",
    "\n",
    "Chúng ta cũng sử dụng Keras Functional API để xây dựng mô hình của mình hơn là Sequential API. Lợi ích của điều này có vẻ không rõ ràng nhưng khi bắt đầu xây dựng mô hình phức tạp hơn, các bạn có thể sẽ muốn sử dụng Functional API. Nên việc tiếp xúc với cách xây dựng mô hình như vậy cũng quan trọng.\n",
    "\n",
    "> 📖 **Tài liệu:** Xem [tài liệu về TensorFlow Functional API](https://www.tensorflow.org/guide/keras/functional) để biết các lợi ích và trường hợp sử dụng của Functional API với Sequential API.\n",
    "\n",
    "ãy xem các layer trong mô hình của chúng ta, bắt đầu với base model."
   ]
  },
  {
   "cell_type": "code",
   "execution_count": null,
   "metadata": {
    "colab": {
     "base_uri": "https://localhost:8080/"
    },
    "id": "lUuQOyKv4_27",
    "outputId": "df5cca5e-2358-47ae-d1d5-7c14200c1a96"
   },
   "outputs": [
    {
     "name": "stdout",
     "output_type": "stream",
     "text": [
      "0 input_1\n",
      "1 rescaling\n",
      "2 normalization\n",
      "3 stem_conv_pad\n",
      "4 stem_conv\n",
      "5 stem_bn\n",
      "6 stem_activation\n",
      "7 block1a_dwconv\n",
      "8 block1a_bn\n",
      "9 block1a_activation\n",
      "10 block1a_se_squeeze\n",
      "11 block1a_se_reshape\n",
      "12 block1a_se_reduce\n",
      "13 block1a_se_expand\n",
      "14 block1a_se_excite\n",
      "15 block1a_project_conv\n",
      "16 block1a_project_bn\n",
      "17 block2a_expand_conv\n",
      "18 block2a_expand_bn\n",
      "19 block2a_expand_activation\n",
      "20 block2a_dwconv_pad\n",
      "21 block2a_dwconv\n",
      "22 block2a_bn\n",
      "23 block2a_activation\n",
      "24 block2a_se_squeeze\n",
      "25 block2a_se_reshape\n",
      "26 block2a_se_reduce\n",
      "27 block2a_se_expand\n",
      "28 block2a_se_excite\n",
      "29 block2a_project_conv\n",
      "30 block2a_project_bn\n",
      "31 block2b_expand_conv\n",
      "32 block2b_expand_bn\n",
      "33 block2b_expand_activation\n",
      "34 block2b_dwconv\n",
      "35 block2b_bn\n",
      "36 block2b_activation\n",
      "37 block2b_se_squeeze\n",
      "38 block2b_se_reshape\n",
      "39 block2b_se_reduce\n",
      "40 block2b_se_expand\n",
      "41 block2b_se_excite\n",
      "42 block2b_project_conv\n",
      "43 block2b_project_bn\n",
      "44 block2b_drop\n",
      "45 block2b_add\n",
      "46 block3a_expand_conv\n",
      "47 block3a_expand_bn\n",
      "48 block3a_expand_activation\n",
      "49 block3a_dwconv_pad\n",
      "50 block3a_dwconv\n",
      "51 block3a_bn\n",
      "52 block3a_activation\n",
      "53 block3a_se_squeeze\n",
      "54 block3a_se_reshape\n",
      "55 block3a_se_reduce\n",
      "56 block3a_se_expand\n",
      "57 block3a_se_excite\n",
      "58 block3a_project_conv\n",
      "59 block3a_project_bn\n",
      "60 block3b_expand_conv\n",
      "61 block3b_expand_bn\n",
      "62 block3b_expand_activation\n",
      "63 block3b_dwconv\n",
      "64 block3b_bn\n",
      "65 block3b_activation\n",
      "66 block3b_se_squeeze\n",
      "67 block3b_se_reshape\n",
      "68 block3b_se_reduce\n",
      "69 block3b_se_expand\n",
      "70 block3b_se_excite\n",
      "71 block3b_project_conv\n",
      "72 block3b_project_bn\n",
      "73 block3b_drop\n",
      "74 block3b_add\n",
      "75 block4a_expand_conv\n",
      "76 block4a_expand_bn\n",
      "77 block4a_expand_activation\n",
      "78 block4a_dwconv_pad\n",
      "79 block4a_dwconv\n",
      "80 block4a_bn\n",
      "81 block4a_activation\n",
      "82 block4a_se_squeeze\n",
      "83 block4a_se_reshape\n",
      "84 block4a_se_reduce\n",
      "85 block4a_se_expand\n",
      "86 block4a_se_excite\n",
      "87 block4a_project_conv\n",
      "88 block4a_project_bn\n",
      "89 block4b_expand_conv\n",
      "90 block4b_expand_bn\n",
      "91 block4b_expand_activation\n",
      "92 block4b_dwconv\n",
      "93 block4b_bn\n",
      "94 block4b_activation\n",
      "95 block4b_se_squeeze\n",
      "96 block4b_se_reshape\n",
      "97 block4b_se_reduce\n",
      "98 block4b_se_expand\n",
      "99 block4b_se_excite\n",
      "100 block4b_project_conv\n",
      "101 block4b_project_bn\n",
      "102 block4b_drop\n",
      "103 block4b_add\n",
      "104 block4c_expand_conv\n",
      "105 block4c_expand_bn\n",
      "106 block4c_expand_activation\n",
      "107 block4c_dwconv\n",
      "108 block4c_bn\n",
      "109 block4c_activation\n",
      "110 block4c_se_squeeze\n",
      "111 block4c_se_reshape\n",
      "112 block4c_se_reduce\n",
      "113 block4c_se_expand\n",
      "114 block4c_se_excite\n",
      "115 block4c_project_conv\n",
      "116 block4c_project_bn\n",
      "117 block4c_drop\n",
      "118 block4c_add\n",
      "119 block5a_expand_conv\n",
      "120 block5a_expand_bn\n",
      "121 block5a_expand_activation\n",
      "122 block5a_dwconv\n",
      "123 block5a_bn\n",
      "124 block5a_activation\n",
      "125 block5a_se_squeeze\n",
      "126 block5a_se_reshape\n",
      "127 block5a_se_reduce\n",
      "128 block5a_se_expand\n",
      "129 block5a_se_excite\n",
      "130 block5a_project_conv\n",
      "131 block5a_project_bn\n",
      "132 block5b_expand_conv\n",
      "133 block5b_expand_bn\n",
      "134 block5b_expand_activation\n",
      "135 block5b_dwconv\n",
      "136 block5b_bn\n",
      "137 block5b_activation\n",
      "138 block5b_se_squeeze\n",
      "139 block5b_se_reshape\n",
      "140 block5b_se_reduce\n",
      "141 block5b_se_expand\n",
      "142 block5b_se_excite\n",
      "143 block5b_project_conv\n",
      "144 block5b_project_bn\n",
      "145 block5b_drop\n",
      "146 block5b_add\n",
      "147 block5c_expand_conv\n",
      "148 block5c_expand_bn\n",
      "149 block5c_expand_activation\n",
      "150 block5c_dwconv\n",
      "151 block5c_bn\n",
      "152 block5c_activation\n",
      "153 block5c_se_squeeze\n",
      "154 block5c_se_reshape\n",
      "155 block5c_se_reduce\n",
      "156 block5c_se_expand\n",
      "157 block5c_se_excite\n",
      "158 block5c_project_conv\n",
      "159 block5c_project_bn\n",
      "160 block5c_drop\n",
      "161 block5c_add\n",
      "162 block6a_expand_conv\n",
      "163 block6a_expand_bn\n",
      "164 block6a_expand_activation\n",
      "165 block6a_dwconv_pad\n",
      "166 block6a_dwconv\n",
      "167 block6a_bn\n",
      "168 block6a_activation\n",
      "169 block6a_se_squeeze\n",
      "170 block6a_se_reshape\n",
      "171 block6a_se_reduce\n",
      "172 block6a_se_expand\n",
      "173 block6a_se_excite\n",
      "174 block6a_project_conv\n",
      "175 block6a_project_bn\n",
      "176 block6b_expand_conv\n",
      "177 block6b_expand_bn\n",
      "178 block6b_expand_activation\n",
      "179 block6b_dwconv\n",
      "180 block6b_bn\n",
      "181 block6b_activation\n",
      "182 block6b_se_squeeze\n",
      "183 block6b_se_reshape\n",
      "184 block6b_se_reduce\n",
      "185 block6b_se_expand\n",
      "186 block6b_se_excite\n",
      "187 block6b_project_conv\n",
      "188 block6b_project_bn\n",
      "189 block6b_drop\n",
      "190 block6b_add\n",
      "191 block6c_expand_conv\n",
      "192 block6c_expand_bn\n",
      "193 block6c_expand_activation\n",
      "194 block6c_dwconv\n",
      "195 block6c_bn\n",
      "196 block6c_activation\n",
      "197 block6c_se_squeeze\n",
      "198 block6c_se_reshape\n",
      "199 block6c_se_reduce\n",
      "200 block6c_se_expand\n",
      "201 block6c_se_excite\n",
      "202 block6c_project_conv\n",
      "203 block6c_project_bn\n",
      "204 block6c_drop\n",
      "205 block6c_add\n",
      "206 block6d_expand_conv\n",
      "207 block6d_expand_bn\n",
      "208 block6d_expand_activation\n",
      "209 block6d_dwconv\n",
      "210 block6d_bn\n",
      "211 block6d_activation\n",
      "212 block6d_se_squeeze\n",
      "213 block6d_se_reshape\n",
      "214 block6d_se_reduce\n",
      "215 block6d_se_expand\n",
      "216 block6d_se_excite\n",
      "217 block6d_project_conv\n",
      "218 block6d_project_bn\n",
      "219 block6d_drop\n",
      "220 block6d_add\n",
      "221 block7a_expand_conv\n",
      "222 block7a_expand_bn\n",
      "223 block7a_expand_activation\n",
      "224 block7a_dwconv\n",
      "225 block7a_bn\n",
      "226 block7a_activation\n",
      "227 block7a_se_squeeze\n",
      "228 block7a_se_reshape\n",
      "229 block7a_se_reduce\n",
      "230 block7a_se_expand\n",
      "231 block7a_se_excite\n",
      "232 block7a_project_conv\n",
      "233 block7a_project_bn\n",
      "234 top_conv\n",
      "235 top_bn\n",
      "236 top_activation\n"
     ]
    }
   ],
   "source": [
    "# Kiểm tra các layer trong base model\n",
    "for layer_number, layer in enumerate(base_model.layers):\n",
    "  print(layer_number, layer.name)"
   ]
  },
  {
   "cell_type": "markdown",
   "metadata": {
    "id": "nVTG-ZZUJhKB"
   },
   "source": [
    "Có nhiều layer... tự tay viết code chúng tốn khá nhiều thời gian thực hiện, nên chúng ta có thể tận dụng chúng nhờ khả năng của transfer learning.\n",
    "\n",
    "Vậy còn summary của base model?"
   ]
  },
  {
   "cell_type": "code",
   "execution_count": null,
   "metadata": {
    "colab": {
     "base_uri": "https://localhost:8080/"
    },
    "id": "0gKubJmUu91N",
    "outputId": "68436c34-39d6-4883-c722-ccaa5b4e25fe"
   },
   "outputs": [
    {
     "name": "stdout",
     "output_type": "stream",
     "text": [
      "Model: \"efficientnetb0\"\n",
      "__________________________________________________________________________________________________\n",
      "Layer (type)                    Output Shape         Param #     Connected to                     \n",
      "==================================================================================================\n",
      "input_1 (InputLayer)            [(None, None, None,  0                                            \n",
      "__________________________________________________________________________________________________\n",
      "rescaling (Rescaling)           (None, None, None, 3 0           input_1[0][0]                    \n",
      "__________________________________________________________________________________________________\n",
      "normalization (Normalization)   (None, None, None, 3 7           rescaling[0][0]                  \n",
      "__________________________________________________________________________________________________\n",
      "stem_conv_pad (ZeroPadding2D)   (None, None, None, 3 0           normalization[0][0]              \n",
      "__________________________________________________________________________________________________\n",
      "stem_conv (Conv2D)              (None, None, None, 3 864         stem_conv_pad[0][0]              \n",
      "__________________________________________________________________________________________________\n",
      "stem_bn (BatchNormalization)    (None, None, None, 3 128         stem_conv[0][0]                  \n",
      "__________________________________________________________________________________________________\n",
      "stem_activation (Activation)    (None, None, None, 3 0           stem_bn[0][0]                    \n",
      "__________________________________________________________________________________________________\n",
      "block1a_dwconv (DepthwiseConv2D (None, None, None, 3 288         stem_activation[0][0]            \n",
      "__________________________________________________________________________________________________\n",
      "block1a_bn (BatchNormalization) (None, None, None, 3 128         block1a_dwconv[0][0]             \n",
      "__________________________________________________________________________________________________\n",
      "block1a_activation (Activation) (None, None, None, 3 0           block1a_bn[0][0]                 \n",
      "__________________________________________________________________________________________________\n",
      "block1a_se_squeeze (GlobalAvera (None, 32)           0           block1a_activation[0][0]         \n",
      "__________________________________________________________________________________________________\n",
      "block1a_se_reshape (Reshape)    (None, 1, 1, 32)     0           block1a_se_squeeze[0][0]         \n",
      "__________________________________________________________________________________________________\n",
      "block1a_se_reduce (Conv2D)      (None, 1, 1, 8)      264         block1a_se_reshape[0][0]         \n",
      "__________________________________________________________________________________________________\n",
      "block1a_se_expand (Conv2D)      (None, 1, 1, 32)     288         block1a_se_reduce[0][0]          \n",
      "__________________________________________________________________________________________________\n",
      "block1a_se_excite (Multiply)    (None, None, None, 3 0           block1a_activation[0][0]         \n",
      "                                                                 block1a_se_expand[0][0]          \n",
      "__________________________________________________________________________________________________\n",
      "block1a_project_conv (Conv2D)   (None, None, None, 1 512         block1a_se_excite[0][0]          \n",
      "__________________________________________________________________________________________________\n",
      "block1a_project_bn (BatchNormal (None, None, None, 1 64          block1a_project_conv[0][0]       \n",
      "__________________________________________________________________________________________________\n",
      "block2a_expand_conv (Conv2D)    (None, None, None, 9 1536        block1a_project_bn[0][0]         \n",
      "__________________________________________________________________________________________________\n",
      "block2a_expand_bn (BatchNormali (None, None, None, 9 384         block2a_expand_conv[0][0]        \n",
      "__________________________________________________________________________________________________\n",
      "block2a_expand_activation (Acti (None, None, None, 9 0           block2a_expand_bn[0][0]          \n",
      "__________________________________________________________________________________________________\n",
      "block2a_dwconv_pad (ZeroPadding (None, None, None, 9 0           block2a_expand_activation[0][0]  \n",
      "__________________________________________________________________________________________________\n",
      "block2a_dwconv (DepthwiseConv2D (None, None, None, 9 864         block2a_dwconv_pad[0][0]         \n",
      "__________________________________________________________________________________________________\n",
      "block2a_bn (BatchNormalization) (None, None, None, 9 384         block2a_dwconv[0][0]             \n",
      "__________________________________________________________________________________________________\n",
      "block2a_activation (Activation) (None, None, None, 9 0           block2a_bn[0][0]                 \n",
      "__________________________________________________________________________________________________\n",
      "block2a_se_squeeze (GlobalAvera (None, 96)           0           block2a_activation[0][0]         \n",
      "__________________________________________________________________________________________________\n",
      "block2a_se_reshape (Reshape)    (None, 1, 1, 96)     0           block2a_se_squeeze[0][0]         \n",
      "__________________________________________________________________________________________________\n",
      "block2a_se_reduce (Conv2D)      (None, 1, 1, 4)      388         block2a_se_reshape[0][0]         \n",
      "__________________________________________________________________________________________________\n",
      "block2a_se_expand (Conv2D)      (None, 1, 1, 96)     480         block2a_se_reduce[0][0]          \n",
      "__________________________________________________________________________________________________\n",
      "block2a_se_excite (Multiply)    (None, None, None, 9 0           block2a_activation[0][0]         \n",
      "                                                                 block2a_se_expand[0][0]          \n",
      "__________________________________________________________________________________________________\n",
      "block2a_project_conv (Conv2D)   (None, None, None, 2 2304        block2a_se_excite[0][0]          \n",
      "__________________________________________________________________________________________________\n",
      "block2a_project_bn (BatchNormal (None, None, None, 2 96          block2a_project_conv[0][0]       \n",
      "__________________________________________________________________________________________________\n",
      "block2b_expand_conv (Conv2D)    (None, None, None, 1 3456        block2a_project_bn[0][0]         \n",
      "__________________________________________________________________________________________________\n",
      "block2b_expand_bn (BatchNormali (None, None, None, 1 576         block2b_expand_conv[0][0]        \n",
      "__________________________________________________________________________________________________\n",
      "block2b_expand_activation (Acti (None, None, None, 1 0           block2b_expand_bn[0][0]          \n",
      "__________________________________________________________________________________________________\n",
      "block2b_dwconv (DepthwiseConv2D (None, None, None, 1 1296        block2b_expand_activation[0][0]  \n",
      "__________________________________________________________________________________________________\n",
      "block2b_bn (BatchNormalization) (None, None, None, 1 576         block2b_dwconv[0][0]             \n",
      "__________________________________________________________________________________________________\n",
      "block2b_activation (Activation) (None, None, None, 1 0           block2b_bn[0][0]                 \n",
      "__________________________________________________________________________________________________\n",
      "block2b_se_squeeze (GlobalAvera (None, 144)          0           block2b_activation[0][0]         \n",
      "__________________________________________________________________________________________________\n",
      "block2b_se_reshape (Reshape)    (None, 1, 1, 144)    0           block2b_se_squeeze[0][0]         \n",
      "__________________________________________________________________________________________________\n",
      "block2b_se_reduce (Conv2D)      (None, 1, 1, 6)      870         block2b_se_reshape[0][0]         \n",
      "__________________________________________________________________________________________________\n",
      "block2b_se_expand (Conv2D)      (None, 1, 1, 144)    1008        block2b_se_reduce[0][0]          \n",
      "__________________________________________________________________________________________________\n",
      "block2b_se_excite (Multiply)    (None, None, None, 1 0           block2b_activation[0][0]         \n",
      "                                                                 block2b_se_expand[0][0]          \n",
      "__________________________________________________________________________________________________\n",
      "block2b_project_conv (Conv2D)   (None, None, None, 2 3456        block2b_se_excite[0][0]          \n",
      "__________________________________________________________________________________________________\n",
      "block2b_project_bn (BatchNormal (None, None, None, 2 96          block2b_project_conv[0][0]       \n",
      "__________________________________________________________________________________________________\n",
      "block2b_drop (Dropout)          (None, None, None, 2 0           block2b_project_bn[0][0]         \n",
      "__________________________________________________________________________________________________\n",
      "block2b_add (Add)               (None, None, None, 2 0           block2b_drop[0][0]               \n",
      "                                                                 block2a_project_bn[0][0]         \n",
      "__________________________________________________________________________________________________\n",
      "block3a_expand_conv (Conv2D)    (None, None, None, 1 3456        block2b_add[0][0]                \n",
      "__________________________________________________________________________________________________\n",
      "block3a_expand_bn (BatchNormali (None, None, None, 1 576         block3a_expand_conv[0][0]        \n",
      "__________________________________________________________________________________________________\n",
      "block3a_expand_activation (Acti (None, None, None, 1 0           block3a_expand_bn[0][0]          \n",
      "__________________________________________________________________________________________________\n",
      "block3a_dwconv_pad (ZeroPadding (None, None, None, 1 0           block3a_expand_activation[0][0]  \n",
      "__________________________________________________________________________________________________\n",
      "block3a_dwconv (DepthwiseConv2D (None, None, None, 1 3600        block3a_dwconv_pad[0][0]         \n",
      "__________________________________________________________________________________________________\n",
      "block3a_bn (BatchNormalization) (None, None, None, 1 576         block3a_dwconv[0][0]             \n",
      "__________________________________________________________________________________________________\n",
      "block3a_activation (Activation) (None, None, None, 1 0           block3a_bn[0][0]                 \n",
      "__________________________________________________________________________________________________\n",
      "block3a_se_squeeze (GlobalAvera (None, 144)          0           block3a_activation[0][0]         \n",
      "__________________________________________________________________________________________________\n",
      "block3a_se_reshape (Reshape)    (None, 1, 1, 144)    0           block3a_se_squeeze[0][0]         \n",
      "__________________________________________________________________________________________________\n",
      "block3a_se_reduce (Conv2D)      (None, 1, 1, 6)      870         block3a_se_reshape[0][0]         \n",
      "__________________________________________________________________________________________________\n",
      "block3a_se_expand (Conv2D)      (None, 1, 1, 144)    1008        block3a_se_reduce[0][0]          \n",
      "__________________________________________________________________________________________________\n",
      "block3a_se_excite (Multiply)    (None, None, None, 1 0           block3a_activation[0][0]         \n",
      "                                                                 block3a_se_expand[0][0]          \n",
      "__________________________________________________________________________________________________\n",
      "block3a_project_conv (Conv2D)   (None, None, None, 4 5760        block3a_se_excite[0][0]          \n",
      "__________________________________________________________________________________________________\n",
      "block3a_project_bn (BatchNormal (None, None, None, 4 160         block3a_project_conv[0][0]       \n",
      "__________________________________________________________________________________________________\n",
      "block3b_expand_conv (Conv2D)    (None, None, None, 2 9600        block3a_project_bn[0][0]         \n",
      "__________________________________________________________________________________________________\n",
      "block3b_expand_bn (BatchNormali (None, None, None, 2 960         block3b_expand_conv[0][0]        \n",
      "__________________________________________________________________________________________________\n",
      "block3b_expand_activation (Acti (None, None, None, 2 0           block3b_expand_bn[0][0]          \n",
      "__________________________________________________________________________________________________\n",
      "block3b_dwconv (DepthwiseConv2D (None, None, None, 2 6000        block3b_expand_activation[0][0]  \n",
      "__________________________________________________________________________________________________\n",
      "block3b_bn (BatchNormalization) (None, None, None, 2 960         block3b_dwconv[0][0]             \n",
      "__________________________________________________________________________________________________\n",
      "block3b_activation (Activation) (None, None, None, 2 0           block3b_bn[0][0]                 \n",
      "__________________________________________________________________________________________________\n",
      "block3b_se_squeeze (GlobalAvera (None, 240)          0           block3b_activation[0][0]         \n",
      "__________________________________________________________________________________________________\n",
      "block3b_se_reshape (Reshape)    (None, 1, 1, 240)    0           block3b_se_squeeze[0][0]         \n",
      "__________________________________________________________________________________________________\n",
      "block3b_se_reduce (Conv2D)      (None, 1, 1, 10)     2410        block3b_se_reshape[0][0]         \n",
      "__________________________________________________________________________________________________\n",
      "block3b_se_expand (Conv2D)      (None, 1, 1, 240)    2640        block3b_se_reduce[0][0]          \n",
      "__________________________________________________________________________________________________\n",
      "block3b_se_excite (Multiply)    (None, None, None, 2 0           block3b_activation[0][0]         \n",
      "                                                                 block3b_se_expand[0][0]          \n",
      "__________________________________________________________________________________________________\n",
      "block3b_project_conv (Conv2D)   (None, None, None, 4 9600        block3b_se_excite[0][0]          \n",
      "__________________________________________________________________________________________________\n",
      "block3b_project_bn (BatchNormal (None, None, None, 4 160         block3b_project_conv[0][0]       \n",
      "__________________________________________________________________________________________________\n",
      "block3b_drop (Dropout)          (None, None, None, 4 0           block3b_project_bn[0][0]         \n",
      "__________________________________________________________________________________________________\n",
      "block3b_add (Add)               (None, None, None, 4 0           block3b_drop[0][0]               \n",
      "                                                                 block3a_project_bn[0][0]         \n",
      "__________________________________________________________________________________________________\n",
      "block4a_expand_conv (Conv2D)    (None, None, None, 2 9600        block3b_add[0][0]                \n",
      "__________________________________________________________________________________________________\n",
      "block4a_expand_bn (BatchNormali (None, None, None, 2 960         block4a_expand_conv[0][0]        \n",
      "__________________________________________________________________________________________________\n",
      "block4a_expand_activation (Acti (None, None, None, 2 0           block4a_expand_bn[0][0]          \n",
      "__________________________________________________________________________________________________\n",
      "block4a_dwconv_pad (ZeroPadding (None, None, None, 2 0           block4a_expand_activation[0][0]  \n",
      "__________________________________________________________________________________________________\n",
      "block4a_dwconv (DepthwiseConv2D (None, None, None, 2 2160        block4a_dwconv_pad[0][0]         \n",
      "__________________________________________________________________________________________________\n",
      "block4a_bn (BatchNormalization) (None, None, None, 2 960         block4a_dwconv[0][0]             \n",
      "__________________________________________________________________________________________________\n",
      "block4a_activation (Activation) (None, None, None, 2 0           block4a_bn[0][0]                 \n",
      "__________________________________________________________________________________________________\n",
      "block4a_se_squeeze (GlobalAvera (None, 240)          0           block4a_activation[0][0]         \n",
      "__________________________________________________________________________________________________\n",
      "block4a_se_reshape (Reshape)    (None, 1, 1, 240)    0           block4a_se_squeeze[0][0]         \n",
      "__________________________________________________________________________________________________\n",
      "block4a_se_reduce (Conv2D)      (None, 1, 1, 10)     2410        block4a_se_reshape[0][0]         \n",
      "__________________________________________________________________________________________________\n",
      "block4a_se_expand (Conv2D)      (None, 1, 1, 240)    2640        block4a_se_reduce[0][0]          \n",
      "__________________________________________________________________________________________________\n",
      "block4a_se_excite (Multiply)    (None, None, None, 2 0           block4a_activation[0][0]         \n",
      "                                                                 block4a_se_expand[0][0]          \n",
      "__________________________________________________________________________________________________\n",
      "block4a_project_conv (Conv2D)   (None, None, None, 8 19200       block4a_se_excite[0][0]          \n",
      "__________________________________________________________________________________________________\n",
      "block4a_project_bn (BatchNormal (None, None, None, 8 320         block4a_project_conv[0][0]       \n",
      "__________________________________________________________________________________________________\n",
      "block4b_expand_conv (Conv2D)    (None, None, None, 4 38400       block4a_project_bn[0][0]         \n",
      "__________________________________________________________________________________________________\n",
      "block4b_expand_bn (BatchNormali (None, None, None, 4 1920        block4b_expand_conv[0][0]        \n",
      "__________________________________________________________________________________________________\n",
      "block4b_expand_activation (Acti (None, None, None, 4 0           block4b_expand_bn[0][0]          \n",
      "__________________________________________________________________________________________________\n",
      "block4b_dwconv (DepthwiseConv2D (None, None, None, 4 4320        block4b_expand_activation[0][0]  \n",
      "__________________________________________________________________________________________________\n",
      "block4b_bn (BatchNormalization) (None, None, None, 4 1920        block4b_dwconv[0][0]             \n",
      "__________________________________________________________________________________________________\n",
      "block4b_activation (Activation) (None, None, None, 4 0           block4b_bn[0][0]                 \n",
      "__________________________________________________________________________________________________\n",
      "block4b_se_squeeze (GlobalAvera (None, 480)          0           block4b_activation[0][0]         \n",
      "__________________________________________________________________________________________________\n",
      "block4b_se_reshape (Reshape)    (None, 1, 1, 480)    0           block4b_se_squeeze[0][0]         \n",
      "__________________________________________________________________________________________________\n",
      "block4b_se_reduce (Conv2D)      (None, 1, 1, 20)     9620        block4b_se_reshape[0][0]         \n",
      "__________________________________________________________________________________________________\n",
      "block4b_se_expand (Conv2D)      (None, 1, 1, 480)    10080       block4b_se_reduce[0][0]          \n",
      "__________________________________________________________________________________________________\n",
      "block4b_se_excite (Multiply)    (None, None, None, 4 0           block4b_activation[0][0]         \n",
      "                                                                 block4b_se_expand[0][0]          \n",
      "__________________________________________________________________________________________________\n",
      "block4b_project_conv (Conv2D)   (None, None, None, 8 38400       block4b_se_excite[0][0]          \n",
      "__________________________________________________________________________________________________\n",
      "block4b_project_bn (BatchNormal (None, None, None, 8 320         block4b_project_conv[0][0]       \n",
      "__________________________________________________________________________________________________\n",
      "block4b_drop (Dropout)          (None, None, None, 8 0           block4b_project_bn[0][0]         \n",
      "__________________________________________________________________________________________________\n",
      "block4b_add (Add)               (None, None, None, 8 0           block4b_drop[0][0]               \n",
      "                                                                 block4a_project_bn[0][0]         \n",
      "__________________________________________________________________________________________________\n",
      "block4c_expand_conv (Conv2D)    (None, None, None, 4 38400       block4b_add[0][0]                \n",
      "__________________________________________________________________________________________________\n",
      "block4c_expand_bn (BatchNormali (None, None, None, 4 1920        block4c_expand_conv[0][0]        \n",
      "__________________________________________________________________________________________________\n",
      "block4c_expand_activation (Acti (None, None, None, 4 0           block4c_expand_bn[0][0]          \n",
      "__________________________________________________________________________________________________\n",
      "block4c_dwconv (DepthwiseConv2D (None, None, None, 4 4320        block4c_expand_activation[0][0]  \n",
      "__________________________________________________________________________________________________\n",
      "block4c_bn (BatchNormalization) (None, None, None, 4 1920        block4c_dwconv[0][0]             \n",
      "__________________________________________________________________________________________________\n",
      "block4c_activation (Activation) (None, None, None, 4 0           block4c_bn[0][0]                 \n",
      "__________________________________________________________________________________________________\n",
      "block4c_se_squeeze (GlobalAvera (None, 480)          0           block4c_activation[0][0]         \n",
      "__________________________________________________________________________________________________\n",
      "block4c_se_reshape (Reshape)    (None, 1, 1, 480)    0           block4c_se_squeeze[0][0]         \n",
      "__________________________________________________________________________________________________\n",
      "block4c_se_reduce (Conv2D)      (None, 1, 1, 20)     9620        block4c_se_reshape[0][0]         \n",
      "__________________________________________________________________________________________________\n",
      "block4c_se_expand (Conv2D)      (None, 1, 1, 480)    10080       block4c_se_reduce[0][0]          \n",
      "__________________________________________________________________________________________________\n",
      "block4c_se_excite (Multiply)    (None, None, None, 4 0           block4c_activation[0][0]         \n",
      "                                                                 block4c_se_expand[0][0]          \n",
      "__________________________________________________________________________________________________\n",
      "block4c_project_conv (Conv2D)   (None, None, None, 8 38400       block4c_se_excite[0][0]          \n",
      "__________________________________________________________________________________________________\n",
      "block4c_project_bn (BatchNormal (None, None, None, 8 320         block4c_project_conv[0][0]       \n",
      "__________________________________________________________________________________________________\n",
      "block4c_drop (Dropout)          (None, None, None, 8 0           block4c_project_bn[0][0]         \n",
      "__________________________________________________________________________________________________\n",
      "block4c_add (Add)               (None, None, None, 8 0           block4c_drop[0][0]               \n",
      "                                                                 block4b_add[0][0]                \n",
      "__________________________________________________________________________________________________\n",
      "block5a_expand_conv (Conv2D)    (None, None, None, 4 38400       block4c_add[0][0]                \n",
      "__________________________________________________________________________________________________\n",
      "block5a_expand_bn (BatchNormali (None, None, None, 4 1920        block5a_expand_conv[0][0]        \n",
      "__________________________________________________________________________________________________\n",
      "block5a_expand_activation (Acti (None, None, None, 4 0           block5a_expand_bn[0][0]          \n",
      "__________________________________________________________________________________________________\n",
      "block5a_dwconv (DepthwiseConv2D (None, None, None, 4 12000       block5a_expand_activation[0][0]  \n",
      "__________________________________________________________________________________________________\n",
      "block5a_bn (BatchNormalization) (None, None, None, 4 1920        block5a_dwconv[0][0]             \n",
      "__________________________________________________________________________________________________\n",
      "block5a_activation (Activation) (None, None, None, 4 0           block5a_bn[0][0]                 \n",
      "__________________________________________________________________________________________________\n",
      "block5a_se_squeeze (GlobalAvera (None, 480)          0           block5a_activation[0][0]         \n",
      "__________________________________________________________________________________________________\n",
      "block5a_se_reshape (Reshape)    (None, 1, 1, 480)    0           block5a_se_squeeze[0][0]         \n",
      "__________________________________________________________________________________________________\n",
      "block5a_se_reduce (Conv2D)      (None, 1, 1, 20)     9620        block5a_se_reshape[0][0]         \n",
      "__________________________________________________________________________________________________\n",
      "block5a_se_expand (Conv2D)      (None, 1, 1, 480)    10080       block5a_se_reduce[0][0]          \n",
      "__________________________________________________________________________________________________\n",
      "block5a_se_excite (Multiply)    (None, None, None, 4 0           block5a_activation[0][0]         \n",
      "                                                                 block5a_se_expand[0][0]          \n",
      "__________________________________________________________________________________________________\n",
      "block5a_project_conv (Conv2D)   (None, None, None, 1 53760       block5a_se_excite[0][0]          \n",
      "__________________________________________________________________________________________________\n",
      "block5a_project_bn (BatchNormal (None, None, None, 1 448         block5a_project_conv[0][0]       \n",
      "__________________________________________________________________________________________________\n",
      "block5b_expand_conv (Conv2D)    (None, None, None, 6 75264       block5a_project_bn[0][0]         \n",
      "__________________________________________________________________________________________________\n",
      "block5b_expand_bn (BatchNormali (None, None, None, 6 2688        block5b_expand_conv[0][0]        \n",
      "__________________________________________________________________________________________________\n",
      "block5b_expand_activation (Acti (None, None, None, 6 0           block5b_expand_bn[0][0]          \n",
      "__________________________________________________________________________________________________\n",
      "block5b_dwconv (DepthwiseConv2D (None, None, None, 6 16800       block5b_expand_activation[0][0]  \n",
      "__________________________________________________________________________________________________\n",
      "block5b_bn (BatchNormalization) (None, None, None, 6 2688        block5b_dwconv[0][0]             \n",
      "__________________________________________________________________________________________________\n",
      "block5b_activation (Activation) (None, None, None, 6 0           block5b_bn[0][0]                 \n",
      "__________________________________________________________________________________________________\n",
      "block5b_se_squeeze (GlobalAvera (None, 672)          0           block5b_activation[0][0]         \n",
      "__________________________________________________________________________________________________\n",
      "block5b_se_reshape (Reshape)    (None, 1, 1, 672)    0           block5b_se_squeeze[0][0]         \n",
      "__________________________________________________________________________________________________\n",
      "block5b_se_reduce (Conv2D)      (None, 1, 1, 28)     18844       block5b_se_reshape[0][0]         \n",
      "__________________________________________________________________________________________________\n",
      "block5b_se_expand (Conv2D)      (None, 1, 1, 672)    19488       block5b_se_reduce[0][0]          \n",
      "__________________________________________________________________________________________________\n",
      "block5b_se_excite (Multiply)    (None, None, None, 6 0           block5b_activation[0][0]         \n",
      "                                                                 block5b_se_expand[0][0]          \n",
      "__________________________________________________________________________________________________\n",
      "block5b_project_conv (Conv2D)   (None, None, None, 1 75264       block5b_se_excite[0][0]          \n",
      "__________________________________________________________________________________________________\n",
      "block5b_project_bn (BatchNormal (None, None, None, 1 448         block5b_project_conv[0][0]       \n",
      "__________________________________________________________________________________________________\n",
      "block5b_drop (Dropout)          (None, None, None, 1 0           block5b_project_bn[0][0]         \n",
      "__________________________________________________________________________________________________\n",
      "block5b_add (Add)               (None, None, None, 1 0           block5b_drop[0][0]               \n",
      "                                                                 block5a_project_bn[0][0]         \n",
      "__________________________________________________________________________________________________\n",
      "block5c_expand_conv (Conv2D)    (None, None, None, 6 75264       block5b_add[0][0]                \n",
      "__________________________________________________________________________________________________\n",
      "block5c_expand_bn (BatchNormali (None, None, None, 6 2688        block5c_expand_conv[0][0]        \n",
      "__________________________________________________________________________________________________\n",
      "block5c_expand_activation (Acti (None, None, None, 6 0           block5c_expand_bn[0][0]          \n",
      "__________________________________________________________________________________________________\n",
      "block5c_dwconv (DepthwiseConv2D (None, None, None, 6 16800       block5c_expand_activation[0][0]  \n",
      "__________________________________________________________________________________________________\n",
      "block5c_bn (BatchNormalization) (None, None, None, 6 2688        block5c_dwconv[0][0]             \n",
      "__________________________________________________________________________________________________\n",
      "block5c_activation (Activation) (None, None, None, 6 0           block5c_bn[0][0]                 \n",
      "__________________________________________________________________________________________________\n",
      "block5c_se_squeeze (GlobalAvera (None, 672)          0           block5c_activation[0][0]         \n",
      "__________________________________________________________________________________________________\n",
      "block5c_se_reshape (Reshape)    (None, 1, 1, 672)    0           block5c_se_squeeze[0][0]         \n",
      "__________________________________________________________________________________________________\n",
      "block5c_se_reduce (Conv2D)      (None, 1, 1, 28)     18844       block5c_se_reshape[0][0]         \n",
      "__________________________________________________________________________________________________\n",
      "block5c_se_expand (Conv2D)      (None, 1, 1, 672)    19488       block5c_se_reduce[0][0]          \n",
      "__________________________________________________________________________________________________\n",
      "block5c_se_excite (Multiply)    (None, None, None, 6 0           block5c_activation[0][0]         \n",
      "                                                                 block5c_se_expand[0][0]          \n",
      "__________________________________________________________________________________________________\n",
      "block5c_project_conv (Conv2D)   (None, None, None, 1 75264       block5c_se_excite[0][0]          \n",
      "__________________________________________________________________________________________________\n",
      "block5c_project_bn (BatchNormal (None, None, None, 1 448         block5c_project_conv[0][0]       \n",
      "__________________________________________________________________________________________________\n",
      "block5c_drop (Dropout)          (None, None, None, 1 0           block5c_project_bn[0][0]         \n",
      "__________________________________________________________________________________________________\n",
      "block5c_add (Add)               (None, None, None, 1 0           block5c_drop[0][0]               \n",
      "                                                                 block5b_add[0][0]                \n",
      "__________________________________________________________________________________________________\n",
      "block6a_expand_conv (Conv2D)    (None, None, None, 6 75264       block5c_add[0][0]                \n",
      "__________________________________________________________________________________________________\n",
      "block6a_expand_bn (BatchNormali (None, None, None, 6 2688        block6a_expand_conv[0][0]        \n",
      "__________________________________________________________________________________________________\n",
      "block6a_expand_activation (Acti (None, None, None, 6 0           block6a_expand_bn[0][0]          \n",
      "__________________________________________________________________________________________________\n",
      "block6a_dwconv_pad (ZeroPadding (None, None, None, 6 0           block6a_expand_activation[0][0]  \n",
      "__________________________________________________________________________________________________\n",
      "block6a_dwconv (DepthwiseConv2D (None, None, None, 6 16800       block6a_dwconv_pad[0][0]         \n",
      "__________________________________________________________________________________________________\n",
      "block6a_bn (BatchNormalization) (None, None, None, 6 2688        block6a_dwconv[0][0]             \n",
      "__________________________________________________________________________________________________\n",
      "block6a_activation (Activation) (None, None, None, 6 0           block6a_bn[0][0]                 \n",
      "__________________________________________________________________________________________________\n",
      "block6a_se_squeeze (GlobalAvera (None, 672)          0           block6a_activation[0][0]         \n",
      "__________________________________________________________________________________________________\n",
      "block6a_se_reshape (Reshape)    (None, 1, 1, 672)    0           block6a_se_squeeze[0][0]         \n",
      "__________________________________________________________________________________________________\n",
      "block6a_se_reduce (Conv2D)      (None, 1, 1, 28)     18844       block6a_se_reshape[0][0]         \n",
      "__________________________________________________________________________________________________\n",
      "block6a_se_expand (Conv2D)      (None, 1, 1, 672)    19488       block6a_se_reduce[0][0]          \n",
      "__________________________________________________________________________________________________\n",
      "block6a_se_excite (Multiply)    (None, None, None, 6 0           block6a_activation[0][0]         \n",
      "                                                                 block6a_se_expand[0][0]          \n",
      "__________________________________________________________________________________________________\n",
      "block6a_project_conv (Conv2D)   (None, None, None, 1 129024      block6a_se_excite[0][0]          \n",
      "__________________________________________________________________________________________________\n",
      "block6a_project_bn (BatchNormal (None, None, None, 1 768         block6a_project_conv[0][0]       \n",
      "__________________________________________________________________________________________________\n",
      "block6b_expand_conv (Conv2D)    (None, None, None, 1 221184      block6a_project_bn[0][0]         \n",
      "__________________________________________________________________________________________________\n",
      "block6b_expand_bn (BatchNormali (None, None, None, 1 4608        block6b_expand_conv[0][0]        \n",
      "__________________________________________________________________________________________________\n",
      "block6b_expand_activation (Acti (None, None, None, 1 0           block6b_expand_bn[0][0]          \n",
      "__________________________________________________________________________________________________\n",
      "block6b_dwconv (DepthwiseConv2D (None, None, None, 1 28800       block6b_expand_activation[0][0]  \n",
      "__________________________________________________________________________________________________\n",
      "block6b_bn (BatchNormalization) (None, None, None, 1 4608        block6b_dwconv[0][0]             \n",
      "__________________________________________________________________________________________________\n",
      "block6b_activation (Activation) (None, None, None, 1 0           block6b_bn[0][0]                 \n",
      "__________________________________________________________________________________________________\n",
      "block6b_se_squeeze (GlobalAvera (None, 1152)         0           block6b_activation[0][0]         \n",
      "__________________________________________________________________________________________________\n",
      "block6b_se_reshape (Reshape)    (None, 1, 1, 1152)   0           block6b_se_squeeze[0][0]         \n",
      "__________________________________________________________________________________________________\n",
      "block6b_se_reduce (Conv2D)      (None, 1, 1, 48)     55344       block6b_se_reshape[0][0]         \n",
      "__________________________________________________________________________________________________\n",
      "block6b_se_expand (Conv2D)      (None, 1, 1, 1152)   56448       block6b_se_reduce[0][0]          \n",
      "__________________________________________________________________________________________________\n",
      "block6b_se_excite (Multiply)    (None, None, None, 1 0           block6b_activation[0][0]         \n",
      "                                                                 block6b_se_expand[0][0]          \n",
      "__________________________________________________________________________________________________\n",
      "block6b_project_conv (Conv2D)   (None, None, None, 1 221184      block6b_se_excite[0][0]          \n",
      "__________________________________________________________________________________________________\n",
      "block6b_project_bn (BatchNormal (None, None, None, 1 768         block6b_project_conv[0][0]       \n",
      "__________________________________________________________________________________________________\n",
      "block6b_drop (Dropout)          (None, None, None, 1 0           block6b_project_bn[0][0]         \n",
      "__________________________________________________________________________________________________\n",
      "block6b_add (Add)               (None, None, None, 1 0           block6b_drop[0][0]               \n",
      "                                                                 block6a_project_bn[0][0]         \n",
      "__________________________________________________________________________________________________\n",
      "block6c_expand_conv (Conv2D)    (None, None, None, 1 221184      block6b_add[0][0]                \n",
      "__________________________________________________________________________________________________\n",
      "block6c_expand_bn (BatchNormali (None, None, None, 1 4608        block6c_expand_conv[0][0]        \n",
      "__________________________________________________________________________________________________\n",
      "block6c_expand_activation (Acti (None, None, None, 1 0           block6c_expand_bn[0][0]          \n",
      "__________________________________________________________________________________________________\n",
      "block6c_dwconv (DepthwiseConv2D (None, None, None, 1 28800       block6c_expand_activation[0][0]  \n",
      "__________________________________________________________________________________________________\n",
      "block6c_bn (BatchNormalization) (None, None, None, 1 4608        block6c_dwconv[0][0]             \n",
      "__________________________________________________________________________________________________\n",
      "block6c_activation (Activation) (None, None, None, 1 0           block6c_bn[0][0]                 \n",
      "__________________________________________________________________________________________________\n",
      "block6c_se_squeeze (GlobalAvera (None, 1152)         0           block6c_activation[0][0]         \n",
      "__________________________________________________________________________________________________\n",
      "block6c_se_reshape (Reshape)    (None, 1, 1, 1152)   0           block6c_se_squeeze[0][0]         \n",
      "__________________________________________________________________________________________________\n",
      "block6c_se_reduce (Conv2D)      (None, 1, 1, 48)     55344       block6c_se_reshape[0][0]         \n",
      "__________________________________________________________________________________________________\n",
      "block6c_se_expand (Conv2D)      (None, 1, 1, 1152)   56448       block6c_se_reduce[0][0]          \n",
      "__________________________________________________________________________________________________\n",
      "block6c_se_excite (Multiply)    (None, None, None, 1 0           block6c_activation[0][0]         \n",
      "                                                                 block6c_se_expand[0][0]          \n",
      "__________________________________________________________________________________________________\n",
      "block6c_project_conv (Conv2D)   (None, None, None, 1 221184      block6c_se_excite[0][0]          \n",
      "__________________________________________________________________________________________________\n",
      "block6c_project_bn (BatchNormal (None, None, None, 1 768         block6c_project_conv[0][0]       \n",
      "__________________________________________________________________________________________________\n",
      "block6c_drop (Dropout)          (None, None, None, 1 0           block6c_project_bn[0][0]         \n",
      "__________________________________________________________________________________________________\n",
      "block6c_add (Add)               (None, None, None, 1 0           block6c_drop[0][0]               \n",
      "                                                                 block6b_add[0][0]                \n",
      "__________________________________________________________________________________________________\n",
      "block6d_expand_conv (Conv2D)    (None, None, None, 1 221184      block6c_add[0][0]                \n",
      "__________________________________________________________________________________________________\n",
      "block6d_expand_bn (BatchNormali (None, None, None, 1 4608        block6d_expand_conv[0][0]        \n",
      "__________________________________________________________________________________________________\n",
      "block6d_expand_activation (Acti (None, None, None, 1 0           block6d_expand_bn[0][0]          \n",
      "__________________________________________________________________________________________________\n",
      "block6d_dwconv (DepthwiseConv2D (None, None, None, 1 28800       block6d_expand_activation[0][0]  \n",
      "__________________________________________________________________________________________________\n",
      "block6d_bn (BatchNormalization) (None, None, None, 1 4608        block6d_dwconv[0][0]             \n",
      "__________________________________________________________________________________________________\n",
      "block6d_activation (Activation) (None, None, None, 1 0           block6d_bn[0][0]                 \n",
      "__________________________________________________________________________________________________\n",
      "block6d_se_squeeze (GlobalAvera (None, 1152)         0           block6d_activation[0][0]         \n",
      "__________________________________________________________________________________________________\n",
      "block6d_se_reshape (Reshape)    (None, 1, 1, 1152)   0           block6d_se_squeeze[0][0]         \n",
      "__________________________________________________________________________________________________\n",
      "block6d_se_reduce (Conv2D)      (None, 1, 1, 48)     55344       block6d_se_reshape[0][0]         \n",
      "__________________________________________________________________________________________________\n",
      "block6d_se_expand (Conv2D)      (None, 1, 1, 1152)   56448       block6d_se_reduce[0][0]          \n",
      "__________________________________________________________________________________________________\n",
      "block6d_se_excite (Multiply)    (None, None, None, 1 0           block6d_activation[0][0]         \n",
      "                                                                 block6d_se_expand[0][0]          \n",
      "__________________________________________________________________________________________________\n",
      "block6d_project_conv (Conv2D)   (None, None, None, 1 221184      block6d_se_excite[0][0]          \n",
      "__________________________________________________________________________________________________\n",
      "block6d_project_bn (BatchNormal (None, None, None, 1 768         block6d_project_conv[0][0]       \n",
      "__________________________________________________________________________________________________\n",
      "block6d_drop (Dropout)          (None, None, None, 1 0           block6d_project_bn[0][0]         \n",
      "__________________________________________________________________________________________________\n",
      "block6d_add (Add)               (None, None, None, 1 0           block6d_drop[0][0]               \n",
      "                                                                 block6c_add[0][0]                \n",
      "__________________________________________________________________________________________________\n",
      "block7a_expand_conv (Conv2D)    (None, None, None, 1 221184      block6d_add[0][0]                \n",
      "__________________________________________________________________________________________________\n",
      "block7a_expand_bn (BatchNormali (None, None, None, 1 4608        block7a_expand_conv[0][0]        \n",
      "__________________________________________________________________________________________________\n",
      "block7a_expand_activation (Acti (None, None, None, 1 0           block7a_expand_bn[0][0]          \n",
      "__________________________________________________________________________________________________\n",
      "block7a_dwconv (DepthwiseConv2D (None, None, None, 1 10368       block7a_expand_activation[0][0]  \n",
      "__________________________________________________________________________________________________\n",
      "block7a_bn (BatchNormalization) (None, None, None, 1 4608        block7a_dwconv[0][0]             \n",
      "__________________________________________________________________________________________________\n",
      "block7a_activation (Activation) (None, None, None, 1 0           block7a_bn[0][0]                 \n",
      "__________________________________________________________________________________________________\n",
      "block7a_se_squeeze (GlobalAvera (None, 1152)         0           block7a_activation[0][0]         \n",
      "__________________________________________________________________________________________________\n",
      "block7a_se_reshape (Reshape)    (None, 1, 1, 1152)   0           block7a_se_squeeze[0][0]         \n",
      "__________________________________________________________________________________________________\n",
      "block7a_se_reduce (Conv2D)      (None, 1, 1, 48)     55344       block7a_se_reshape[0][0]         \n",
      "__________________________________________________________________________________________________\n",
      "block7a_se_expand (Conv2D)      (None, 1, 1, 1152)   56448       block7a_se_reduce[0][0]          \n",
      "__________________________________________________________________________________________________\n",
      "block7a_se_excite (Multiply)    (None, None, None, 1 0           block7a_activation[0][0]         \n",
      "                                                                 block7a_se_expand[0][0]          \n",
      "__________________________________________________________________________________________________\n",
      "block7a_project_conv (Conv2D)   (None, None, None, 3 368640      block7a_se_excite[0][0]          \n",
      "__________________________________________________________________________________________________\n",
      "block7a_project_bn (BatchNormal (None, None, None, 3 1280        block7a_project_conv[0][0]       \n",
      "__________________________________________________________________________________________________\n",
      "top_conv (Conv2D)               (None, None, None, 1 409600      block7a_project_bn[0][0]         \n",
      "__________________________________________________________________________________________________\n",
      "top_bn (BatchNormalization)     (None, None, None, 1 5120        top_conv[0][0]                   \n",
      "__________________________________________________________________________________________________\n",
      "top_activation (Activation)     (None, None, None, 1 0           top_bn[0][0]                     \n",
      "==================================================================================================\n",
      "Total params: 4,049,571\n",
      "Trainable params: 0\n",
      "Non-trainable params: 4,049,571\n",
      "__________________________________________________________________________________________________\n"
     ]
    }
   ],
   "source": [
    "base_model.summary()"
   ]
  },
  {
   "cell_type": "markdown",
   "metadata": {
    "id": "XZyIF_Zlu63C"
   },
   "source": [
    "Các bạn có thể thấy mỗi layer khác nhau lại có số lượng tham số nhất định. Vì chúng ta đang sử dụng pre-trained model nên có thể coi tất cả các tham số này là pattern mà base model học được trên một tập dữ liệu khác. Và do chúng ta đã đặt `base_model.trainable = False` nên các pattern này vẫn giữ nguyên như khi chúng đang huấn luyện (chúng bị đóng băng và không được cập nhật).\n",
    "\n",
    "Đó là base model, hãy xem summary của mô hình tổng thể."
   ]
  },
  {
   "cell_type": "code",
   "execution_count": null,
   "metadata": {
    "colab": {
     "base_uri": "https://localhost:8080/"
    },
    "id": "KGY1BjnzJDEx",
    "outputId": "67952c6a-3b30-4296-95d0-259e3abd3854"
   },
   "outputs": [
    {
     "name": "stdout",
     "output_type": "stream",
     "text": [
      "Model: \"model\"\n",
      "_________________________________________________________________\n",
      "Layer (type)                 Output Shape              Param #   \n",
      "=================================================================\n",
      "input_layer (InputLayer)     [(None, 224, 224, 3)]     0         \n",
      "_________________________________________________________________\n",
      "efficientnetb0 (Functional)  (None, None, None, 1280)  4049571   \n",
      "_________________________________________________________________\n",
      "global_average_pooling_layer (None, 1280)              0         \n",
      "_________________________________________________________________\n",
      "output_layer (Dense)         (None, 10)                12810     \n",
      "=================================================================\n",
      "Total params: 4,062,381\n",
      "Trainable params: 12,810\n",
      "Non-trainable params: 4,049,571\n",
      "_________________________________________________________________\n"
     ]
    }
   ],
   "source": [
    "# Kiểm tra summary của mô hình đã tạo với Functional API\n",
    "model_0.summary()"
   ]
  },
  {
   "cell_type": "markdown",
   "metadata": {
    "id": "ZmoVfJqgKoY5"
   },
   "source": [
    "Mô hình tổng thể có 5 layer, mỗi layer này (`efficientnetb0`) lại có 236 layer.\n",
    "\n",
    "Các bạn có thể thấy output shape bắt đầu là `(None, 224, 224, 3)`  cho layer đầu vào (shape của ảnh) nhưng được biến đổi thành `(None, 10)` do layer đầu ra (shape của nhãn), trong đó `None` là placeholder cho batch size.\n",
    "\n",
    "Các bạn cũng lưu ý những tham số chỉ có thể huấn luyện trong mô hình là các tham số trong layer đầu ra.\n",
    "\n",
    "Training curve của mô hình trông như thế nào?\n",
    "\n"
   ]
  },
  {
   "cell_type": "code",
   "execution_count": null,
   "metadata": {
    "colab": {
     "base_uri": "https://localhost:8080/",
     "height": 573
    },
    "id": "tWYqK_86xSUJ",
    "outputId": "816526b9-c38f-4319-8a8e-2e1846aa87cb"
   },
   "outputs": [
    {
     "data": {
      "image/png": "[encoded data removed]",
      "text/plain": [
       "<Figure size 432x288 with 1 Axes>"
      ]
     },
     "metadata": {
      "needs_background": "light",
      "tags": []
     },
     "output_type": "display_data"
    },
    {
     "data": {
      "image/png": "[encoded data removed]",
      "text/plain": [
       "<Figure size 432x288 with 1 Axes>"
      ]
     },
     "metadata": {
      "needs_background": "light",
      "tags": []
     },
     "output_type": "display_data"
    }
   ],
   "source": [
    "# Kiểm tra training curve của mô hình\n",
    "plot_loss_curves(history_10_percent)"
   ]
  },
  {
   "cell_type": "markdown",
   "metadata": {
    "id": "SBNakPyq3OyC"
   },
   "source": [
    "## Lấy vectơ đặc trưng từ mô hình đã huấn luyện\n",
    "\n",
    "> 🤔 **Câu hỏi:** Điều gì xảy ra với layer `tf.keras.layers.GlobalAveragePooling2D()`? Tôi chưa từng thấy điều này trước đó.\n",
    "\n",
    "Layer [`tf.keras.layers.GlobalAveragePooling2D()`](https://www.tensorflow.org/api_docs/python/tf/keras/layers/GlobalAveragePooling2D) biến đổi tensor 4D thành tensor 2D bằng cách tính trung bình các giá trị trên các trục bên trong.\n",
    "\n",
    "Câu trước hơi khó hiểu, hãy xem ví dụ sau."
   ]
  },
  {
   "cell_type": "code",
   "execution_count": null,
   "metadata": {
    "colab": {
     "base_uri": "https://localhost:8080/"
    },
    "id": "xYNLE0VU_c50",
    "outputId": "1a13f29e-39bc-4d5b-fe42-415282f8e3a0"
   },
   "outputs": [
    {
     "name": "stdout",
     "output_type": "stream",
     "text": [
      "Random input tensor:\n",
      " [[[[ 0.3274685  -0.8426258   0.3194337 ]\n",
      "   [-1.4075519  -2.3880599  -1.0392479 ]\n",
      "   [-0.5573232   0.539707    1.6994323 ]\n",
      "   [ 0.28893656 -1.5066116  -0.2645474 ]]\n",
      "\n",
      "  [[-0.59722406 -1.9171132  -0.62044144]\n",
      "   [ 0.8504023  -0.40604794 -3.0258412 ]\n",
      "   [ 0.9058464   0.29855987 -0.22561555]\n",
      "   [-0.7616443  -1.891714   -0.9384712 ]]\n",
      "\n",
      "  [[ 0.77852213 -0.47338897  0.97772694]\n",
      "   [ 0.24694404  0.20573747 -0.5256233 ]\n",
      "   [ 0.32410017  0.02545409 -0.10638497]\n",
      "   [-0.6369475   1.1603122   0.2507359 ]]\n",
      "\n",
      "  [[-0.41728497  0.40125778 -1.4145442 ]\n",
      "   [-0.5931857  -1.6617213   0.33567193]\n",
      "   [ 0.10815629  0.2347968  -0.56668764]\n",
      "   [-0.35819843  0.88698614  0.52744764]]]]\n",
      "\n",
      "2D global average pooled random tensor:\n",
      " [[-0.09368646 -0.45840448 -0.2885598 ]]\n",
      "\n",
      "Shape of input tensor: (1, 4, 4, 3)\n",
      "Shape of 2D global averaged pooled input tensor: (1, 3)\n"
     ]
    }
   ],
   "source": [
    "# Định nghĩa input tensor shape (có cùng số chiều như đầu ra của efficientnetb0)\n",
    "input_shape = (1, 4, 4, 3)\n",
    "\n",
    "# Tạo random tensor\n",
    "tf.random.set_seed(42)\n",
    "input_tensor = tf.random.normal(input_shape)\n",
    "print(f\"Random input tensor:\\n {input_tensor}\\n\")\n",
    "\n",
    "# Truyền random tensor qua global average pooling 2D layer\n",
    "global_average_pooled_tensor = tf.keras.layers.GlobalAveragePooling2D()(input_tensor)\n",
    "print(f\"2D global average pooled random tensor:\\n {global_average_pooled_tensor}\\n\")\n",
    "\n",
    "# Kiểm tra shape của các tensor khác nhau\n",
    "print(f\"Shape of input tensor: {input_tensor.shape}\")\n",
    "print(f\"Shape of 2D global averaged pooled input tensor: {global_average_pooled_tensor.shape}\")"
   ]
  },
  {
   "cell_type": "markdown",
   "metadata": {
    "id": "yq5RAKrENCpT"
   },
   "source": [
    "Các bạn sẽ thấy layer `tf.keras.layers.GlobalAveragePooling2D()` cô đặc tensor đầu vào từ shape `(1, 4, 4, 3)` thành `(1, 3)` bằng cách tính trung bình `input_tensor` qua hai trục ở giữa.\n",
    "\n",
    "Chúng ta có thể sao chép hoạt động này với `tf.reduce_mean()` và chỉ định các trục thích hợp."
   ]
  },
  {
   "cell_type": "code",
   "execution_count": null,
   "metadata": {
    "colab": {
     "base_uri": "https://localhost:8080/"
    },
    "id": "jBzN5HfAAUHx",
    "outputId": "bf06dcab-5432-42fb-a649-f3b0153591cc"
   },
   "outputs": [
    {
     "data": {
      "text/plain": [
       "<tf.Tensor: shape=(1, 3), dtype=float32, numpy=array([[-0.09368646, -0.45840448, -0.2885598 ]], dtype=float32)>"
      ]
     },
     "execution_count": 15,
     "metadata": {
      "tags": []
     },
     "output_type": "execute_result"
    }
   ],
   "source": [
    "# Điều này tương tự như GlobalAveragePooling2D()\n",
    "tf.reduce_mean(input_tensor, axis=[1, 2]) # tính trung bình qua các trục ở giữa"
   ]
  },
  {
   "cell_type": "markdown",
   "metadata": {
    "id": "urQv2FtCPS85"
   },
   "source": [
    "Thực hiện điều này không chỉ làm cho đầu ra của base model tương thích với yêu cầu về shape đầu ra của layer đầu ra (`tf.keras.layers.Dense()`) mà nó còn cô đặc thông tin mà base model tìm thấy thành **vectơ đặc trưng** ít chiều hơn.\n",
    "\n",
    "> 🔑 **Lưu ý:** Một trong những nguyên nhân mà feature extraction transfer learning được đặt tên như vậy là vì pretrained model thường sẽ xuất ra **feature vector (vectơ đặc trưng)** (tensor dài gồm các số, trong trường hợp này, nó là đầu ra của layer [`tf.keras.layers.GlobalAveragePooling2D()`](https://www.tensorflow.org/api_docs/python/tf/keras/layers/GlobalAveragePooling2D)), sau đó nó được dùng để trích xuất ra các pattern. \n",
    "\n",
    "> 🛠 **Luyện tập:** Thực hiện tương tự như cell trên nhưng cho [`tf.keras.layers.GlobalMaxPool2D()`](https://www.tensorflow.org/api_docs/python/tf/keras/layers/GlobalMaxPool2D)."
   ]
  },
  {
   "cell_type": "markdown",
   "metadata": {
    "id": "DafB65YULbRe"
   },
   "source": [
    "## Chạy một chuỗi các thử nghiệm transfer learning\n",
    "\n",
    "Chúng ta đã thấy các kết quả đáng kinh ngạc của transfer learning trên 10% dữ liệu huấn luyện, vậy còn trên 1% dữ liệu huấn luyện thì sao?\n",
    "\n",
    "Bạn nghĩ chúng ta sẽ thu được kết quả thế nào khi dùng ít hơn 100 lần dữ liệu so với mô hình CNN ban đầu mà chúng ta đã tự tạo?\n",
    "\n",
    "Hãy trả lời các câu hỏi này trong khi chạy các thử nghiệm lập mô hình sau:\n",
    "1. `model_1`: Sử dụng feature extraction transfer learning trên 1% dữ liệu huấn luyện với data augmentation.\n",
    "2. `model_2`: Sử dụng feature extraction transfer learning trên 10% dữ liệu huấn luyện với data augmentation.\n",
    "3. `model_3`: Sử dụng fine-tuning transfer learning trên 10% dữ liệu huấn luyện với data augmentation.\n",
    "4. `model_4`: Sử dụng fine-tuning transfer learning trên 100% dữ liệu huấn luyện với data augmentation.\n",
    "\n",
    "Trong khi tất cả các thử nghiệm trên sẽ chạy trên các phiên bản dữ liệu huấn luyện khác nhau, chúng đều sẽ được đánh giá trên cùng một tập kiểm tra, điều này đảm bảo kết quả của mỗi thử nghiệm có thể tương tự nhất có thể.\n",
    "\n",
    "Tất cả các thử nghiệm sẽ được thực hiện bằng mô hình `EfficientNetB0` trong mô-đun `tf.keras.applications`.\n",
    "\n",
    "Chúng ta sẽ dùng hàm `create_tensorboard_callback()` để ghi lại toàn bộ nhật ký huấn luyện của mô hình, đảm bảo chúng ta có thể theo dõi các thử nghiệm của mình.\n",
    "\n",
    "Chúng ta sẽ tạo từng mô hình sử dụng Keras Functional API và thay vì triển khai data augmentation trong lớp `ImageDataGenerator` như chúng ta có trước đó, chúng ta sẽ xây dựng nó ngay trong mô hình nhờ mô-đun [`tf.keras.layers.experimental.preprocessing`](https://www.tensorflow.org/api_docs/python/tf/keras/layers/experimental/preprocessing).\n",
    "\n",
    "Hãy bắt đầu bằng cách download dữ liệu cho thử nghiệm 1, sử dụng feature extraction transfer learning trên 1% dữ liệu huấn luyện với data augmentation."
   ]
  },
  {
   "cell_type": "code",
   "execution_count": null,
   "metadata": {
    "colab": {
     "base_uri": "https://localhost:8080/"
    },
    "id": "2P1rLJmaCXZN",
    "outputId": "0630e683-7dbd-41ad-9f8b-be4fdebb0738"
   },
   "outputs": [
    {
     "name": "stdout",
     "output_type": "stream",
     "text": [
      "--2021-02-16 02:15:55--  https://storage.googleapis.com/ztm_tf_course/food_vision/10_food_classes_1_percent.zip\n",
      "Resolving storage.googleapis.com (storage.googleapis.com)... 172.217.7.208, 172.217.9.208, 172.217.15.112, ...\n",
      "Connecting to storage.googleapis.com (storage.googleapis.com)|172.217.7.208|:443... connected.\n",
      "HTTP request sent, awaiting response... 200 OK\n",
      "Length: 133612354 (127M) [application/zip]\n",
      "Saving to: ‘10_food_classes_1_percent.zip.1’\n",
      "\n",
      "10_food_classes_1_p 100%[===================>] 127.42M   194MB/s    in 0.7s    \n",
      "\n",
      "2021-02-16 02:15:56 (194 MB/s) - ‘10_food_classes_1_percent.zip.1’ saved [133612354/133612354]\n",
      "\n"
     ]
    }
   ],
   "source": [
    "# Download và giải nén dữ liệu\n",
    "!wget https://storage.googleapis.com/ztm_tf_course/food_vision/10_food_classes_1_percent.zip\n",
    "unzip_data(\"10_food_classes_1_percent.zip\")\n",
    "\n",
    "# Tạo các training/test dir\n",
    "train_dir_1_percent = \"10_food_classes_1_percent/train/\"\n",
    "test_dir = \"10_food_classes_1_percent/test/\""
   ]
  },
  {
   "cell_type": "markdown",
   "metadata": {
    "id": "8hnXOA1EoyRF"
   },
   "source": [
    "Chúng ta đang hoạt động với bao nhiêu ảnh?"
   ]
  },
  {
   "cell_type": "code",
   "execution_count": null,
   "metadata": {
    "colab": {
     "base_uri": "https://localhost:8080/"
    },
    "id": "sqoi0htuo6Sb",
    "outputId": "b1e9104a-39b8-4634-e60c-b09d7ccbdb11"
   },
   "outputs": [
    {
     "name": "stdout",
     "output_type": "stream",
     "text": [
      "There are 2 directories and 0 images in '10_food_classes_1_percent'.\n",
      "There are 10 directories and 0 images in '10_food_classes_1_percent/train'.\n",
      "There are 0 directories and 7 images in '10_food_classes_1_percent/train/ice_cream'.\n",
      "There are 0 directories and 7 images in '10_food_classes_1_percent/train/ramen'.\n",
      "There are 0 directories and 7 images in '10_food_classes_1_percent/train/chicken_wings'.\n",
      "There are 0 directories and 7 images in '10_food_classes_1_percent/train/pizza'.\n",
      "There are 0 directories and 7 images in '10_food_classes_1_percent/train/steak'.\n",
      "There are 0 directories and 7 images in '10_food_classes_1_percent/train/fried_rice'.\n",
      "There are 0 directories and 7 images in '10_food_classes_1_percent/train/hamburger'.\n",
      "There are 0 directories and 7 images in '10_food_classes_1_percent/train/grilled_salmon'.\n",
      "There are 0 directories and 7 images in '10_food_classes_1_percent/train/sushi'.\n",
      "There are 0 directories and 7 images in '10_food_classes_1_percent/train/chicken_curry'.\n",
      "There are 10 directories and 0 images in '10_food_classes_1_percent/test'.\n",
      "There are 0 directories and 250 images in '10_food_classes_1_percent/test/ice_cream'.\n",
      "There are 0 directories and 250 images in '10_food_classes_1_percent/test/ramen'.\n",
      "There are 0 directories and 250 images in '10_food_classes_1_percent/test/chicken_wings'.\n",
      "There are 0 directories and 250 images in '10_food_classes_1_percent/test/pizza'.\n",
      "There are 0 directories and 250 images in '10_food_classes_1_percent/test/steak'.\n",
      "There are 0 directories and 250 images in '10_food_classes_1_percent/test/fried_rice'.\n",
      "There are 0 directories and 250 images in '10_food_classes_1_percent/test/hamburger'.\n",
      "There are 0 directories and 250 images in '10_food_classes_1_percent/test/grilled_salmon'.\n",
      "There are 0 directories and 250 images in '10_food_classes_1_percent/test/sushi'.\n",
      "There are 0 directories and 250 images in '10_food_classes_1_percent/test/chicken_curry'.\n"
     ]
    }
   ],
   "source": [
    "# Xem qua 1% directory dữ liệu và liệt kê số lượng file\n",
    "walk_through_dir(\"10_food_classes_1_percent\")"
   ]
  },
  {
   "cell_type": "markdown",
   "metadata": {
    "id": "QEC70hlwo_mB"
   },
   "source": [
    "Có vẻ chúng ta chỉ có 7 ảnh mỗi lớp, điều này khá thách thức với mô hình của chúng ta.\n",
    "\n",
    "> 🔑 **Lưu ý:** Với 10% của tập dữ liệu con, sẽ có 1% ảnh được chọn ngẫu nhiên từ tập huấn luyện đầy đủ ban đầu. Các ảnh kiểm tra cũng tương tự như những cái mà chúng ta đã sử dụng trước đó. Xem [notebook về Food Vision Image Preprocessing](https://github.com/mrdbourke/tensorflow-deep-learning/blob/main/extras/image_data_modification.ipynb) để biết cách tiền xử lý dữ liệu này.\n",
    "\n",
    "Đã đến lúc laod ảnh trong đối tượng `tf.data.Dataset`, hãy dùng phương thức [`image_dataset_from_directory()`](https://www.tensorflow.org/api_docs/python/tf/keras/preprocessing/image_dataset_from_directory)."
   ]
  },
  {
   "cell_type": "code",
   "execution_count": null,
   "metadata": {
    "colab": {
     "base_uri": "https://localhost:8080/"
    },
    "id": "Llh9sHmdtgf6",
    "outputId": "5b4b9938-8d4a-4714-cdc7-ce0c837cc471"
   },
   "outputs": [
    {
     "name": "stdout",
     "output_type": "stream",
     "text": [
      "Found 70 files belonging to 10 classes.\n",
      "Found 2500 files belonging to 10 classes.\n"
     ]
    }
   ],
   "source": [
    "import tensorflow as tf\n",
    "IMG_SIZE = (224, 224)\n",
    "train_data_1_percent = tf.keras.preprocessing.image_dataset_from_directory(train_dir_1_percent,\n",
    "                                                                           label_mode=\"categorical\",\n",
    "                                                                           batch_size=32, # mặc định\n",
    "                                                                           image_size=IMG_SIZE)\n",
    "test_data = tf.keras.preprocessing.image_dataset_from_directory(test_dir,\n",
    "                                                                label_mode=\"categorical\",\n",
    "                                                                image_size=IMG_SIZE)"
   ]
  },
  {
   "cell_type": "markdown",
   "metadata": {
    "id": "-D4po3S-qNJ-"
   },
   "source": [
    "Dữ liệu đã được load, hãy tăng cường nó."
   ]
  },
  {
   "cell_type": "markdown",
   "metadata": {
    "id": "zl8lSdTjDTCV"
   },
   "source": [
    "### Thêm data augmentation ngay vào mô hình\n",
    "\n",
    "Trước đó, chúng ta đã dùng các tham số khác nhau của lớp `ImageDataGenerator`  để tăng cường các ảnh huấn luyện, lần này chúng ta sẽ xây dựng data augmentation ngay vào mô hình.\n",
    "\n",
    "Bằng cách nào?\n",
    "\n",
    "Bằng cách sử dụng mô-đun [`tf.keras.layers.experimental.preprocessing`](https://www.tensorflow.org/api_docs/python/tf/keras/layers/experimental/preprocessing) và tạo layer tăng cường dữ liệu chuyên dụng.\n",
    "\n",
    "Đây là đặc trưng tương đối mới được thêm vào TensorFlow 2.2+ nhưng nó rất mạnh mẽ. Việc thêm layer tăng cường dữ liệu vào mô hình có những lợi ích sau:\n",
    "* Tiền xử lý ảnh (tăng cường chúng) diễn ra trên GPU chứ không phải trên CPU (nhanh hơn).\n",
    "  * Ảnh được tiền xử lý tốt nhất trên GPU trong khi dữ liệu văn bản và dữ liệu có cấu trúc thích hợp để tiền xử lý trên CPU hơn.\n",
    "* Tăng cường dữ liệu hình ảnh chỉ diễn ra trong quá trình huấn luyện do đó chúng ta vẫn có thể xuất toàn bộ mô hình và sử dụng nó ở đâu đó. Và nếu ai đó khác muốn huấn luyện mô hình giống với mô hình của chúng ta, gồm kiểu tăng cường dữ liệu tương tự thì họ cũng có thể.\n",
    "\n",
    "![](https://raw.githubusercontent.com/mrdbourke/tensorflow-deep-learning/main/images/05-data-augmentation-inside-a-model.png)\n",
    "*Ví dụ về việc sử dụng data augmentation làm layer đầu tiên trong một mô hình (EfficientNetB0).* \n",
    "\n",
    "> 🤔 **Lưu ý:** Lúc viết, các layer tiền xử lý mà chúng ta dùng cho data augmentation sẽ ở trạng thái *thực nghiệm* trong thư viện TensorFlow. Điều này có nghĩa là mặc dù các layer có thể coi là ổn định thì code cũng có thể thay đổi một chút ở phiên bản TensorFlow tương lai. Để biết thêm thông tin về các layer tiền xử lý sẵn có khác và các phương pháp tăng cường dữ liệu khác nhau, hãy xem [hướng dẫn về Keras preprocessing layer](https://keras.io/guides/preprocessing_layers/) và [hướng dẫn về TensorFlow data augmentation](https://www.tensorflow.org/tutorials/images/data_augmentation).\n",
    "\n",
    "Để sử dụng data augmentation ngay trong mô hình, chúng ta sẽ tạo mô hình Keras Sequential chỉ có các layer tiền xử lý dữ liệu, sau đó dùng mô hình Sequential này trong một mô hình Functional khác.\n",
    "\n",
    "Nghe có vẻ khó hiểu, nhưng điều này sẽ rõ ràng hơn khi chúng ta tạo trong code.\n",
    "\n",
    "Chúng ta sẽ dùng các phép biến đổi data augmentation:\n",
    "* [RandomFlip](https://www.tensorflow.org/api_docs/python/tf/keras/layers/experimental/preprocessing/RandomFlip) - lật ảnh trên trục ngang hoặc trục dọc.\n",
    "* [RandomRotation](https://www.tensorflow.org/api_docs/python/tf/keras/layers/experimental/preprocessing/RandomRotation) - xoay ngẫu nhiên ảnh theo lượng đã chỉ định.\n",
    "* [RandomZoom](https://www.tensorflow.org/api_docs/python/tf/keras/layers/experimental/preprocessing/RandomZoom) - phóng to ngẫu nhiên ảnh theo lượng đã chỉ định.\n",
    "* [RandomHeight](https://www.tensorflow.org/api_docs/python/tf/keras/layers/experimental/preprocessing/RandomHeight) - thay đổi ngẫu nhiên chiều cao của ảnh theo lượng đã chỉ định.\n",
    "* [RandomWidth](https://www.tensorflow.org/api_docs/python/tf/keras/layers/experimental/preprocessing/RandomWidth) - thay đổi ngẫu nhiên chiều rộng của ảnh theo lượng đã chỉ định.\n",
    "* [Rescaling](https://www.tensorflow.org/api_docs/python/tf/keras/layers/experimental/preprocessing/Rescaling) - chuẩn hóa giá trị điểm ảnh thành giá trị trong khoảng 0-1, điều này đáng nói vì nó bắt buộc với một số mô hình ảnh nhưng khi chúng ta sử dụng triển khai `tf.keras.applications` của `EfficientNetB0` thì nó không còn bắt buộc nữa.\n",
    "\n",
    "Có nhiều lựa chọn hơn nhưng bây giờ chúng ta sẽ thực hiện điều này."
   ]
  },
  {
   "cell_type": "code",
   "execution_count": 1,
   "metadata": {
    "id": "bjHAalnakGEu"
   },
   "outputs": [
    {
     "name": "stderr",
     "output_type": "stream",
     "text": [
      "2022-08-19 13:33:43.205341: I tensorflow/core/platform/cpu_feature_guard.cc:193] This TensorFlow binary is optimized with oneAPI Deep Neural Network Library (oneDNN) to use the following CPU instructions in performance-critical operations:  AVX2 FMA\n",
      "To enable them in other operations, rebuild TensorFlow with the appropriate compiler flags.\n"
     ]
    }
   ],
   "source": [
    "import tensorflow as tf\n",
    "from tensorflow import keras\n",
    "from tensorflow.keras import layers\n",
    "from tensorflow.keras.layers.experimental import preprocessing\n",
    "\n",
    "# Tạo data augmentation stage với horizontal flipping, rotation, zoom\n",
    "data_augmentation = keras.Sequential([\n",
    "  preprocessing.RandomFlip(\"horizontal\"),\n",
    "  preprocessing.RandomRotation(0.2),\n",
    "  preprocessing.RandomZoom(0.2),\n",
    "  preprocessing.RandomHeight(0.2),\n",
    "  preprocessing.RandomWidth(0.2),\n",
    "  # preprocessing.Rescaling(1./255) # giữ cho ResNet50V2, loại với EfficientNetB0\n",
    "], name =\"data_augmentation\")"
   ]
  },
  {
   "cell_type": "markdown",
   "metadata": {
    "id": "XkeE62wxuyXG"
   },
   "source": [
    "Chính là nó! Mô hình tuần tự tăng cường dữ liệu đã sẵn sàng. Ngay sau đó các bạn sẽ thấy chúng ta có thể sắp xếp \"mô hình\" này thành layer vào mô hình transfer learning sau.\n",
    "\n",
    "Nhưng trước đó, hãy kiểm tra nó bằng cách truyền các ảnh ngẫu nhiên vào."
   ]
  },
  {
   "cell_type": "code",
   "execution_count": 2,
   "metadata": {
    "colab": {
     "base_uri": "https://localhost:8080/",
     "height": 511
    },
    "id": "VBWXrlJXwKkE",
    "outputId": "ccd983e7-9bff-4540-8ec7-0d00e26506fc"
   },
   "outputs": [
    {
     "ename": "NameError",
     "evalue": "name 'train_data_1_percent' is not defined",
     "output_type": "error",
     "traceback": [
      "\u001b[0;31m---------------------------------------------------------------------------\u001b[0m",
      "\u001b[0;31mNameError\u001b[0m                                 Traceback (most recent call last)",
      "\u001b[0;32m/var/folders/3g/k66zmqg90ws58shd9ms6jwyw0000gn/T/ipykernel_9712/3572662448.py\u001b[0m in \u001b[0;36m<module>\u001b[0;34m\u001b[0m\n\u001b[1;32m      4\u001b[0m \u001b[0;32mimport\u001b[0m \u001b[0mos\u001b[0m\u001b[0;34m\u001b[0m\u001b[0;34m\u001b[0m\u001b[0m\n\u001b[1;32m      5\u001b[0m \u001b[0;32mimport\u001b[0m \u001b[0mrandom\u001b[0m\u001b[0;34m\u001b[0m\u001b[0;34m\u001b[0m\u001b[0m\n\u001b[0;32m----> 6\u001b[0;31m \u001b[0mtarget_class\u001b[0m \u001b[0;34m=\u001b[0m \u001b[0mrandom\u001b[0m\u001b[0;34m.\u001b[0m\u001b[0mchoice\u001b[0m\u001b[0;34m(\u001b[0m\u001b[0mtrain_data_1_percent\u001b[0m\u001b[0;34m.\u001b[0m\u001b[0mclass_names\u001b[0m\u001b[0;34m)\u001b[0m \u001b[0;31m# chọn một class ngẫu nhiên\u001b[0m\u001b[0;34m\u001b[0m\u001b[0;34m\u001b[0m\u001b[0m\n\u001b[0m\u001b[1;32m      7\u001b[0m \u001b[0mtarget_dir\u001b[0m \u001b[0;34m=\u001b[0m \u001b[0;34m\"10_food_classes_1_percent/train/\"\u001b[0m \u001b[0;34m+\u001b[0m \u001b[0mtarget_class\u001b[0m \u001b[0;31m# tạo directory đích\u001b[0m\u001b[0;34m\u001b[0m\u001b[0;34m\u001b[0m\u001b[0m\n\u001b[1;32m      8\u001b[0m \u001b[0mrandom_image\u001b[0m \u001b[0;34m=\u001b[0m \u001b[0mrandom\u001b[0m\u001b[0;34m.\u001b[0m\u001b[0mchoice\u001b[0m\u001b[0;34m(\u001b[0m\u001b[0mos\u001b[0m\u001b[0;34m.\u001b[0m\u001b[0mlistdir\u001b[0m\u001b[0;34m(\u001b[0m\u001b[0mtarget_dir\u001b[0m\u001b[0;34m)\u001b[0m\u001b[0;34m)\u001b[0m \u001b[0;31m# chọn một ảnh ngẫu nhiên từ directory đích\u001b[0m\u001b[0;34m\u001b[0m\u001b[0;34m\u001b[0m\u001b[0m\n",
      "\u001b[0;31mNameError\u001b[0m: name 'train_data_1_percent' is not defined"
     ]
    }
   ],
   "source": [
    "# Xem ảnh ngẫu nhiên\n",
    "import matplotlib.pyplot as plt\n",
    "import matplotlib.image as mpimg\n",
    "import os\n",
    "import random\n",
    "target_class = random.choice(train_data_1_percent.class_names) # chọn một class ngẫu nhiên\n",
    "target_dir = \"10_food_classes_1_percent/train/\" + target_class # tạo directory đích\n",
    "random_image = random.choice(os.listdir(target_dir)) # chọn một ảnh ngẫu nhiên từ directory đích\n",
    "random_image_path = target_dir + \"/\" + random_image # tạo đường dẫn ảnh ngẫu nhiên đã chọn \n",
    "img = mpimg.imread(random_image_path) # đọc trong ảnh mục tiêu đã chọn\n",
    "plt.imshow(img) # vẽ ảnh mục tiêu\n",
    "plt.title(f\"Original random image from class: {target_class}\")\n",
    "plt.axis(False); # turn-off các trục \n",
    "\n",
    "# Tăng cường ảnh\n",
    "augmented_img = data_augmentation(tf.expand_dims(img, axis=0)) # mô hình data augmentation yêu cầu shape (None, height, width, 3)\n",
    "plt.figure()\n",
    "plt.imshow(tf.squeeze(augmented_img)/255.) # yêu cầu chuẩn hóa sau khi tăng cường\n",
    "plt.title(f\"Augmented random image from class: {target_class}\")\n",
    "plt.axis(False);"
   ]
  },
  {
   "cell_type": "markdown",
   "metadata": {
    "id": "b8UwsBz1xF_H"
   },
   "source": [
    "Chạy cell trên vài lần và bạn sẽ thấy các tăng cường ngẫu nhiên khác nhau ở các lớp ảnh khác nhau. Vì chúng ta sẽ thêm mô hình data augmentation làm layer trong mô hình transfer learning sắp tới nên nó sẽ áp dụng các kiểu tăng cường ngẫu nhiên này cho từng ảnh huấn luyện đi qua nó.\n",
    "\n",
    "Điều này sẽ khiến tập huấn luyện đa dạng hơn một chút. Các bạn có thể coi như chúng ta đang chụp ảnh thức ăn trong thực tế, không phải tất cả các ảnh đều sẽ hoàn hảo nhưng một số trong chúng sẽ được định hướng theo các cách khác thường. Chúng là những loại ảnh mà chúng ta muốn mô hình xử lý.\n",
    "\n",
    "Còn về mô hình, hãy xây dựng một mô hình với Functional API. Chúng ta sẽ chạy qua các bước tương tự như trước, trừ một điểm khác là chúng ta sẽ thêm mô hình tuần tự tăng cường dữ liệu làm layer ngay sau layer đầu vào."
   ]
  },
  {
   "cell_type": "markdown",
   "metadata": {
    "id": "koH2FCIaAVe9"
   },
   "source": [
    "## Mô hình 1: Feature extraction transfer learning trên 1% dữ liệu với data augmentation"
   ]
  },
  {
   "cell_type": "code",
   "execution_count": null,
   "metadata": {
    "colab": {
     "base_uri": "https://localhost:8080/"
    },
    "id": "xbj-Z7Bhut-Y",
    "outputId": "b6fb03ce-c99e-496e-9b67-dd8c504238e4"
   },
   "outputs": [
    {
     "name": "stdout",
     "output_type": "stream",
     "text": [
      "Saving TensorBoard log files to: transfer_learning/1_percent_data_aug/20210216-021736\n",
      "Epoch 1/5\n",
      "3/3 [==============================] - 10s 2s/step - loss: 2.4533 - accuracy: 0.0299 - val_loss: 2.2204 - val_accuracy: 0.1645\n",
      "Epoch 2/5\n",
      "3/3 [==============================] - 4s 2s/step - loss: 2.1931 - accuracy: 0.0897 - val_loss: 2.0827 - val_accuracy: 0.2796\n",
      "Epoch 3/5\n",
      "3/3 [==============================] - 4s 2s/step - loss: 1.9338 - accuracy: 0.4006 - val_loss: 1.9872 - val_accuracy: 0.3536\n",
      "Epoch 4/5\n",
      "3/3 [==============================] - 4s 2s/step - loss: 1.8485 - accuracy: 0.4954 - val_loss: 1.8808 - val_accuracy: 0.4095\n",
      "Epoch 5/5\n",
      "3/3 [==============================] - 4s 2s/step - loss: 1.7186 - accuracy: 0.5845 - val_loss: 1.7857 - val_accuracy: 0.5099\n"
     ]
    }
   ],
   "source": [
    "# Thiết lập shape đầu vào và base model, đóng băng các layer của base model\n",
    "input_shape = (224, 224, 3)\n",
    "base_model = tf.keras.applications.EfficientNetB0(include_top=False)\n",
    "base_model.trainable = False\n",
    "\n",
    "# Tạo layer đầu vào\n",
    "inputs = layers.Input(shape=input_shape, name=\"input_layer\")\n",
    "\n",
    "# Thêm vào mô hình tuần tự tăng cường dữ liệu dưới dạng layer\n",
    "x = data_augmentation(inputs)\n",
    "\n",
    "# Cung cấp đầu vào cho base_model (sau khi tăng cường) và không huấn luyện nó \n",
    "x = base_model(x, training=False)\n",
    "\n",
    "# Gộp các đặc trưng đầu ra của base model\n",
    "x = layers.GlobalAveragePooling2D(name=\"global_average_pooling_layer\")(x)\n",
    "\n",
    "# Đặt dense layer làm đầu ra\n",
    "outputs = layers.Dense(10, activation=\"softmax\", name=\"output_layer\")(x)\n",
    "\n",
    "# Tạo mô hình với đầu vào và đầu ra\n",
    "model_1 = keras.Model(inputs, outputs)\n",
    "\n",
    "# Biên dịch mô hình\n",
    "model_1.compile(loss=\"categorical_crossentropy\",\n",
    "              optimizer=tf.keras.optimizers.Adam(),\n",
    "              metrics=[\"accuracy\"])\n",
    "\n",
    "# Khớp mô hình\n",
    "history_1_percent = model_1.fit(train_data_1_percent,\n",
    "                    epochs=5,\n",
    "                    steps_per_epoch=len(train_data_1_percent),\n",
    "                    validation_data=test_data,\n",
    "                    validation_steps=int(0.25* len(test_data)), # xác thực cho ít bước hơn\n",
    "                    # Theo dõi nhật ký huấn luyện mô hình\n",
    "                    callbacks=[create_tensorboard_callback(\"transfer_learning\", \"1_percent_data_aug\")])"
   ]
  },
  {
   "cell_type": "markdown",
   "metadata": {
    "id": "svhrIqgCi27C"
   },
   "source": [
    "Thật thú vị! Chỉ với 7 ảnh huấn luyện mỗi lớp, việc dùng transfer learning giúp mô hình của chúng ta đạt được độ chính xác ~40% trên tập kiểm định. Kết quả này rất đáng ngạc nhiên vì [tài liệu Food-101 ban đầu](https://data.vision.ee.ethz.ch/cvl/datasets_extra/food-101/static/bossard_eccv14_food-101.pdf) thu được độ chính xác 50.67% với toàn bộ dữ liệu gồm 750 ảnh huấn luyện mỗi lớp (**lưu ý:** phép đo này là trên 101 lớp chứ không phải 10 lớp, chúng ta sẽ đo trên 101 lớp sau.)\n",
    "\n",
    "Nếu kiểm tra summary của mô hình, chúng ta sẽ thấy layer tăng cường dữ liệu chỉ sau layer đầu vào."
   ]
  },
  {
   "cell_type": "code",
   "execution_count": null,
   "metadata": {
    "colab": {
     "base_uri": "https://localhost:8080/"
    },
    "id": "lloN15WdPkgb",
    "outputId": "e79a8aa2-44c5-4ba7-b6bc-54844e4d24f3"
   },
   "outputs": [
    {
     "name": "stdout",
     "output_type": "stream",
     "text": [
      "Model: \"model_1\"\n",
      "_________________________________________________________________\n",
      "Layer (type)                 Output Shape              Param #   \n",
      "=================================================================\n",
      "input_layer (InputLayer)     [(None, 224, 224, 3)]     0         \n",
      "_________________________________________________________________\n",
      "data_augmentation (Sequentia (None, None, None, 3)     0         \n",
      "_________________________________________________________________\n",
      "efficientnetb0 (Functional)  (None, None, None, 1280)  4049571   \n",
      "_________________________________________________________________\n",
      "global_average_pooling_layer (None, 1280)              0         \n",
      "_________________________________________________________________\n",
      "output_layer (Dense)         (None, 10)                12810     \n",
      "=================================================================\n",
      "Total params: 4,062,381\n",
      "Trainable params: 12,810\n",
      "Non-trainable params: 4,049,571\n",
      "_________________________________________________________________\n"
     ]
    }
   ],
   "source": [
    "# Kiểm tra summary của mô hình\n",
    "model_1.summary()"
   ]
  },
  {
   "cell_type": "markdown",
   "metadata": {
    "id": "EPwjk5CAj9cZ"
   },
   "source": [
    "Đây rồi. Data augmentation đã được xây dựng ngay trong mô hình của chúng ta. Điều này nghĩa là nếu chúng ta lưu và load lại nó ở một nơi khác thì lớp tăng cường dữ liệu sẽ xuất hiện kèm với nó.\n",
    "\n",
    "Cần nhớ rằng **data augmentation chỉ chạy trong quá trình huấn luyện**. Do đó nếu muốn đánh giá hoặc sử dụng mô hình để suy luận (dự đoán lớp của ảnh) thì layer tăng cường dữ liệu sẽ tự động bị tắt.\n",
    "\n",
    "Để xem điều này hoạt động ra sao, hãy đánh giá mô hình trên dữ liệu kiểm tra."
   ]
  },
  {
   "cell_type": "code",
   "execution_count": null,
   "metadata": {
    "colab": {
     "base_uri": "https://localhost:8080/"
    },
    "id": "RgWXERdy8nXP",
    "outputId": "8c18041b-6107-4d1c-bc54-59e2bc189a8a"
   },
   "outputs": [
    {
     "name": "stdout",
     "output_type": "stream",
     "text": [
      "79/79 [==============================] - 10s 122ms/step - loss: 1.8055 - accuracy: 0.4728\n"
     ]
    },
    {
     "data": {
      "text/plain": [
       "[1.8054912090301514, 0.47279998660087585]"
      ]
     },
     "execution_count": 24,
     "metadata": {
      "tags": []
     },
     "output_type": "execute_result"
    }
   ],
   "source": [
    "# Đánh giá trên dữ liệu kiểm tra\n",
    "results_1_percent_data_aug = model_1.evaluate(test_data)\n",
    "results_1_percent_data_aug"
   ]
  },
  {
   "cell_type": "markdown",
   "metadata": {
    "id": "OABaDYcokefk"
   },
   "source": [
    "Kết quả ở đây có thể tốt hơn/kém hơn một chút so với đầu ra nhật ký của mô hình trong quá trình huấn luyện vì trong quá trình huấn luyện, chúng ta chỉ đánh giá mô hình trên 25% dữ liệu kiểm tra với dòng `validation_steps=int(0.25 * len(test_data))`. Điều này tăng tốc các epoch nhưng vẫn giúp chúng ta nắm được cách mô hình hoạt động.\n",
    "\n",
    "Hãy kiểm tra loss curve của mô hình."
   ]
  },
  {
   "cell_type": "code",
   "execution_count": null,
   "metadata": {
    "colab": {
     "base_uri": "https://localhost:8080/",
     "height": 573
    },
    "id": "ShCcuguspbyz",
    "outputId": "e45a0cd2-5ce5-4266-fdde-6fabfc91a6a9"
   },
   "outputs": [
    {
     "data": {
      "image/png": "[encoded data removed]",
      "text/plain": [
       "<Figure size 432x288 with 1 Axes>"
      ]
     },
     "metadata": {
      "needs_background": "light",
      "tags": []
     },
     "output_type": "display_data"
    },
    {
     "data": {
      "image/png": "[encoded data removed]",
      "text/plain": [
       "<Figure size 432x288 with 1 Axes>"
      ]
     },
     "metadata": {
      "needs_background": "light",
      "tags": []
     },
     "output_type": "display_data"
    }
   ],
   "source": [
    "# Mô hình hoạt động thế nào với layer tăng cường dữ liệu chỉ có 1% dữ liệu\n",
    "plot_loss_curves(history_1_percent)"
   ]
  },
  {
   "cell_type": "markdown",
   "metadata": {
    "id": "kEPFBiDPk-ig"
   },
   "source": [
    "Có vẻ các phép đo trên cả hai tập dữ liệu đều sẽ cải thiện nếu chúng ta tiếp tục huấn luyện cho nhiều epoch hơn. Nhưng hãy bỏ qua điều đó, chúng ta còn nhiều phép thử hơn cần thực hiện!"
   ]
  },
  {
   "cell_type": "markdown",
   "metadata": {
    "id": "1cd5jPoPC2Ug"
   },
   "source": [
    "## Mô hình 2: Feature extraction transfer learning với 10% dữ liệu và data augmentation\n",
    "\n",
    "Chúng ta đã kiểm tra 1% dữ liệu huấn luyện với data augmentation, hãy thử 10% dữ liệu với data augmentation.\n",
    "\n",
    "Nhưng đợi đã...\n",
    "\n",
    "> 🤔 **Câu hỏi:** Làm sao để biết những thử nghiệm nào sẽ chạy?\n",
    "\n",
    "Câu hỏi hay đấy.\n",
    "\n",
    "Thật ra chúng ta thường không biết. Machine Learning vẫn còn đang được chạy thử nghiệm. Chỉ sau khi thử một vài thứ chúng ta mới bắt đầu có trực giác về những thứ cần làm.\n",
    "\n",
    "Lời khuyên của tôi là hãy kiên trì theo sự tò mò nhất có thể. Nếu bạn muốn thử điều gì thì hãy viết code cho nó và chạy thôi, rồi xem điều gì sẽ xảy ra. Kết quả tệ nhất là bạn sẽ tìm ra những thứ không hoạt động, đây là vốn kiến thức khá giá trị.\n",
    "\n",
    "Từ góc độ thực tế, như chúng ta đã đề cập trước đó, các bạn cần giảm thời gian nhiều nhất có thể giữa các thử nghiệm ban đầu. Nói cách khác, hãy chạy nhiều thử nghiệm nhỏ hơn, dùng ít dữ liệu hơn và ít lần lặp lại quá trình huấn luyện hơn trước khi tìm thấy thứ gì có triển vọng và rồi mở rộng nó.\n",
    "\n",
    "Về chủ đề mở rộng, hãy mở rộng tỷ lệ thử nghiệm tăng cường dữ liệu huấn luyện 1% lên 10%.  Có thể câu này chưa rõ ràng lắm nhưng các bạn hiểu ý tôi mà.\n",
    "\n",
    "Chúng ta sẽ chạy qua các bước giống ý hệt như trong mô hình ở trên, chỉ khác là chúng ta sẽ dùng 10% dữ liệu huấn luyện thay vì 1%."
   ]
  },
  {
   "cell_type": "code",
   "execution_count": null,
   "metadata": {
    "id": "nv75Z8BkuTmy"
   },
   "outputs": [],
   "source": [
    "# Lấy 10% dữ liệu của 10 lớp (không chú thích nếu chưa có  \"10_food_classes_10_percent.zip\")\n",
    "# !wget https://storage.googleapis.com/ztm_tf_course/food_vision/10_food_classes_10_percent.zip\n",
    "# unzip_data(\"10_food_classes_10_percent.zip\")\n",
    "\n",
    "train_dir_10_percent = \"10_food_classes_10_percent/train/\"\n",
    "test_dir = \"10_food_classes_10_percent/test/\""
   ]
  },
  {
   "cell_type": "markdown",
   "metadata": {
    "id": "9Vcnuoorminm"
   },
   "source": [
    "Dữ liệu đã được download. Hãy tạo dataloader."
   ]
  },
  {
   "cell_type": "code",
   "execution_count": null,
   "metadata": {
    "colab": {
     "base_uri": "https://localhost:8080/"
    },
    "id": "0eZ4SzbiC9zX",
    "outputId": "b2fe4146-8bce-46eb-daa8-036cde10a909"
   },
   "outputs": [
    {
     "name": "stdout",
     "output_type": "stream",
     "text": [
      "Found 750 files belonging to 10 classes.\n",
      "Found 2500 files belonging to 10 classes.\n"
     ]
    }
   ],
   "source": [
    "# Thiết lập đầu vào dữ liệu\n",
    "import tensorflow as tf\n",
    "IMG_SIZE = (224, 224)\n",
    "train_data_10_percent = tf.keras.preprocessing.image_dataset_from_directory(train_dir_10_percent,\n",
    "                                                                            label_mode=\"categorical\",\n",
    "                                                                            image_size=IMG_SIZE)\n",
    "# Lưu ý: dữ liệu kiểm tra tương tự như trong thử nghiệm trước, chúng ta có thể\n",
    "# bỏ qua việc tạo điều này nhưng hãy để đây để thực hành.\n",
    "test_data = tf.keras.preprocessing.image_dataset_from_directory(test_dir,\n",
    "                                                                label_mode=\"categorical\",\n",
    "                                                                image_size=IMG_SIZE)"
   ]
  },
  {
   "cell_type": "markdown",
   "metadata": {
    "id": "ZlHIzDo5mz5L"
   },
   "source": [
    "Thật kinh ngạc! Chúng ta làm việc với lượng ảnh nhiều hơn gấp 10 lần, 75 ảnh mỗi lớp thay vì 7 ảnh mỗi lớp.\n",
    "\n",
    "Hãy xây một mô hình đã tích hợp data augmentation. Chúng ta có thể tái sử dụng mô hình tuần tự tăng cường dữ liệu đã tạo trước đó nhưng hãy tạo lại để luyện tập."
   ]
  },
  {
   "cell_type": "code",
   "execution_count": null,
   "metadata": {
    "id": "RuuP1FWADHfc"
   },
   "outputs": [],
   "source": [
    "# Tạo mô hình functional với data augmentation\n",
    "import tensorflow as tf\n",
    "from tensorflow.keras import layers\n",
    "from tensorflow.keras.layers.experimental import preprocessing\n",
    "from tensorflow.keras.models import Sequential\n",
    "\n",
    "# Xây dựng layer tăng cường dữ liệu\n",
    "data_augmentation = Sequential([\n",
    "  preprocessing.RandomFlip('horizontal'),\n",
    "  preprocessing.RandomHeight(0.2),\n",
    "  preprocessing.RandomWidth(0.2),\n",
    "  preprocessing.RandomZoom(0.2),\n",
    "  preprocessing.RandomRotation(0.2),\n",
    "  # preprocessing.Rescaling(1./255) # giữ cho ResNet50V2, loại khỏi EfficientNet                 \n",
    "], name=\"data_augmentation\")\n",
    "\n",
    "# Thiết lập shape đầu vào cho mô hình\n",
    "input_shape = (224, 224, 3)\n",
    "\n",
    "# Tạo base model đã đóng băng\n",
    "base_model = tf.keras.applications.EfficientNetB0(include_top=False)\n",
    "base_model.trainable = False\n",
    "\n",
    "# Tạo các layer đầu vào và đầu ra\n",
    "inputs = layers.Input(shape=input_shape, name=\"input_layer\") # tạo layer đầu vào\n",
    "x = data_augmentation(inputs) # tăng cường ảnh huấn luyện\n",
    "x = base_model(x, training=False) # truyền các ảnh đã tăng cường vào base model nhưng giữ nó ở chế độ suy luận, nên các batchnorm layer không cập nhật: https://keras.io/guides/transfer_learning/#build-a-model \n",
    "x = layers.GlobalAveragePooling2D(name=\"global_average_pooling_layer\")(x)\n",
    "outputs = layers.Dense(10, activation=\"softmax\", name=\"output_layer\")(x)\n",
    "model_2 = tf.keras.Model(inputs, outputs)\n",
    "\n",
    "# Biên dịch\n",
    "model_2.compile(loss=\"categorical_crossentropy\",\n",
    "              optimizer=tf.keras.optimizers.Adam(lr=0.001), # sử dụng thuật tóa tối ưu Adam với learning rate cơ sở\n",
    "              metrics=[\"accuracy\"])"
   ]
  },
  {
   "cell_type": "markdown",
   "metadata": {
    "id": "9RiP2aR6nqyK"
   },
   "source": [
    "### Tạo ModelCheckpoint callback\n",
    "\n",
    "Mô hình đã được biên dịch và sẵn sàng để khớp, vậy sao chúng ta chưa khớp nó?\n",
    "\n",
    "Với thử nghiệm này, chúng ta sẽ đề xuất một callback mới là `ModelCheckpoint` callback.\n",
    "\n",
    "[`ModelCheckpoint`](https://www.tensorflow.org/api_docs/python/tf/keras/callbacks/ModelCheckpoint) callback cung cấp khả năng lưu toàn bộ mô hình ở định dạng [`SavedModel`](https://www.tensorflow.org/tutorials/keras/save_and_load#save_the_entire_model) hoặc [chỉ trọng số (pattern)](https://www.tensorflow.org/tutorials/keras/save_and_load#manually_save_weights) vào directory đã chỉ định khi nó huấn luyện.\n",
    "\n",
    "Điều này hữu ích nếu bạn nghĩ mô hình sẽ được huấn luyện lâu và muốn sao lưu mô hình khi nó huấn luyện. Điều này cũng có nghĩa là nếu bạn nghĩ mô hình có lợi từ việc huấn luyện lâu hơn, thì bạn có thể load lại mô hình từ checkpoint cụ thể và tiếp tục huấn luyện từ đó.\n",
    "\n",
    "Ví dụ: giả sử bạn khớp mô hình feature extraction transfer learning cho 5 epoch, kiểm tra training curve và thấy nó vẫn đang cải thiện và muốn xem liệu tinh chỉnh thêm 5 epoch khác có giúp ích gì không thì có thể load checkpoint, phá đông một số (hoặc toàn bộ) layer của base model rồi tiếp tục huấn luyện.\n",
    "\n",
    "Đây thực tế là những gì mà chúng ta sẽ làm.\n",
    "\n",
    "Nhưng trước hết, hãy tạo `ModelCheckpoint` callback bằng cách chỉ định directory để lưu."
   ]
  },
  {
   "cell_type": "code",
   "execution_count": null,
   "metadata": {
    "id": "11M6B736noly"
   },
   "outputs": [],
   "source": [
    "# Thiết lập đường dẫn checkpoint\n",
    "checkpoint_path = \"ten_percent_model_checkpoints_weights/checkpoint.ckpt\" # lưu ý: nhớ rằng việc lưu trực tiếp vào Colab chỉ là tạm thời\n",
    "\n",
    "# Tạo ModelCheckpoint callback chỉ để lưu các trọn số của mô hình \n",
    "checkpoint_callback = tf.keras.callbacks.ModelCheckpoint(filepath=checkpoint_path,\n",
    "                                                         save_weights_only=True, # đặt là False để lưu toàn bộ mô hình\n",
    "                                                         save_best_only=False, # đặt là True để chỉ lưu những mô hình tốt nhất thay vì một mô hình mỗi epoch\n",
    "                                                         save_freq=\"epoch\", # lưu mọi epoch\n",
    "                                                         verbose=1)"
   ]
  },
  {
   "cell_type": "markdown",
   "metadata": {
    "id": "R9T4MdK1nynZ"
   },
   "source": [
    "> 🤔 **Câu hỏi:** Việc lưu toàn bộ mô hình (định dạng SavedModel) và chỉ lưu các trọng số khác nhau thế nào?\n",
    "\n",
    "Định dạng [`SavedModel`](https://www.tensorflow.org/tutorials/keras/save_and_load#save_the_entire_model) lưu toàn bộ kiến trúc, trọng số và cấu hình huấn luyện của một mô hình trong một folder, giúp dễ dàng load lại mô hình một cách chính xác bất kể nó ở đâu. Tuy nhiên, nếu không muốn chia sẻ tất cả những chi tiết này với người khác, bạn có thể lưu và chỉ chia sẻ trọng số (chúng chỉ là các tensor lớn, những số mà con người không hiểu được). Nếu vấn đề là dung lượng ổ đĩa thì chỉ lưu trọng số sẽ nhanh hơn và tốn ít dung lượng hơn so với lưu toàn bộ mô hình.\n",
    "\n",
    "Đã đến lúc khớp mô hình.\n",
    "\n",
    "Vì chúng ta sẽ tinh chỉnh nó sau đó nên hãy tạo biến `initial_epochs` và đặt nó thành 5 để sử dụng sau.\n",
    "\n",
    "Chúng ta cũng sẽ thêm `checkpoint_callback` trong danh sách `callbacks`. "
   ]
  },
  {
   "cell_type": "code",
   "execution_count": null,
   "metadata": {
    "colab": {
     "base_uri": "https://localhost:8080/"
    },
    "id": "ZOgMGhi0nx0u",
    "outputId": "f6c6167e-1766-4867-9183-a08e1810efb4"
   },
   "outputs": [
    {
     "name": "stdout",
     "output_type": "stream",
     "text": [
      "Saving TensorBoard log files to: transfer_learning/10_percent_data_aug/20210216-021854\n",
      "Epoch 1/5\n",
      "24/24 [==============================] - 16s 452ms/step - loss: 2.1809 - accuracy: 0.2156 - val_loss: 1.5099 - val_accuracy: 0.6299\n",
      "\n",
      "Epoch 00001: saving model to ten_percent_model_checkpoints_weights/checkpoint.ckpt\n",
      "Epoch 2/5\n",
      "24/24 [==============================] - 9s 358ms/step - loss: 1.4534 - accuracy: 0.6360 - val_loss: 1.0699 - val_accuracy: 0.7582\n",
      "\n",
      "Epoch 00002: saving model to ten_percent_model_checkpoints_weights/checkpoint.ckpt\n",
      "Epoch 3/5\n",
      "24/24 [==============================] - 9s 375ms/step - loss: 1.0684 - accuracy: 0.7427 - val_loss: 0.8586 - val_accuracy: 0.7878\n",
      "\n",
      "Epoch 00003: saving model to ten_percent_model_checkpoints_weights/checkpoint.ckpt\n",
      "Epoch 4/5\n",
      "24/24 [==============================] - 8s 338ms/step - loss: 0.9191 - accuracy: 0.7720 - val_loss: 0.7781 - val_accuracy: 0.7993\n",
      "\n",
      "Epoch 00004: saving model to ten_percent_model_checkpoints_weights/checkpoint.ckpt\n",
      "Epoch 5/5\n",
      "24/24 [==============================] - 8s 332ms/step - loss: 0.7953 - accuracy: 0.7950 - val_loss: 0.7229 - val_accuracy: 0.7944\n",
      "\n",
      "Epoch 00005: saving model to ten_percent_model_checkpoints_weights/checkpoint.ckpt\n"
     ]
    }
   ],
   "source": [
    "# Khớp mô hình lưu checkpoint mỗi epoch\n",
    "initial_epochs = 5\n",
    "history_10_percent_data_aug = model_2.fit(train_data_10_percent,\n",
    "                                          epochs=initial_epochs,\n",
    "                                          validation_data=test_data,\n",
    "                                          validation_steps=int(0.25 * len(test_data)), # thực hiện ít bước hơn mỗi validation (nhanh hơn)\n",
    "                                          callbacks=[create_tensorboard_callback(\"transfer_learning\", \"10_percent_data_aug\"), \n",
    "                                                     checkpoint_callback])"
   ]
  },
  {
   "cell_type": "markdown",
   "metadata": {
    "id": "elbLc46m1kAz"
   },
   "source": [
    "Có vẻ `ModelCheckpoint` callback đã hoạt động và mô hình của chúng ta đã lưu các trọng số của nó mỗi epoch mà không tốn quá nhiều chi phí (lưu toàn bộ mô hình lâu hơn so với chỉ lưu trọng số).\n",
    "\n",
    "Hãy đánh giá mô hình và kiểm tra loss curve của nó."
   ]
  },
  {
   "cell_type": "code",
   "execution_count": null,
   "metadata": {
    "colab": {
     "base_uri": "https://localhost:8080/"
    },
    "id": "3KBwXaDwvlEX",
    "outputId": "5944515d-755e-48dd-b381-870b9a769730"
   },
   "outputs": [
    {
     "name": "stdout",
     "output_type": "stream",
     "text": [
      "79/79 [==============================] - 10s 119ms/step - loss: 0.7047 - accuracy: 0.8080\n"
     ]
    },
    {
     "data": {
      "text/plain": [
       "[0.7046541571617126, 0.8080000281333923]"
      ]
     },
     "execution_count": 31,
     "metadata": {
      "tags": []
     },
     "output_type": "execute_result"
    }
   ],
   "source": [
    "# Đánh giá trên dữ liệu kiểm tra\n",
    "results_10_percent_data_aug = model_2.evaluate(test_data)\n",
    "results_10_percent_data_aug"
   ]
  },
  {
   "cell_type": "code",
   "execution_count": null,
   "metadata": {
    "colab": {
     "base_uri": "https://localhost:8080/",
     "height": 573
    },
    "id": "W-TeYMc_Hh0p",
    "outputId": "83741585-8e32-45b8-9718-71a2cfbd8b65"
   },
   "outputs": [
    {
     "data": {
      "image/png": "[encoded data removed]",
      "text/plain": [
       "<Figure size 432x288 with 1 Axes>"
      ]
     },
     "metadata": {
      "needs_background": "light",
      "tags": []
     },
     "output_type": "display_data"
    },
    {
     "data": {
      "image/png": "[encoded data removed]",
      "text/plain": [
       "<Figure size 432x288 with 1 Axes>"
      ]
     },
     "metadata": {
      "needs_background": "light",
      "tags": []
     },
     "output_type": "display_data"
    }
   ],
   "source": [
    "# Vẽ các loss curve của mô hình\n",
    "plot_loss_curves(history_10_percent_data_aug)"
   ]
  },
  {
   "cell_type": "markdown",
   "metadata": {
    "id": "N-yHYHnx2GZE"
   },
   "source": [
    "Qua các biểu đồ trên, chất lượng của mô hình với 10% dữ liệu và data augmentation không tốt như mô hình với 10% dữ liệu mà không có data augmentation (xem kết quả của `model_0` ở trên), tuy nhiên các đường cong đang đi đúng hướng, tức là các phép đo có thể sẽ cải thiện nếu chúng ta định huấn luyện lâu hơn. \n",
    "\n",
    "Do chúng ta đã checkpoint các trọng số của mô hình nên chúng ta có thể thấy nó trông như thế nào khi load lại. Chúng ta có thể kiểm tra xem liệu nó có lưu đúng không bằng cách đánh giá trên dữ liệu kiểm tra.\n",
    "\n",
    "Để load các trọng số của mô hình, chúng ta sẽ dùng phương thức [`load_weights()`](https://www.tensorflow.org/tutorials/keras/save_and_load#checkpoint_callback_options), truyền nó vào đường dẫn nơi lưu trữ các trọng số của bạn."
   ]
  },
  {
   "cell_type": "code",
   "execution_count": null,
   "metadata": {
    "colab": {
     "base_uri": "https://localhost:8080/"
    },
    "id": "Yo5uxm9Du_kO",
    "outputId": "6656e469-d0c0-4d04-bf50-3d902cbddf58"
   },
   "outputs": [
    {
     "name": "stdout",
     "output_type": "stream",
     "text": [
      "79/79 [==============================] - 10s 118ms/step - loss: 0.7047 - accuracy: 0.8080\n"
     ]
    }
   ],
   "source": [
    "# Load trọng số của mô hình đã lưu và đánh giá mô hình\n",
    "model_2.load_weights(checkpoint_path)\n",
    "loaded_weights_model_results = model_2.evaluate(test_data)"
   ]
  },
  {
   "cell_type": "markdown",
   "metadata": {
    "id": "WYTrmgeSgRkc"
   },
   "source": [
    "\n",
    "Giờ hãy so sánh kết quả của mô hình đã huấn luyện trước đo và mô hình đã load. Các kết quả này rất gần nhau, không hoàn toàncon số đã được tính toán."
   ]
  },
  {
   "cell_type": "code",
   "execution_count": null,
   "metadata": {
    "colab": {
     "base_uri": "https://localhost:8080/"
    },
    "id": "8oF-zsM_wMVQ",
    "outputId": "9fca1ee8-875c-4e6a-ec74-a22b63a79cc4"
   },
   "outputs": [
    {
     "data": {
      "text/plain": [
       "False"
      ]
     },
     "execution_count": 34,
     "metadata": {
      "tags": []
     },
     "output_type": "execute_result"
    }
   ],
   "source": [
    "# Nếu kết quả từ mô hình gốc và các trọng số đã load giống nhau, điều này sẽ xuất ra True\n",
    "results_10_percent_data_aug == loaded_weights_model_results"
   ]
  },
  {
   "cell_type": "markdown",
   "metadata": {
    "id": "L2noU9rlgflw"
   },
   "source": [
    "Nếu cell trên không xuất ra `True` thì đó là do các số gần nhau nhưng không *hoàn toàn* giống nhau (do cách máy tính lưu trữ con số với các mức độ chính xác)\n",
    "\n",
    "Tuy nhiên, chúng *rất* gần nhau..."
   ]
  },
  {
   "cell_type": "code",
   "execution_count": null,
   "metadata": {
    "colab": {
     "base_uri": "https://localhost:8080/"
    },
    "id": "0u4N8g9mgBI0",
    "outputId": "102bf07f-7280-49fe-ea8f-16ee53bbd268"
   },
   "outputs": [
    {
     "data": {
      "text/plain": [
       "array([ True,  True])"
      ]
     },
     "execution_count": 35,
     "metadata": {
      "tags": []
     },
     "output_type": "execute_result"
    }
   ],
   "source": [
    "import numpy as np\n",
    "# Kiểm tra xem liệu kết quả của mô hình đã load có rất gần với kết quả của mô hình ban đầu không (nên xuất ra True)\n",
    "np.isclose(np.array(results_10_percent_data_aug), np.array(loaded_weights_model_results))"
   ]
  },
  {
   "cell_type": "code",
   "execution_count": null,
   "metadata": {
    "colab": {
     "base_uri": "https://localhost:8080/"
    },
    "id": "6srnISjohK8N",
    "outputId": "de0374d9-c922-4b6b-88e2-692f6f255653"
   },
   "outputs": [
    {
     "name": "stdout",
     "output_type": "stream",
     "text": [
      "[-1.1920929e-07  0.0000000e+00]\n"
     ]
    }
   ],
   "source": [
    "# Kiểm tra hiệu số giữa hai kết quả\n",
    "print(np.array(results_10_percent_data_aug) - np.array(loaded_weights_model_results))"
   ]
  },
  {
   "cell_type": "markdown",
   "metadata": {
    "id": "C_RYtaqD0Mv6"
   },
   "source": [
    "## Mô hình 3: Tinh chỉnh mô hình hiện có với 10% dữ liệu\n",
    "\n",
    "![](https://raw.githubusercontent.com/mrdbourke/tensorflow-deep-learning/main/images/05-fine-tuning-an-efficientnet-model.png)\n",
    "*Ví dụ cấp cao về tinh chỉnh trên mô hình EfficientNet. Các layer dưới cùng (layer gần hơn với dữ liệu đầu vào) vẫn bị đóng băng trong khi các layer trên cùng (layer gần hơn với dữ liệu đầu ra) được cập nhật trong quá trình huấn luyện.* \n",
    "\n",
    "Cho tới giờ mô hình đã lưu được huấn luyện với feature extraction transfer learning cho 5 epoch trên 10% dữ liệu huấn luyện và data augmentation.\n",
    "\n",
    "Điều này nghĩa là tất cả các layer trong base model (EfficientNetB0) đều bị đóng băng trong quá trình huấn luyện.\n",
    "\n",
    "Ở thử nghiệm tiếp theo, chúng ta sẽ chuyển sang fine-tuning transfer learning, nghĩa là chúng ta sẽ sử dụng base model tương tự, trừ việc chúng ta sẽ phá băng một số layer của nó (những layer gần nhất với trên cùng) và chạy mô hình cho vài epoch.\n",
    "\n",
    "Ý tưởng với fine-tuning là bắt đầu tùy chỉnh thêm pre-trained model với dữ liệu của chúng ta.\n",
    "\n",
    "> 🔑 **Lưu ý:** Fine-tuning thường hoạt động tốt nhất *sau khi* huấn luyện mô hình feature extraction cho một vài epoch và với lượng lớn dữ liệu. Xem [hướng dẫn của Keras về Transfer learning & fine-tuning](https://keras.io/guides/transfer_learning/) để tìm hiểu thêm.\n",
    "\n",
    "Chúng ta đã xác minh chất lượng của mô hình, hãy kiểm tra các layer của nó."
   ]
  },
  {
   "cell_type": "code",
   "execution_count": null,
   "metadata": {
    "colab": {
     "base_uri": "https://localhost:8080/"
    },
    "id": "EfsHnkOIrx9K",
    "outputId": "23395730-9cee-4cb2-d687-e68f0742a45f"
   },
   "outputs": [
    {
     "data": {
      "text/plain": [
       "[<tensorflow.python.keras.engine.input_layer.InputLayer at 0x7fceca1c9208>,\n",
       " <tensorflow.python.keras.engine.sequential.Sequential at 0x7fceca1c90b8>,\n",
       " <tensorflow.python.keras.engine.functional.Functional at 0x7fcebe5bc630>,\n",
       " <tensorflow.python.keras.layers.pooling.GlobalAveragePooling2D at 0x7fcebe62b8d0>,\n",
       " <tensorflow.python.keras.layers.core.Dense at 0x7fcebe5f1e80>]"
      ]
     },
     "execution_count": 37,
     "metadata": {
      "tags": []
     },
     "output_type": "execute_result"
    }
   ],
   "source": [
    "# Các layer trong mô hình đã load\n",
    "model_2.layers"
   ]
  },
  {
   "cell_type": "code",
   "execution_count": null,
   "metadata": {
    "colab": {
     "base_uri": "https://localhost:8080/"
    },
    "id": "QpzkIVuqtbXC",
    "outputId": "caf47dff-456f-480f-841d-621fbd815f03"
   },
   "outputs": [
    {
     "name": "stdout",
     "output_type": "stream",
     "text": [
      "True\n",
      "True\n",
      "False\n",
      "True\n",
      "True\n"
     ]
    }
   ],
   "source": [
    "for layer in model_2.layers:\n",
    "  print(layer.trainable)"
   ]
  },
  {
   "cell_type": "markdown",
   "metadata": {
    "id": "TR7Ym5UN5tou"
   },
   "source": [
    "Trông tốt đấy. Chúng ta đã có input layer, Sequential layer (mô hình data augmentation), Functional layer (EfficientNetB0), pooling layer và Dense layer (layer đầu ra).\n",
    "\n",
    "Vậy còn summary?"
   ]
  },
  {
   "cell_type": "code",
   "execution_count": null,
   "metadata": {
    "colab": {
     "base_uri": "https://localhost:8080/"
    },
    "id": "w55Z7qFYsUfy",
    "outputId": "a3489f33-abe3-474a-d08c-fa64bb8dcdca"
   },
   "outputs": [
    {
     "name": "stdout",
     "output_type": "stream",
     "text": [
      "Model: \"model_2\"\n",
      "_________________________________________________________________\n",
      "Layer (type)                 Output Shape              Param #   \n",
      "=================================================================\n",
      "input_layer (InputLayer)     [(None, 224, 224, 3)]     0         \n",
      "_________________________________________________________________\n",
      "data_augmentation (Sequentia (None, None, None, 3)     0         \n",
      "_________________________________________________________________\n",
      "efficientnetb0 (Functional)  (None, None, None, 1280)  4049571   \n",
      "_________________________________________________________________\n",
      "global_average_pooling_layer (None, 1280)              0         \n",
      "_________________________________________________________________\n",
      "output_layer (Dense)         (None, 10)                12810     \n",
      "=================================================================\n",
      "Total params: 4,062,381\n",
      "Trainable params: 12,810\n",
      "Non-trainable params: 4,049,571\n",
      "_________________________________________________________________\n"
     ]
    }
   ],
   "source": [
    "model_2.summary()"
   ]
  },
  {
   "cell_type": "markdown",
   "metadata": {
    "id": "WSAz6_oi62Sn"
   },
   "source": [
    "Có vẻ tất cả các layer trong layer `efficientnetb0` đều bị đóng băng. Chúng ta có thể xác nhận điều này với thuộc tính `trainable_variables`."
   ]
  },
  {
   "cell_type": "code",
   "execution_count": null,
   "metadata": {
    "colab": {
     "base_uri": "https://localhost:8080/"
    },
    "id": "dgSn6yzywHd7",
    "outputId": "573c99b9-26e1-467c-c430-8ff4ca4a7377"
   },
   "outputs": [
    {
     "name": "stdout",
     "output_type": "stream",
     "text": [
      "0\n"
     ]
    }
   ],
   "source": [
    "# Có bao nhiêu layer có thể huấn luyện trong base model của chúng ta?\n",
    "print(len(model_2.layers[2].trainable_variables)) # layer ở chỉ mục 2 là EfficientNetB0 layer (base model)"
   ]
  },
  {
   "cell_type": "markdown",
   "metadata": {
    "id": "m2cydE75i2OC"
   },
   "source": [
    "Điều này tương tự với base model của chúng ta."
   ]
  },
  {
   "cell_type": "code",
   "execution_count": null,
   "metadata": {
    "colab": {
     "base_uri": "https://localhost:8080/"
    },
    "id": "bEFHfoVti1d4",
    "outputId": "d1e020e7-ff06-4796-b9e1-50c14bae4787"
   },
   "outputs": [
    {
     "name": "stdout",
     "output_type": "stream",
     "text": [
      "0\n"
     ]
    }
   ],
   "source": [
    "print(len(base_model.trainable_variables))"
   ]
  },
  {
   "cell_type": "markdown",
   "metadata": {
    "id": "3n1qhcK4jFwx"
   },
   "source": [
    "Có thể kiểm tra từng layer để xem chúng có thể huấn luyện không."
   ]
  },
  {
   "cell_type": "code",
   "execution_count": null,
   "metadata": {
    "colab": {
     "base_uri": "https://localhost:8080/"
    },
    "id": "WGSvBXM7jKIm",
    "outputId": "3cfd3778-8547-4c04-c0f4-5d3e8ecaab65"
   },
   "outputs": [
    {
     "name": "stdout",
     "output_type": "stream",
     "text": [
      "0 input_3 False\n",
      "1 rescaling_2 False\n",
      "2 normalization_2 False\n",
      "3 stem_conv_pad False\n",
      "4 stem_conv False\n",
      "5 stem_bn False\n",
      "6 stem_activation False\n",
      "7 block1a_dwconv False\n",
      "8 block1a_bn False\n",
      "9 block1a_activation False\n",
      "10 block1a_se_squeeze False\n",
      "11 block1a_se_reshape False\n",
      "12 block1a_se_reduce False\n",
      "13 block1a_se_expand False\n",
      "14 block1a_se_excite False\n",
      "15 block1a_project_conv False\n",
      "16 block1a_project_bn False\n",
      "17 block2a_expand_conv False\n",
      "18 block2a_expand_bn False\n",
      "19 block2a_expand_activation False\n",
      "20 block2a_dwconv_pad False\n",
      "21 block2a_dwconv False\n",
      "22 block2a_bn False\n",
      "23 block2a_activation False\n",
      "24 block2a_se_squeeze False\n",
      "25 block2a_se_reshape False\n",
      "26 block2a_se_reduce False\n",
      "27 block2a_se_expand False\n",
      "28 block2a_se_excite False\n",
      "29 block2a_project_conv False\n",
      "30 block2a_project_bn False\n",
      "31 block2b_expand_conv False\n",
      "32 block2b_expand_bn False\n",
      "33 block2b_expand_activation False\n",
      "34 block2b_dwconv False\n",
      "35 block2b_bn False\n",
      "36 block2b_activation False\n",
      "37 block2b_se_squeeze False\n",
      "38 block2b_se_reshape False\n",
      "39 block2b_se_reduce False\n",
      "40 block2b_se_expand False\n",
      "41 block2b_se_excite False\n",
      "42 block2b_project_conv False\n",
      "43 block2b_project_bn False\n",
      "44 block2b_drop False\n",
      "45 block2b_add False\n",
      "46 block3a_expand_conv False\n",
      "47 block3a_expand_bn False\n",
      "48 block3a_expand_activation False\n",
      "49 block3a_dwconv_pad False\n",
      "50 block3a_dwconv False\n",
      "51 block3a_bn False\n",
      "52 block3a_activation False\n",
      "53 block3a_se_squeeze False\n",
      "54 block3a_se_reshape False\n",
      "55 block3a_se_reduce False\n",
      "56 block3a_se_expand False\n",
      "57 block3a_se_excite False\n",
      "58 block3a_project_conv False\n",
      "59 block3a_project_bn False\n",
      "60 block3b_expand_conv False\n",
      "61 block3b_expand_bn False\n",
      "62 block3b_expand_activation False\n",
      "63 block3b_dwconv False\n",
      "64 block3b_bn False\n",
      "65 block3b_activation False\n",
      "66 block3b_se_squeeze False\n",
      "67 block3b_se_reshape False\n",
      "68 block3b_se_reduce False\n",
      "69 block3b_se_expand False\n",
      "70 block3b_se_excite False\n",
      "71 block3b_project_conv False\n",
      "72 block3b_project_bn False\n",
      "73 block3b_drop False\n",
      "74 block3b_add False\n",
      "75 block4a_expand_conv False\n",
      "76 block4a_expand_bn False\n",
      "77 block4a_expand_activation False\n",
      "78 block4a_dwconv_pad False\n",
      "79 block4a_dwconv False\n",
      "80 block4a_bn False\n",
      "81 block4a_activation False\n",
      "82 block4a_se_squeeze False\n",
      "83 block4a_se_reshape False\n",
      "84 block4a_se_reduce False\n",
      "85 block4a_se_expand False\n",
      "86 block4a_se_excite False\n",
      "87 block4a_project_conv False\n",
      "88 block4a_project_bn False\n",
      "89 block4b_expand_conv False\n",
      "90 block4b_expand_bn False\n",
      "91 block4b_expand_activation False\n",
      "92 block4b_dwconv False\n",
      "93 block4b_bn False\n",
      "94 block4b_activation False\n",
      "95 block4b_se_squeeze False\n",
      "96 block4b_se_reshape False\n",
      "97 block4b_se_reduce False\n",
      "98 block4b_se_expand False\n",
      "99 block4b_se_excite False\n",
      "100 block4b_project_conv False\n",
      "101 block4b_project_bn False\n",
      "102 block4b_drop False\n",
      "103 block4b_add False\n",
      "104 block4c_expand_conv False\n",
      "105 block4c_expand_bn False\n",
      "106 block4c_expand_activation False\n",
      "107 block4c_dwconv False\n",
      "108 block4c_bn False\n",
      "109 block4c_activation False\n",
      "110 block4c_se_squeeze False\n",
      "111 block4c_se_reshape False\n",
      "112 block4c_se_reduce False\n",
      "113 block4c_se_expand False\n",
      "114 block4c_se_excite False\n",
      "115 block4c_project_conv False\n",
      "116 block4c_project_bn False\n",
      "117 block4c_drop False\n",
      "118 block4c_add False\n",
      "119 block5a_expand_conv False\n",
      "120 block5a_expand_bn False\n",
      "121 block5a_expand_activation False\n",
      "122 block5a_dwconv False\n",
      "123 block5a_bn False\n",
      "124 block5a_activation False\n",
      "125 block5a_se_squeeze False\n",
      "126 block5a_se_reshape False\n",
      "127 block5a_se_reduce False\n",
      "128 block5a_se_expand False\n",
      "129 block5a_se_excite False\n",
      "130 block5a_project_conv False\n",
      "131 block5a_project_bn False\n",
      "132 block5b_expand_conv False\n",
      "133 block5b_expand_bn False\n",
      "134 block5b_expand_activation False\n",
      "135 block5b_dwconv False\n",
      "136 block5b_bn False\n",
      "137 block5b_activation False\n",
      "138 block5b_se_squeeze False\n",
      "139 block5b_se_reshape False\n",
      "140 block5b_se_reduce False\n",
      "141 block5b_se_expand False\n",
      "142 block5b_se_excite False\n",
      "143 block5b_project_conv False\n",
      "144 block5b_project_bn False\n",
      "145 block5b_drop False\n",
      "146 block5b_add False\n",
      "147 block5c_expand_conv False\n",
      "148 block5c_expand_bn False\n",
      "149 block5c_expand_activation False\n",
      "150 block5c_dwconv False\n",
      "151 block5c_bn False\n",
      "152 block5c_activation False\n",
      "153 block5c_se_squeeze False\n",
      "154 block5c_se_reshape False\n",
      "155 block5c_se_reduce False\n",
      "156 block5c_se_expand False\n",
      "157 block5c_se_excite False\n",
      "158 block5c_project_conv False\n",
      "159 block5c_project_bn False\n",
      "160 block5c_drop False\n",
      "161 block5c_add False\n",
      "162 block6a_expand_conv False\n",
      "163 block6a_expand_bn False\n",
      "164 block6a_expand_activation False\n",
      "165 block6a_dwconv_pad False\n",
      "166 block6a_dwconv False\n",
      "167 block6a_bn False\n",
      "168 block6a_activation False\n",
      "169 block6a_se_squeeze False\n",
      "170 block6a_se_reshape False\n",
      "171 block6a_se_reduce False\n",
      "172 block6a_se_expand False\n",
      "173 block6a_se_excite False\n",
      "174 block6a_project_conv False\n",
      "175 block6a_project_bn False\n",
      "176 block6b_expand_conv False\n",
      "177 block6b_expand_bn False\n",
      "178 block6b_expand_activation False\n",
      "179 block6b_dwconv False\n",
      "180 block6b_bn False\n",
      "181 block6b_activation False\n",
      "182 block6b_se_squeeze False\n",
      "183 block6b_se_reshape False\n",
      "184 block6b_se_reduce False\n",
      "185 block6b_se_expand False\n",
      "186 block6b_se_excite False\n",
      "187 block6b_project_conv False\n",
      "188 block6b_project_bn False\n",
      "189 block6b_drop False\n",
      "190 block6b_add False\n",
      "191 block6c_expand_conv False\n",
      "192 block6c_expand_bn False\n",
      "193 block6c_expand_activation False\n",
      "194 block6c_dwconv False\n",
      "195 block6c_bn False\n",
      "196 block6c_activation False\n",
      "197 block6c_se_squeeze False\n",
      "198 block6c_se_reshape False\n",
      "199 block6c_se_reduce False\n",
      "200 block6c_se_expand False\n",
      "201 block6c_se_excite False\n",
      "202 block6c_project_conv False\n",
      "203 block6c_project_bn False\n",
      "204 block6c_drop False\n",
      "205 block6c_add False\n",
      "206 block6d_expand_conv False\n",
      "207 block6d_expand_bn False\n",
      "208 block6d_expand_activation False\n",
      "209 block6d_dwconv False\n",
      "210 block6d_bn False\n",
      "211 block6d_activation False\n",
      "212 block6d_se_squeeze False\n",
      "213 block6d_se_reshape False\n",
      "214 block6d_se_reduce False\n",
      "215 block6d_se_expand False\n",
      "216 block6d_se_excite False\n",
      "217 block6d_project_conv False\n",
      "218 block6d_project_bn False\n",
      "219 block6d_drop False\n",
      "220 block6d_add False\n",
      "221 block7a_expand_conv False\n",
      "222 block7a_expand_bn False\n",
      "223 block7a_expand_activation False\n",
      "224 block7a_dwconv False\n",
      "225 block7a_bn False\n",
      "226 block7a_activation False\n",
      "227 block7a_se_squeeze False\n",
      "228 block7a_se_reshape False\n",
      "229 block7a_se_reduce False\n",
      "230 block7a_se_expand False\n",
      "231 block7a_se_excite False\n",
      "232 block7a_project_conv False\n",
      "233 block7a_project_bn False\n",
      "234 top_conv False\n",
      "235 top_bn False\n",
      "236 top_activation False\n"
     ]
    }
   ],
   "source": [
    "# Kiểm tra xem những layer nào có thể điều chỉnh (có thể huấn luyện)\n",
    "for layer_number, layer in enumerate(base_model.layers):\n",
    "  print(layer_number, layer.name, layer.trainable)"
   ]
  },
  {
   "cell_type": "markdown",
   "metadata": {
    "id": "WT7tYrL8iNjt"
   },
   "source": [
    "Đây chính xác là những gì chúng ta đang theo đuổi.\n",
    "\n",
    "Bây giờ để tinh chỉnh base model với dữ liệu, chúng ta sẽ phá băng 10 layer trên cùng và tiếp tục huấn luyện mô hình cho 5 epoch khác.\n",
    "\n",
    "Điều này nghĩa là trừ 10 layer trước đã đề cập, tất cả các layer của base model vẫn sẽ bị đóng băng và không thể huấn luyện. Và các trọng số ở các layer chưa bị đóng băng còn lại sẽ được cập nhật trong quá trình huấn luyện.\n",
    "\n",
    "Chúng ta sẽ thấy chất lượng của mô hình cải thiện.\n",
    "\n",
    "> 🤔 **Câu hỏi:** Chúng ta nên phá băng bao nhiêu layer trong khi huấn luyện?\n",
    "\n",
    "Không có quy tắc nào cho điều này. Bạn có thể phá băng mọi layer trong pretrained model hoặc thử phá băng lần lượt từng layer. Tốt nhất là thử với số lượng phá băng và tinh chỉnh khác nhau để xem điều gì sẽ xảy ra. Nhìn chung, càng có ít dữ liệu thì bạn sẽ muốn phá băng ít layer hơn và dần dần muốn tinh chỉnh.\n",
    "\n",
    "> 📖 **Tài liệu:** Tài liệu [ULMFiT (Universal Language Model Fine-tuning for Text Classification)](https://arxiv.org/abs/1801.06146) có một loạt các thử nghiệm về mô hình fine-tuning.\n",
    "\n",
    "Để bắt đầu tinh chỉnh, chúng ta sẽ phá băng toàn bộ base model bằng cách thiết lập thuộc tính `trainable` thành `True`. Sau đó, chúng ta sẽ đóng băng lại mỗi lớp trong base model trừ 10 lớp cuối bằng cách lặp qua chúng và đặt thuộc tính `trainable` thành `False`. Cuối cùng, chúng ta sẽ biên dịch lại mô hình."
   ]
  },
  {
   "cell_type": "code",
   "execution_count": null,
   "metadata": {
    "id": "0RN8aH82i__f"
   },
   "outputs": [],
   "source": [
    "base_model.trainable = True\n",
    "\n",
    "# Đóng băng tất cả các layer trừ\n",
    "for layer in base_model.layers[:-10]:\n",
    "  layer.trainable = False\n",
    "\n",
    "# Biên dịch lại mô hình (luôn biên dịch lại sau bất cứ điều chỉnh nào cho mô hình)\n",
    "model_2.compile(loss=\"categorical_crossentropy\",\n",
    "              optimizer=tf.keras.optimizers.Adam(lr=0.0001), # lr thấp hơn 10 lần so với trước khi fine-tuning\n",
    "              metrics=[\"accuracy\"])"
   ]
  },
  {
   "cell_type": "markdown",
   "metadata": {
    "id": "rSVFvTiHjYP-"
   },
   "source": [
    "Giờ hãy kiểm tra xem những layer nào của pretrained model có thể huấn luyện."
   ]
  },
  {
   "cell_type": "code",
   "execution_count": null,
   "metadata": {
    "colab": {
     "base_uri": "https://localhost:8080/"
    },
    "id": "pyKYo9yB7Xjq",
    "outputId": "8e43382c-bdb5-4efa-d1bb-ee32e1cb1308"
   },
   "outputs": [
    {
     "name": "stdout",
     "output_type": "stream",
     "text": [
      "0 input_3 False\n",
      "1 rescaling_2 False\n",
      "2 normalization_2 False\n",
      "3 stem_conv_pad False\n",
      "4 stem_conv False\n",
      "5 stem_bn False\n",
      "6 stem_activation False\n",
      "7 block1a_dwconv False\n",
      "8 block1a_bn False\n",
      "9 block1a_activation False\n",
      "10 block1a_se_squeeze False\n",
      "11 block1a_se_reshape False\n",
      "12 block1a_se_reduce False\n",
      "13 block1a_se_expand False\n",
      "14 block1a_se_excite False\n",
      "15 block1a_project_conv False\n",
      "16 block1a_project_bn False\n",
      "17 block2a_expand_conv False\n",
      "18 block2a_expand_bn False\n",
      "19 block2a_expand_activation False\n",
      "20 block2a_dwconv_pad False\n",
      "21 block2a_dwconv False\n",
      "22 block2a_bn False\n",
      "23 block2a_activation False\n",
      "24 block2a_se_squeeze False\n",
      "25 block2a_se_reshape False\n",
      "26 block2a_se_reduce False\n",
      "27 block2a_se_expand False\n",
      "28 block2a_se_excite False\n",
      "29 block2a_project_conv False\n",
      "30 block2a_project_bn False\n",
      "31 block2b_expand_conv False\n",
      "32 block2b_expand_bn False\n",
      "33 block2b_expand_activation False\n",
      "34 block2b_dwconv False\n",
      "35 block2b_bn False\n",
      "36 block2b_activation False\n",
      "37 block2b_se_squeeze False\n",
      "38 block2b_se_reshape False\n",
      "39 block2b_se_reduce False\n",
      "40 block2b_se_expand False\n",
      "41 block2b_se_excite False\n",
      "42 block2b_project_conv False\n",
      "43 block2b_project_bn False\n",
      "44 block2b_drop False\n",
      "45 block2b_add False\n",
      "46 block3a_expand_conv False\n",
      "47 block3a_expand_bn False\n",
      "48 block3a_expand_activation False\n",
      "49 block3a_dwconv_pad False\n",
      "50 block3a_dwconv False\n",
      "51 block3a_bn False\n",
      "52 block3a_activation False\n",
      "53 block3a_se_squeeze False\n",
      "54 block3a_se_reshape False\n",
      "55 block3a_se_reduce False\n",
      "56 block3a_se_expand False\n",
      "57 block3a_se_excite False\n",
      "58 block3a_project_conv False\n",
      "59 block3a_project_bn False\n",
      "60 block3b_expand_conv False\n",
      "61 block3b_expand_bn False\n",
      "62 block3b_expand_activation False\n",
      "63 block3b_dwconv False\n",
      "64 block3b_bn False\n",
      "65 block3b_activation False\n",
      "66 block3b_se_squeeze False\n",
      "67 block3b_se_reshape False\n",
      "68 block3b_se_reduce False\n",
      "69 block3b_se_expand False\n",
      "70 block3b_se_excite False\n",
      "71 block3b_project_conv False\n",
      "72 block3b_project_bn False\n",
      "73 block3b_drop False\n",
      "74 block3b_add False\n",
      "75 block4a_expand_conv False\n",
      "76 block4a_expand_bn False\n",
      "77 block4a_expand_activation False\n",
      "78 block4a_dwconv_pad False\n",
      "79 block4a_dwconv False\n",
      "80 block4a_bn False\n",
      "81 block4a_activation False\n",
      "82 block4a_se_squeeze False\n",
      "83 block4a_se_reshape False\n",
      "84 block4a_se_reduce False\n",
      "85 block4a_se_expand False\n",
      "86 block4a_se_excite False\n",
      "87 block4a_project_conv False\n",
      "88 block4a_project_bn False\n",
      "89 block4b_expand_conv False\n",
      "90 block4b_expand_bn False\n",
      "91 block4b_expand_activation False\n",
      "92 block4b_dwconv False\n",
      "93 block4b_bn False\n",
      "94 block4b_activation False\n",
      "95 block4b_se_squeeze False\n",
      "96 block4b_se_reshape False\n",
      "97 block4b_se_reduce False\n",
      "98 block4b_se_expand False\n",
      "99 block4b_se_excite False\n",
      "100 block4b_project_conv False\n",
      "101 block4b_project_bn False\n",
      "102 block4b_drop False\n",
      "103 block4b_add False\n",
      "104 block4c_expand_conv False\n",
      "105 block4c_expand_bn False\n",
      "106 block4c_expand_activation False\n",
      "107 block4c_dwconv False\n",
      "108 block4c_bn False\n",
      "109 block4c_activation False\n",
      "110 block4c_se_squeeze False\n",
      "111 block4c_se_reshape False\n",
      "112 block4c_se_reduce False\n",
      "113 block4c_se_expand False\n",
      "114 block4c_se_excite False\n",
      "115 block4c_project_conv False\n",
      "116 block4c_project_bn False\n",
      "117 block4c_drop False\n",
      "118 block4c_add False\n",
      "119 block5a_expand_conv False\n",
      "120 block5a_expand_bn False\n",
      "121 block5a_expand_activation False\n",
      "122 block5a_dwconv False\n",
      "123 block5a_bn False\n",
      "124 block5a_activation False\n",
      "125 block5a_se_squeeze False\n",
      "126 block5a_se_reshape False\n",
      "127 block5a_se_reduce False\n",
      "128 block5a_se_expand False\n",
      "129 block5a_se_excite False\n",
      "130 block5a_project_conv False\n",
      "131 block5a_project_bn False\n",
      "132 block5b_expand_conv False\n",
      "133 block5b_expand_bn False\n",
      "134 block5b_expand_activation False\n",
      "135 block5b_dwconv False\n",
      "136 block5b_bn False\n",
      "137 block5b_activation False\n",
      "138 block5b_se_squeeze False\n",
      "139 block5b_se_reshape False\n",
      "140 block5b_se_reduce False\n",
      "141 block5b_se_expand False\n",
      "142 block5b_se_excite False\n",
      "143 block5b_project_conv False\n",
      "144 block5b_project_bn False\n",
      "145 block5b_drop False\n",
      "146 block5b_add False\n",
      "147 block5c_expand_conv False\n",
      "148 block5c_expand_bn False\n",
      "149 block5c_expand_activation False\n",
      "150 block5c_dwconv False\n",
      "151 block5c_bn False\n",
      "152 block5c_activation False\n",
      "153 block5c_se_squeeze False\n",
      "154 block5c_se_reshape False\n",
      "155 block5c_se_reduce False\n",
      "156 block5c_se_expand False\n",
      "157 block5c_se_excite False\n",
      "158 block5c_project_conv False\n",
      "159 block5c_project_bn False\n",
      "160 block5c_drop False\n",
      "161 block5c_add False\n",
      "162 block6a_expand_conv False\n",
      "163 block6a_expand_bn False\n",
      "164 block6a_expand_activation False\n",
      "165 block6a_dwconv_pad False\n",
      "166 block6a_dwconv False\n",
      "167 block6a_bn False\n",
      "168 block6a_activation False\n",
      "169 block6a_se_squeeze False\n",
      "170 block6a_se_reshape False\n",
      "171 block6a_se_reduce False\n",
      "172 block6a_se_expand False\n",
      "173 block6a_se_excite False\n",
      "174 block6a_project_conv False\n",
      "175 block6a_project_bn False\n",
      "176 block6b_expand_conv False\n",
      "177 block6b_expand_bn False\n",
      "178 block6b_expand_activation False\n",
      "179 block6b_dwconv False\n",
      "180 block6b_bn False\n",
      "181 block6b_activation False\n",
      "182 block6b_se_squeeze False\n",
      "183 block6b_se_reshape False\n",
      "184 block6b_se_reduce False\n",
      "185 block6b_se_expand False\n",
      "186 block6b_se_excite False\n",
      "187 block6b_project_conv False\n",
      "188 block6b_project_bn False\n",
      "189 block6b_drop False\n",
      "190 block6b_add False\n",
      "191 block6c_expand_conv False\n",
      "192 block6c_expand_bn False\n",
      "193 block6c_expand_activation False\n",
      "194 block6c_dwconv False\n",
      "195 block6c_bn False\n",
      "196 block6c_activation False\n",
      "197 block6c_se_squeeze False\n",
      "198 block6c_se_reshape False\n",
      "199 block6c_se_reduce False\n",
      "200 block6c_se_expand False\n",
      "201 block6c_se_excite False\n",
      "202 block6c_project_conv False\n",
      "203 block6c_project_bn False\n",
      "204 block6c_drop False\n",
      "205 block6c_add False\n",
      "206 block6d_expand_conv False\n",
      "207 block6d_expand_bn False\n",
      "208 block6d_expand_activation False\n",
      "209 block6d_dwconv False\n",
      "210 block6d_bn False\n",
      "211 block6d_activation False\n",
      "212 block6d_se_squeeze False\n",
      "213 block6d_se_reshape False\n",
      "214 block6d_se_reduce False\n",
      "215 block6d_se_expand False\n",
      "216 block6d_se_excite False\n",
      "217 block6d_project_conv False\n",
      "218 block6d_project_bn False\n",
      "219 block6d_drop False\n",
      "220 block6d_add False\n",
      "221 block7a_expand_conv False\n",
      "222 block7a_expand_bn False\n",
      "223 block7a_expand_activation False\n",
      "224 block7a_dwconv False\n",
      "225 block7a_bn False\n",
      "226 block7a_activation False\n",
      "227 block7a_se_squeeze True\n",
      "228 block7a_se_reshape True\n",
      "229 block7a_se_reduce True\n",
      "230 block7a_se_expand True\n",
      "231 block7a_se_excite True\n",
      "232 block7a_project_conv True\n",
      "233 block7a_project_bn True\n",
      "234 top_conv True\n",
      "235 top_bn True\n",
      "236 top_activation True\n"
     ]
    }
   ],
   "source": [
    "# Kiểm tra xem những layer nào có thể điều chỉnh (có thể huấn luyện)\n",
    "for layer_number, layer in enumerate(base_model.layers):\n",
    "  print(layer_number, layer.name, layer.trainable)"
   ]
  },
  {
   "cell_type": "markdown",
   "metadata": {
    "id": "yHvSykH7jfRK"
   },
   "source": [
    "Có vẻ trừ 10 layer cuối, tất cả các layer đều bị đóng băng và không thể huấn luyện. Điều này tức là chỉ có 10 layer cuối của base model cùng với layer đầu ra được cập nhật trọng số trong quá trình huấn luyện.\n",
    "\n",
    "> 🤔 **Câu hỏi:** Tại sao chúng ta biên dịch lại mô hình?\n",
    "\n",
    "Mỗi lần thực hiện thay đổi mô hình, chúng ta đều phải biên dịch lại.\n",
    "\n",
    "Trong trường hợp này, chúng ta đang sử dụng cùng chính xác cùng một loss, optimizer và các metrics như trước đó, ngoại trừ lần này learning rate cho optimizer sẽ nhỏ hơn 10 lần so với trước (0.0001 thay vì 0.001 mặc định của Adam).\n",
    "\n",
    "Thực hiện như vậy để mô hình không cố gắng ghi đè các trọng số hiện có trong pretrained model quá nhanh. Nói cách khác, chúng ta muốn học dần dần.\n",
    "\n",
    "> 🔑 **Lưu ý:** Không có tiêu chuẩn thiết lập nào cho learning rate trong quá trình fine-tuning mặc dù việc giảm [2.6x-10x+ dường như có tác dụng trong thực tế](https://arxiv.org/abs/1801.06146).\n",
    "\n",
    "Bây giờ chúng ta có bao nhiêu biến có thể huấn luyện?"
   ]
  },
  {
   "cell_type": "code",
   "execution_count": null,
   "metadata": {
    "colab": {
     "base_uri": "https://localhost:8080/"
    },
    "id": "tbgcdnJIjicF",
    "outputId": "8b93480d-4fe7-4655-ff64-0175d1090ad7"
   },
   "outputs": [
    {
     "name": "stdout",
     "output_type": "stream",
     "text": [
      "12\n"
     ]
    }
   ],
   "source": [
    "print(len(model_2.trainable_variables))"
   ]
  },
  {
   "cell_type": "markdown",
   "metadata": {
    "id": "J5wKmzBeuty7"
   },
   "source": [
    "Có vẻ mô hình của chúng ta có tổng cộng 10 biến có thể huấn luyện, 10 layer cuối cùng của base model, trọng số và các tham số độ chệch của dense output layer.\n",
    "\n",
    "Đã đến lúc tinh chỉnh rồi!\n",
    "\n",
    "Chúng ta sẽ tiếp tục huấn luyện từ chỗ mà mô hình trước hoàn thành. Vì nó huấn luyện cho 5 epoch nên fine-tuning của chúng ta sẽ bắt đầu từ epoch 5 và tiếp tục 5 epoch khác.\n",
    "\n",
    "Chúng ta có thể sử dụng tham số `initial_epoch` của phương thức [`fit()`](https://keras.rstudio.com/reference/fit.html) để thực hiện điều này, truyền vào epoch cuối trong lịch sử huấn luyện của mô hình trước đó"
   ]
  },
  {
   "cell_type": "code",
   "execution_count": null,
   "metadata": {
    "colab": {
     "base_uri": "https://localhost:8080/"
    },
    "id": "uH6XM4ENjfRn",
    "outputId": "e873e2bb-77b2-43b8-95cb-e1c658484c62"
   },
   "outputs": [
    {
     "name": "stdout",
     "output_type": "stream",
     "text": [
      "Saving TensorBoard log files to: transfer_learning/10_percent_fine_tune_last_10/20210216-022051\n",
      "Epoch 5/10\n",
      "24/24 [==============================] - 15s 439ms/step - loss: 0.6963 - accuracy: 0.8062 - val_loss: 0.6032 - val_accuracy: 0.8043\n",
      "Epoch 6/10\n",
      "24/24 [==============================] - 8s 329ms/step - loss: 0.5747 - accuracy: 0.8390 - val_loss: 0.5580 - val_accuracy: 0.8125\n",
      "Epoch 7/10\n",
      "24/24 [==============================] - 8s 319ms/step - loss: 0.4972 - accuracy: 0.8458 - val_loss: 0.5543 - val_accuracy: 0.8240\n",
      "Epoch 8/10\n",
      "24/24 [==============================] - 8s 323ms/step - loss: 0.4262 - accuracy: 0.8814 - val_loss: 0.5403 - val_accuracy: 0.8191\n",
      "Epoch 9/10\n",
      "24/24 [==============================] - 8s 300ms/step - loss: 0.4234 - accuracy: 0.8855 - val_loss: 0.5262 - val_accuracy: 0.8322\n",
      "Epoch 10/10\n",
      "24/24 [==============================] - 8s 305ms/step - loss: 0.3665 - accuracy: 0.9056 - val_loss: 0.5218 - val_accuracy: 0.8322\n"
     ]
    }
   ],
   "source": [
    "# Tinh chỉnh 5 epoch khác\n",
    "fine_tune_epochs = initial_epochs + 5\n",
    "\n",
    "# Khớp lại mô hình (tương tự model_2, ngoại trừ nhiều layer có thể huấn luyện hơn)\n",
    "history_fine_10_percent_data_aug = model_2.fit(train_data_10_percent,\n",
    "                                               epochs=fine_tune_epochs,\n",
    "                                               validation_data=test_data,\n",
    "                                               initial_epoch=history_10_percent_data_aug.epoch[-1], # bắt đầu từ epoch cuối trước đó\n",
    "                                               validation_steps=int(0.25 * len(test_data)),\n",
    "                                               callbacks=[create_tensorboard_callback(\"transfer_learning\", \"10_percent_fine_tune_last_10\")]) # đặt tên thử nghiệm thích hợp"
   ]
  },
  {
   "cell_type": "markdown",
   "metadata": {
    "id": "9lrTVkS5wJT7"
   },
   "source": [
    "> 🔑 **Lưu ý:** Fine-tuning thường tốn thời gian lâu hơn mỗi epoch so với feature extraction (do cập nhật nhiều trọng số hơn trong mạng).\n",
    "\n",
    "Có vẻ mô hình của chúng ta đã tăng một vài điểm về độ chính xác. Hãy đánh giá nó."
   ]
  },
  {
   "cell_type": "code",
   "execution_count": null,
   "metadata": {
    "colab": {
     "base_uri": "https://localhost:8080/"
    },
    "id": "zbFET5Pj8U3F",
    "outputId": "021196e6-cac6-4b8d-92da-83f97d967f95"
   },
   "outputs": [
    {
     "name": "stdout",
     "output_type": "stream",
     "text": [
      "79/79 [==============================] - 10s 117ms/step - loss: 0.4870 - accuracy: 0.8388\n"
     ]
    }
   ],
   "source": [
    "# Đánh giá mô hình trên dữ liệu kiểm tra\n",
    "results_fine_tune_10_percent = model_2.evaluate(test_data)"
   ]
  },
  {
   "cell_type": "markdown",
   "metadata": {
    "id": "lDnoGFCbwRe4"
   },
   "source": [
    "Các kết quả từ việc đánh giá mô hình có thể khác với đầu ra của việc huấn luyện do trong quá trình huấn luyện chúng ta chỉ đánh giá trên 25% dữ liệu kiểm tra.\n",
    "\n",
    "Chúng ta cần một cách đánh giá chất lượng của mô hình trước và sau fine-tuning. Có nên viết hàm so sánh trước và sau không?"
   ]
  },
  {
   "cell_type": "code",
   "execution_count": null,
   "metadata": {
    "id": "8du2ihQNkm4W"
   },
   "outputs": [],
   "source": [
    "def compare_historys(original_history, new_history, initial_epochs=5):\n",
    "    \"\"\"\n",
    "    So sánh hai đối tượng history của mô hình.\n",
    "    \"\"\"\n",
    "    # Lấy các phép đo original history\n",
    "    acc = original_history.history[\"accuracy\"]\n",
    "    loss = original_history.history[\"loss\"]\n",
    "\n",
    "    print(len(acc))\n",
    "\n",
    "    val_acc = original_history.history[\"val_accuracy\"]\n",
    "    val_loss = original_history.history[\"val_loss\"]\n",
    "\n",
    "    # Kết hợp original history với new history\n",
    "    total_acc = acc + new_history.history[\"accuracy\"]\n",
    "    total_loss = loss + new_history.history[\"loss\"]\n",
    "\n",
    "    total_val_acc = val_acc + new_history.history[\"val_accuracy\"]\n",
    "    total_val_loss = val_loss + new_history.history[\"val_loss\"]\n",
    "\n",
    "    print(len(total_acc))\n",
    "    print(total_acc)\n",
    "\n",
    "    # Tạo biểu đồ\n",
    "    plt.figure(figsize=(8, 8))\n",
    "    plt.subplot(2, 1, 1)\n",
    "    plt.plot(total_acc, label='Training Accuracy')\n",
    "    plt.plot(total_val_acc, label='Validation Accuracy')\n",
    "    plt.plot([initial_epochs-1, initial_epochs-1],\n",
    "              plt.ylim(), label='Start Fine Tuning') # dịch chuyển lại biểu đồ quanh các epoch\n",
    "    plt.legend(loc='lower right')\n",
    "    plt.title('Training and Validation Accuracy')\n",
    "\n",
    "    plt.subplot(2, 1, 2)\n",
    "    plt.plot(total_loss, label='Training Loss')\n",
    "    plt.plot(total_val_loss, label='Validation Loss')\n",
    "    plt.plot([initial_epochs-1, initial_epochs-1],\n",
    "              plt.ylim(), label='Start Fine Tuning') # dịch chuyển lại biểu đồ quanh các epoch\n",
    "    plt.legend(loc='upper right')\n",
    "    plt.title('Training and Validation Loss')\n",
    "    plt.xlabel('epoch')\n",
    "    plt.show()"
   ]
  },
  {
   "cell_type": "markdown",
   "metadata": {
    "id": "L-SsaN7GxNOJ"
   },
   "source": [
    "Đây là lúc các biến history của mô hình huấn luyện hữu ích. Hãy xem điều gì xảy ra sau khi tinh chỉnh 10 layer cuối của mô hình."
   ]
  },
  {
   "cell_type": "code",
   "execution_count": null,
   "metadata": {
    "colab": {
     "base_uri": "https://localhost:8080/",
     "height": 585
    },
    "id": "BJANCd2e5Olt",
    "outputId": "aadf20cf-a4bf-4d02-c865-5d138ce1c006"
   },
   "outputs": [
    {
     "name": "stdout",
     "output_type": "stream",
     "text": [
      "5\n",
      "11\n",
      "[0.3293333351612091, 0.6453333497047424, 0.7333333492279053, 0.7693333625793457, 0.7946666479110718, 0.8026666641235352, 0.8320000171661377, 0.846666693687439, 0.8613333106040955, 0.8893333077430725, 0.8893333077430725]\n"
     ]
    },
    {
     "data": {
      "image/png": "[encoded data removed]",
      "text/plain": [
       "<Figure size 576x576 with 2 Axes>"
      ]
     },
     "metadata": {
      "needs_background": "light",
      "tags": []
     },
     "output_type": "display_data"
    }
   ],
   "source": [
    "compare_historys(original_history=history_10_percent_data_aug, \n",
    "                 new_history=history_fine_10_percent_data_aug, \n",
    "                 initial_epochs=5)"
   ]
  },
  {
   "cell_type": "markdown",
   "metadata": {
    "id": "G3FiQuJoxbOq"
   },
   "source": [
    "Có vẻ các đường cong đang đi đúng hướng sau khi tinh chỉnh. Nhưng cần lưu ý rằng fine-tuning thường hoạt động tốt nhất với lượng dữ liệu lớn hơn."
   ]
  },
  {
   "cell_type": "markdown",
   "metadata": {
    "id": "zJMW2KKiqFsa"
   },
   "source": [
    "## Mô hình 4: Fine-tuning mô hình có sẵn với toàn bộ dữ liệu\n",
    "\n",
    "Chúng ta đã nói khá nhiều về fine-tuning mô hình thường hoạt động với nhiều dữ liệu hơn, hãy thử.\n",
    "\n",
    "Chúng ta sẽ bắt đầu bằng cách download phiên bản đầy đủ của tập dữ liệu 101 food classes.\n",
    "\n"
   ]
  },
  {
   "cell_type": "code",
   "execution_count": null,
   "metadata": {
    "colab": {
     "base_uri": "https://localhost:8080/"
    },
    "id": "WJp-39zmLgFO",
    "outputId": "41741808-c29a-4352-ef23-05827891bcd5"
   },
   "outputs": [
    {
     "name": "stdout",
     "output_type": "stream",
     "text": [
      "--2021-02-16 02:48:30--  https://storage.googleapis.com/ztm_tf_course/food_vision/10_food_classes_all_data.zip\n",
      "Resolving storage.googleapis.com (storage.googleapis.com)... 172.217.164.144, 172.253.115.128, 172.253.63.128, ...\n",
      "Connecting to storage.googleapis.com (storage.googleapis.com)|172.217.164.144|:443... connected.\n",
      "HTTP request sent, awaiting response... 200 OK\n",
      "Length: 519183241 (495M) [application/zip]\n",
      "Saving to: ‘10_food_classes_all_data.zip’\n",
      "\n",
      "10_food_classes_all 100%[===================>] 495.13M   124MB/s    in 4.1s    \n",
      "\n",
      "2021-02-16 02:48:35 (121 MB/s) - ‘10_food_classes_all_data.zip’ saved [519183241/519183241]\n",
      "\n"
     ]
    }
   ],
   "source": [
    "# Download và giải nén 10 lớp dữ liệu với toàn bộ ảnh\n",
    "!wget https://storage.googleapis.com/ztm_tf_course/food_vision/10_food_classes_all_data.zip \n",
    "unzip_data(\"10_food_classes_all_data.zip\")\n",
    "\n",
    "# Thiết lập directory dữ liệu\n",
    "train_dir = \"10_food_classes_all_data/train/\"\n",
    "test_dir = \"10_food_classes_all_data/test/\""
   ]
  },
  {
   "cell_type": "code",
   "execution_count": null,
   "metadata": {
    "colab": {
     "base_uri": "https://localhost:8080/"
    },
    "id": "XUhaT5repEp0",
    "outputId": "53695c66-5d13-4ee4-9e25-10066ac5f1b3"
   },
   "outputs": [
    {
     "name": "stdout",
     "output_type": "stream",
     "text": [
      "There are 2 directories and 0 images in '10_food_classes_all_data'.\n",
      "There are 10 directories and 0 images in '10_food_classes_all_data/train'.\n",
      "There are 0 directories and 750 images in '10_food_classes_all_data/train/ice_cream'.\n",
      "There are 0 directories and 750 images in '10_food_classes_all_data/train/ramen'.\n",
      "There are 0 directories and 750 images in '10_food_classes_all_data/train/chicken_wings'.\n",
      "There are 0 directories and 750 images in '10_food_classes_all_data/train/pizza'.\n",
      "There are 0 directories and 750 images in '10_food_classes_all_data/train/steak'.\n",
      "There are 0 directories and 750 images in '10_food_classes_all_data/train/fried_rice'.\n",
      "There are 0 directories and 750 images in '10_food_classes_all_data/train/hamburger'.\n",
      "There are 0 directories and 750 images in '10_food_classes_all_data/train/grilled_salmon'.\n",
      "There are 0 directories and 750 images in '10_food_classes_all_data/train/sushi'.\n",
      "There are 0 directories and 750 images in '10_food_classes_all_data/train/chicken_curry'.\n",
      "There are 10 directories and 0 images in '10_food_classes_all_data/test'.\n",
      "There are 0 directories and 250 images in '10_food_classes_all_data/test/ice_cream'.\n",
      "There are 0 directories and 250 images in '10_food_classes_all_data/test/ramen'.\n",
      "There are 0 directories and 250 images in '10_food_classes_all_data/test/chicken_wings'.\n",
      "There are 0 directories and 250 images in '10_food_classes_all_data/test/pizza'.\n",
      "There are 0 directories and 250 images in '10_food_classes_all_data/test/steak'.\n",
      "There are 0 directories and 250 images in '10_food_classes_all_data/test/fried_rice'.\n",
      "There are 0 directories and 250 images in '10_food_classes_all_data/test/hamburger'.\n",
      "There are 0 directories and 250 images in '10_food_classes_all_data/test/grilled_salmon'.\n",
      "There are 0 directories and 250 images in '10_food_classes_all_data/test/sushi'.\n",
      "There are 0 directories and 250 images in '10_food_classes_all_data/test/chicken_curry'.\n"
     ]
    }
   ],
   "source": [
    "# Chúng ta đang làm việc với bao nhiêu ảnh?\n",
    "walk_through_dir(\"10_food_classes_all_data\")"
   ]
  },
  {
   "cell_type": "markdown",
   "metadata": {
    "id": "4uwDRLJ9z_bZ"
   },
   "source": [
    "Giờ chúng ta sẽ biến ảnh thành các tập dữ liệu tensor."
   ]
  },
  {
   "cell_type": "code",
   "execution_count": null,
   "metadata": {
    "colab": {
     "base_uri": "https://localhost:8080/"
    },
    "id": "s-bF8cAKLzVt",
    "outputId": "8603a5da-c161-42b1-8134-bd1772510120"
   },
   "outputs": [
    {
     "name": "stdout",
     "output_type": "stream",
     "text": [
      "Found 7500 files belonging to 10 classes.\n",
      "Found 2500 files belonging to 10 classes.\n"
     ]
    }
   ],
   "source": [
    "# Thiết lập đầu vào dữ liệu\n",
    "import tensorflow as tf\n",
    "IMG_SIZE = (224, 224)\n",
    "train_data_10_classes_full = tf.keras.preprocessing.image_dataset_from_directory(train_dir,\n",
    "                                                                                 label_mode=\"categorical\",\n",
    "                                                                                 image_size=IMG_SIZE)\n",
    "\n",
    "# Lưu ý: đây là cùng một tập kiểm tra mà chúng ta đã sử dụng cho thử nghiệm lập mô hình trước\n",
    "test_data = tf.keras.preprocessing.image_dataset_from_directory(test_dir,\n",
    "                                                                label_mode=\"categorical\",\n",
    "                                                                image_size=IMG_SIZE)"
   ]
  },
  {
   "cell_type": "markdown",
   "metadata": {
    "id": "LdavTttb_H9u"
   },
   "source": [
    "Điều này trông tốt đấy. Chúng ta có số ảnh nhiều hơn gấp 10 lần trong các lớp huấn luyện.\n",
    "\n",
    "**Tập kiểm tra là cùng một tập dữ liệu** mà chúng ta dùng cho thử nghiệm trước.\n",
    "\n",
    "Như giờ, `model_2` được tinh chỉnh trên 10% dữ liệu nên để bắt đầu fine-tuning trên tất cả dữ liệu và giữ cho các thử nghiệm nhất quán, chúng ta cần hoàn nguyên nó về các trọng số mà chúng ta đã checkpoint sau 5 epoch feature-extraction.\n",
    "\n",
    "Trước tiên chúng ta sẽ đánh giá `model_2` hiện tại để minh chứng cho điều này."
   ]
  },
  {
   "cell_type": "code",
   "execution_count": null,
   "metadata": {
    "colab": {
     "base_uri": "https://localhost:8080/"
    },
    "id": "pjrkv4n-428G",
    "outputId": "e5794a93-fcc2-4813-fa9c-203358a9b68c"
   },
   "outputs": [
    {
     "name": "stdout",
     "output_type": "stream",
     "text": [
      "79/79 [==============================] - 10s 118ms/step - loss: 0.4870 - accuracy: 0.8388\n"
     ]
    },
    {
     "data": {
      "text/plain": [
       "[0.4869591295719147, 0.8388000130653381]"
      ]
     },
     "execution_count": 62,
     "metadata": {
      "tags": []
     },
     "output_type": "execute_result"
    }
   ],
   "source": [
    "# Đánh giá mô hình (đây là phiên bản dữ liệu được tinh chỉnh 10%)\n",
    "model_2.evaluate(test_data)"
   ]
  },
  {
   "cell_type": "markdown",
   "metadata": {
    "id": "tz-AAATk1pUP"
   },
   "source": [
    "Chúng là các giá trị tương tự như `results_fine_tune_10_percent`."
   ]
  },
  {
   "cell_type": "code",
   "execution_count": null,
   "metadata": {
    "colab": {
     "base_uri": "https://localhost:8080/"
    },
    "id": "1D0wLFb01kaJ",
    "outputId": "ab7ec355-5961-4124-e2f3-623f161f4bc9"
   },
   "outputs": [
    {
     "data": {
      "text/plain": [
       "[0.48695918917655945, 0.8388000130653381]"
      ]
     },
     "execution_count": 63,
     "metadata": {
      "tags": []
     },
     "output_type": "execute_result"
    }
   ],
   "source": [
    "results_fine_tune_10_percent"
   ]
  },
  {
   "cell_type": "markdown",
   "metadata": {
    "id": "Ow6pvNQr1z0u"
   },
   "source": [
    "Bây giờ chúng ta sẽ hoàn nguyên mô hình về các trọng số đã lưu."
   ]
  },
  {
   "cell_type": "code",
   "execution_count": null,
   "metadata": {
    "colab": {
     "base_uri": "https://localhost:8080/"
    },
    "id": "zqVZlZzVHFys",
    "outputId": "c627895d-f210-4dc2-a67b-29f54bec5e14"
   },
   "outputs": [
    {
     "data": {
      "text/plain": [
       "<tensorflow.python.training.tracking.util.CheckpointLoadStatus at 0x7fcd9da1e4a8>"
      ]
     },
     "execution_count": 64,
     "metadata": {
      "tags": []
     },
     "output_type": "execute_result"
    }
   ],
   "source": [
    "# Load mô hình từ checkpoint, theo cách này chúng ta có thể tinh chỉnh từ cùng một bước mà mô hình 10% dữ liệu được tinh chỉnh\n",
    "model_2.load_weights(checkpoint_path) # hoàn nguyên mô hình về các trọng số đã lưu"
   ]
  },
  {
   "cell_type": "markdown",
   "metadata": {
    "id": "95DM8uzT138v"
   },
   "source": [
    "Kết quả phải giống như `results_10_percent_data_aug`."
   ]
  },
  {
   "cell_type": "code",
   "execution_count": null,
   "metadata": {
    "colab": {
     "base_uri": "https://localhost:8080/"
    },
    "id": "wET1oWQC0yc2",
    "outputId": "fedf7481-bf03-4799-902d-8cba5c066ba1"
   },
   "outputs": [
    {
     "name": "stdout",
     "output_type": "stream",
     "text": [
      "79/79 [==============================] - 10s 117ms/step - loss: 0.7047 - accuracy: 0.8080\n"
     ]
    },
    {
     "data": {
      "text/plain": [
       "[0.7046542763710022, 0.8080000281333923]"
      ]
     },
     "execution_count": 65,
     "metadata": {
      "tags": []
     },
     "output_type": "execute_result"
    }
   ],
   "source": [
    "# Sau khi load các trọng số, điều này sẽ giảm xuống (không fine-tuning)\n",
    "model_2.evaluate(test_data)"
   ]
  },
  {
   "cell_type": "code",
   "execution_count": null,
   "metadata": {
    "colab": {
     "base_uri": "https://localhost:8080/"
    },
    "id": "246x0CejyN8b",
    "outputId": "1f7fc091-3d50-489c-b7bd-ca12ed6d650e"
   },
   "outputs": [
    {
     "data": {
      "text/plain": [
       "[0.7046541571617126, 0.8080000281333923]"
      ]
     },
     "execution_count": 66,
     "metadata": {
      "tags": []
     },
     "output_type": "execute_result"
    }
   ],
   "source": [
    "# Kiểm tra xem hai kết quả trên có giốn nhau không (nên giống nhau)\n",
    "results_10_percent_data_aug"
   ]
  },
  {
   "cell_type": "markdown",
   "metadata": {
    "id": "4dGc9MML2Fn0"
   },
   "source": [
    "Các bước trước có vẻ khá khó hiểu nhưng tất cả những gì chúng ta đã làm là:\n",
    "1. Huấn luyện mô hình feature extraction transfer learning cho 5 epoch trên 10% dữ liệu (với toàn bộ các layer đã đóng băng của base model) và lưu các trọng số của mô hình bằng `ModelCheckpoint`.\n",
    "2. Tinh chỉnh cùng một mô hình trên cùng 10% dữ liệu cho 5 epoch khác với 10 layer trên cùng của base model không bị đóng băng.\n",
    "3. Lưu kết quả và nhật ký mỗi lần huấn luyện.\n",
    "4. Load lại mô hình từ 1 để thực hiện các bước tương tự như 2 nhưng với tất cả dữ liệu.\n",
    "\n",
    "Bước tương tự như 2?\n",
    "\n",
    " Đúng vậy, chúng ta sẽ tinh chỉnh 10 layer cuối của base model với tập dữ liệu đầy đủ cho 5 epoch khác nhưng trước tiên hãy tự nhắc bản thân xem những layer nào có thể huấn luyện."
   ]
  },
  {
   "cell_type": "code",
   "execution_count": null,
   "metadata": {
    "colab": {
     "base_uri": "https://localhost:8080/"
    },
    "id": "k5MWo0Mu6WYl",
    "outputId": "e573b4a0-b6ba-441f-a3c9-c5c5a01b59cb"
   },
   "outputs": [
    {
     "name": "stdout",
     "output_type": "stream",
     "text": [
      "0 input_layer True\n",
      "1 data_augmentation True\n",
      "2 efficientnetb0 True\n",
      "3 global_average_pooling_layer True\n",
      "4 output_layer True\n"
     ]
    }
   ],
   "source": [
    "# Kiểm tra xem những layer nào có thể điều chỉnh trong toàn bộ mô hình\n",
    "for layer_number, layer in enumerate(model_2.layers):\n",
    "  print(layer_number, layer.name, layer.trainable)"
   ]
  },
  {
   "cell_type": "markdown",
   "metadata": {
    "id": "zGFZC_fz3M2i"
   },
   "source": [
    "Có thể chi tiết hơn không?"
   ]
  },
  {
   "cell_type": "code",
   "execution_count": null,
   "metadata": {
    "colab": {
     "base_uri": "https://localhost:8080/"
    },
    "id": "ojbNIiUV8oc2",
    "outputId": "cad2ac02-6c59-4430-cae8-f0c5d4528d64"
   },
   "outputs": [
    {
     "name": "stdout",
     "output_type": "stream",
     "text": [
      "0 input_3 False\n",
      "1 rescaling_2 False\n",
      "2 normalization_2 False\n",
      "3 stem_conv_pad False\n",
      "4 stem_conv False\n",
      "5 stem_bn False\n",
      "6 stem_activation False\n",
      "7 block1a_dwconv False\n",
      "8 block1a_bn False\n",
      "9 block1a_activation False\n",
      "10 block1a_se_squeeze False\n",
      "11 block1a_se_reshape False\n",
      "12 block1a_se_reduce False\n",
      "13 block1a_se_expand False\n",
      "14 block1a_se_excite False\n",
      "15 block1a_project_conv False\n",
      "16 block1a_project_bn False\n",
      "17 block2a_expand_conv False\n",
      "18 block2a_expand_bn False\n",
      "19 block2a_expand_activation False\n",
      "20 block2a_dwconv_pad False\n",
      "21 block2a_dwconv False\n",
      "22 block2a_bn False\n",
      "23 block2a_activation False\n",
      "24 block2a_se_squeeze False\n",
      "25 block2a_se_reshape False\n",
      "26 block2a_se_reduce False\n",
      "27 block2a_se_expand False\n",
      "28 block2a_se_excite False\n",
      "29 block2a_project_conv False\n",
      "30 block2a_project_bn False\n",
      "31 block2b_expand_conv False\n",
      "32 block2b_expand_bn False\n",
      "33 block2b_expand_activation False\n",
      "34 block2b_dwconv False\n",
      "35 block2b_bn False\n",
      "36 block2b_activation False\n",
      "37 block2b_se_squeeze False\n",
      "38 block2b_se_reshape False\n",
      "39 block2b_se_reduce False\n",
      "40 block2b_se_expand False\n",
      "41 block2b_se_excite False\n",
      "42 block2b_project_conv False\n",
      "43 block2b_project_bn False\n",
      "44 block2b_drop False\n",
      "45 block2b_add False\n",
      "46 block3a_expand_conv False\n",
      "47 block3a_expand_bn False\n",
      "48 block3a_expand_activation False\n",
      "49 block3a_dwconv_pad False\n",
      "50 block3a_dwconv False\n",
      "51 block3a_bn False\n",
      "52 block3a_activation False\n",
      "53 block3a_se_squeeze False\n",
      "54 block3a_se_reshape False\n",
      "55 block3a_se_reduce False\n",
      "56 block3a_se_expand False\n",
      "57 block3a_se_excite False\n",
      "58 block3a_project_conv False\n",
      "59 block3a_project_bn False\n",
      "60 block3b_expand_conv False\n",
      "61 block3b_expand_bn False\n",
      "62 block3b_expand_activation False\n",
      "63 block3b_dwconv False\n",
      "64 block3b_bn False\n",
      "65 block3b_activation False\n",
      "66 block3b_se_squeeze False\n",
      "67 block3b_se_reshape False\n",
      "68 block3b_se_reduce False\n",
      "69 block3b_se_expand False\n",
      "70 block3b_se_excite False\n",
      "71 block3b_project_conv False\n",
      "72 block3b_project_bn False\n",
      "73 block3b_drop False\n",
      "74 block3b_add False\n",
      "75 block4a_expand_conv False\n",
      "76 block4a_expand_bn False\n",
      "77 block4a_expand_activation False\n",
      "78 block4a_dwconv_pad False\n",
      "79 block4a_dwconv False\n",
      "80 block4a_bn False\n",
      "81 block4a_activation False\n",
      "82 block4a_se_squeeze False\n",
      "83 block4a_se_reshape False\n",
      "84 block4a_se_reduce False\n",
      "85 block4a_se_expand False\n",
      "86 block4a_se_excite False\n",
      "87 block4a_project_conv False\n",
      "88 block4a_project_bn False\n",
      "89 block4b_expand_conv False\n",
      "90 block4b_expand_bn False\n",
      "91 block4b_expand_activation False\n",
      "92 block4b_dwconv False\n",
      "93 block4b_bn False\n",
      "94 block4b_activation False\n",
      "95 block4b_se_squeeze False\n",
      "96 block4b_se_reshape False\n",
      "97 block4b_se_reduce False\n",
      "98 block4b_se_expand False\n",
      "99 block4b_se_excite False\n",
      "100 block4b_project_conv False\n",
      "101 block4b_project_bn False\n",
      "102 block4b_drop False\n",
      "103 block4b_add False\n",
      "104 block4c_expand_conv False\n",
      "105 block4c_expand_bn False\n",
      "106 block4c_expand_activation False\n",
      "107 block4c_dwconv False\n",
      "108 block4c_bn False\n",
      "109 block4c_activation False\n",
      "110 block4c_se_squeeze False\n",
      "111 block4c_se_reshape False\n",
      "112 block4c_se_reduce False\n",
      "113 block4c_se_expand False\n",
      "114 block4c_se_excite False\n",
      "115 block4c_project_conv False\n",
      "116 block4c_project_bn False\n",
      "117 block4c_drop False\n",
      "118 block4c_add False\n",
      "119 block5a_expand_conv False\n",
      "120 block5a_expand_bn False\n",
      "121 block5a_expand_activation False\n",
      "122 block5a_dwconv False\n",
      "123 block5a_bn False\n",
      "124 block5a_activation False\n",
      "125 block5a_se_squeeze False\n",
      "126 block5a_se_reshape False\n",
      "127 block5a_se_reduce False\n",
      "128 block5a_se_expand False\n",
      "129 block5a_se_excite False\n",
      "130 block5a_project_conv False\n",
      "131 block5a_project_bn False\n",
      "132 block5b_expand_conv False\n",
      "133 block5b_expand_bn False\n",
      "134 block5b_expand_activation False\n",
      "135 block5b_dwconv False\n",
      "136 block5b_bn False\n",
      "137 block5b_activation False\n",
      "138 block5b_se_squeeze False\n",
      "139 block5b_se_reshape False\n",
      "140 block5b_se_reduce False\n",
      "141 block5b_se_expand False\n",
      "142 block5b_se_excite False\n",
      "143 block5b_project_conv False\n",
      "144 block5b_project_bn False\n",
      "145 block5b_drop False\n",
      "146 block5b_add False\n",
      "147 block5c_expand_conv False\n",
      "148 block5c_expand_bn False\n",
      "149 block5c_expand_activation False\n",
      "150 block5c_dwconv False\n",
      "151 block5c_bn False\n",
      "152 block5c_activation False\n",
      "153 block5c_se_squeeze False\n",
      "154 block5c_se_reshape False\n",
      "155 block5c_se_reduce False\n",
      "156 block5c_se_expand False\n",
      "157 block5c_se_excite False\n",
      "158 block5c_project_conv False\n",
      "159 block5c_project_bn False\n",
      "160 block5c_drop False\n",
      "161 block5c_add False\n",
      "162 block6a_expand_conv False\n",
      "163 block6a_expand_bn False\n",
      "164 block6a_expand_activation False\n",
      "165 block6a_dwconv_pad False\n",
      "166 block6a_dwconv False\n",
      "167 block6a_bn False\n",
      "168 block6a_activation False\n",
      "169 block6a_se_squeeze False\n",
      "170 block6a_se_reshape False\n",
      "171 block6a_se_reduce False\n",
      "172 block6a_se_expand False\n",
      "173 block6a_se_excite False\n",
      "174 block6a_project_conv False\n",
      "175 block6a_project_bn False\n",
      "176 block6b_expand_conv False\n",
      "177 block6b_expand_bn False\n",
      "178 block6b_expand_activation False\n",
      "179 block6b_dwconv False\n",
      "180 block6b_bn False\n",
      "181 block6b_activation False\n",
      "182 block6b_se_squeeze False\n",
      "183 block6b_se_reshape False\n",
      "184 block6b_se_reduce False\n",
      "185 block6b_se_expand False\n",
      "186 block6b_se_excite False\n",
      "187 block6b_project_conv False\n",
      "188 block6b_project_bn False\n",
      "189 block6b_drop False\n",
      "190 block6b_add False\n",
      "191 block6c_expand_conv False\n",
      "192 block6c_expand_bn False\n",
      "193 block6c_expand_activation False\n",
      "194 block6c_dwconv False\n",
      "195 block6c_bn False\n",
      "196 block6c_activation False\n",
      "197 block6c_se_squeeze False\n",
      "198 block6c_se_reshape False\n",
      "199 block6c_se_reduce False\n",
      "200 block6c_se_expand False\n",
      "201 block6c_se_excite False\n",
      "202 block6c_project_conv False\n",
      "203 block6c_project_bn False\n",
      "204 block6c_drop False\n",
      "205 block6c_add False\n",
      "206 block6d_expand_conv False\n",
      "207 block6d_expand_bn False\n",
      "208 block6d_expand_activation False\n",
      "209 block6d_dwconv False\n",
      "210 block6d_bn False\n",
      "211 block6d_activation False\n",
      "212 block6d_se_squeeze False\n",
      "213 block6d_se_reshape False\n",
      "214 block6d_se_reduce False\n",
      "215 block6d_se_expand False\n",
      "216 block6d_se_excite False\n",
      "217 block6d_project_conv False\n",
      "218 block6d_project_bn False\n",
      "219 block6d_drop False\n",
      "220 block6d_add False\n",
      "221 block7a_expand_conv False\n",
      "222 block7a_expand_bn False\n",
      "223 block7a_expand_activation False\n",
      "224 block7a_dwconv False\n",
      "225 block7a_bn False\n",
      "226 block7a_activation False\n",
      "227 block7a_se_squeeze True\n",
      "228 block7a_se_reshape True\n",
      "229 block7a_se_reduce True\n",
      "230 block7a_se_expand True\n",
      "231 block7a_se_excite True\n",
      "232 block7a_project_conv True\n",
      "233 block7a_project_bn True\n",
      "234 top_conv True\n",
      "235 top_bn True\n",
      "236 top_activation True\n"
     ]
    }
   ],
   "source": [
    "# Kiểm tra xem những layer nào có thể điều chỉnh trong base model\n",
    "for layer_number, layer in enumerate(base_model.layers):\n",
    "  print(layer_number, layer.name, layer.trainable)"
   ]
  },
  {
   "cell_type": "markdown",
   "metadata": {
    "id": "87Nf4mJn1Nin"
   },
   "source": [
    "Trông tốt đấy! 10 layer cuối có thể huấn luyện (không bị đóng băng).\n",
    "\n",
    "Chúng ta có thêm một bước để thực hiện trước khi bắt đầu fine-tuning.\n",
    "\n",
    "Bạn còn nhớ đó là gì không?\n",
    "\n",
    "Để tôi gợi ý: chúng ta chỉ load lại các trọng số vào mô hình và chúng ta cần làm điều này mỗi khi thực hiện thay đổi với mô hình.\n",
    "\n",
    "Biên dịch lại!\n",
    "\n",
    "Điều này sẽ giống như trước đây."
   ]
  },
  {
   "cell_type": "code",
   "execution_count": null,
   "metadata": {
    "id": "vOGsq2qNHBzc"
   },
   "outputs": [],
   "source": [
    "# Biên dịch\n",
    "model_2.compile(loss=\"categorical_crossentropy\",\n",
    "                optimizer=tf.keras.optimizers.Adam(lr=0.0001), # chia learning rate cho 10 cho fine-tuning\n",
    "                metrics=[\"accuracy\"])"
   ]
  },
  {
   "cell_type": "markdown",
   "metadata": {
    "id": "1D4dafTl30Pe"
   },
   "source": [
    "Đã đến lúc tinh chỉnh toàn bộ dữ liệu!"
   ]
  },
  {
   "cell_type": "code",
   "execution_count": null,
   "metadata": {
    "colab": {
     "base_uri": "https://localhost:8080/"
    },
    "id": "SpZS_khtJaYx",
    "outputId": "ca084bf0-a840-4634-e649-ccf32d9b7dbe"
   },
   "outputs": [
    {
     "name": "stdout",
     "output_type": "stream",
     "text": [
      "Saving TensorBoard log files to: transfer_learning/full_10_classes_fine_tune_last_10/20210216-025031\n",
      "Epoch 5/10\n",
      "235/235 [==============================] - 49s 190ms/step - loss: 0.7943 - accuracy: 0.7513 - val_loss: 0.4029 - val_accuracy: 0.8635\n",
      "Epoch 6/10\n",
      "235/235 [==============================] - 51s 215ms/step - loss: 0.6391 - accuracy: 0.7913 - val_loss: 0.3668 - val_accuracy: 0.8882\n",
      "Epoch 7/10\n",
      "235/235 [==============================] - 47s 198ms/step - loss: 0.5564 - accuracy: 0.8220 - val_loss: 0.3237 - val_accuracy: 0.9013\n",
      "Epoch 8/10\n",
      "235/235 [==============================] - 46s 192ms/step - loss: 0.5030 - accuracy: 0.8394 - val_loss: 0.3390 - val_accuracy: 0.8832\n",
      "Epoch 9/10\n",
      "235/235 [==============================] - 45s 191ms/step - loss: 0.4611 - accuracy: 0.8479 - val_loss: 0.3099 - val_accuracy: 0.8980\n",
      "Epoch 10/10\n",
      "235/235 [==============================] - 43s 183ms/step - loss: 0.4507 - accuracy: 0.8557 - val_loss: 0.2903 - val_accuracy: 0.9161\n"
     ]
    }
   ],
   "source": [
    "# Tiếp tục huấn luyện và tinh chỉnh mô hình với dữ liệu\n",
    "fine_tune_epochs = initial_epochs + 5\n",
    "\n",
    "history_fine_10_classes_full = model_2.fit(train_data_10_classes_full,\n",
    "                                           epochs=fine_tune_epochs,\n",
    "                                           initial_epoch=history_10_percent_data_aug.epoch[-1],\n",
    "                                           validation_data=test_data,\n",
    "                                           validation_steps=int(0.25 * len(test_data)),\n",
    "                                           callbacks=[create_tensorboard_callback(\"transfer_learning\", \"full_10_classes_fine_tune_last_10\")])"
   ]
  },
  {
   "cell_type": "markdown",
   "metadata": {
    "id": "0b-eZ2B935AC"
   },
   "source": [
    "> 🔑 **Lưu ý:** Quá trình huấn luyện tốn nhiều thời gian hơn cho mỗi epoch nhưng điều đó dễ hiểu vì chúng ta đang sử dụng dữ liệu huấn luyện gấp 10 lần so với trước.\n",
    "\n",
    "Hãy đánh giá trên toàn bộ dữ liệu huấn luyện."
   ]
  },
  {
   "cell_type": "code",
   "execution_count": null,
   "metadata": {
    "colab": {
     "base_uri": "https://localhost:8080/"
    },
    "id": "zHEcLE3tRTlB",
    "outputId": "81300114-0fb9-4745-926d-f6c677dc0d3a"
   },
   "outputs": [
    {
     "name": "stdout",
     "output_type": "stream",
     "text": [
      "79/79 [==============================] - 10s 118ms/step - loss: 0.3264 - accuracy: 0.8988\n"
     ]
    },
    {
     "data": {
      "text/plain": [
       "[0.32638612389564514, 0.8988000154495239]"
      ]
     },
     "execution_count": 71,
     "metadata": {
      "tags": []
     },
     "output_type": "execute_result"
    }
   ],
   "source": [
    "results_fine_tune_full_data = model_2.evaluate(test_data)\n",
    "results_fine_tune_full_data"
   ]
  },
  {
   "cell_type": "markdown",
   "metadata": {
    "id": "PD17oZ-a4H84"
   },
   "source": [
    "Có vẻ như fine-tuning với toàn bộ dữ liệu giúp tăng cường mô hình của chúng ta, vậy các training curve trông như thế nào?"
   ]
  },
  {
   "cell_type": "code",
   "execution_count": null,
   "metadata": {
    "colab": {
     "base_uri": "https://localhost:8080/",
     "height": 585
    },
    "id": "QwxgAW_l5Meg",
    "outputId": "db323b5d-0698-42b3-8704-e51ae49f4f8e"
   },
   "outputs": [
    {
     "name": "stdout",
     "output_type": "stream",
     "text": [
      "5\n",
      "11\n",
      "[0.3293333351612091, 0.6453333497047424, 0.7333333492279053, 0.7693333625793457, 0.7946666479110718, 0.7675999999046326, 0.8066666722297668, 0.8333333134651184, 0.8478666543960571, 0.8511999845504761, 0.8655999898910522]\n"
     ]
    },
    {
     "data": {
      "image/png": "[encoded data removed]",
      "text/plain": [
       "<Figure size 576x576 with 2 Axes>"
      ]
     },
     "metadata": {
      "needs_background": "light",
      "tags": []
     },
     "output_type": "display_data"
    }
   ],
   "source": [
    "# Fine-tuning diễn ra thế nào với nhiều dữ liệu hơn?\n",
    "compare_historys(original_history=history_10_percent_data_aug,\n",
    "                 new_history=history_fine_10_classes_full,\n",
    "                 initial_epochs=5)"
   ]
  },
  {
   "cell_type": "markdown",
   "metadata": {
    "id": "MZvQ-7v55RVR"
   },
   "source": [
    "Có vẻ dữ liệu bổ sung đã giúp ích rất nhiều! Các đường này trông rất tuyệt. Và nếu chúng ta huấn luyện lâu hơn thì chúng sẽ tiếp tục cải thiện."
   ]
  },
  {
   "cell_type": "markdown",
   "metadata": {
    "id": "rvElXran4brJ"
   },
   "source": [
    "## Xem dữ liệu thử nghiệm trên TensorBoard\n",
    "\n",
    "Ngay bây giờ các kết quả thử nghiệm được phân tán rải rác khắp notebook. Nếu muốn chia sẻ chúng với người khác, họ sẽ nhận được rất nhiều biểu đồ, phép đánh giá khác nhau...đây không phải thời điểm thú vị.\n",
    "\n",
    "Nhưng bạn biết không?\n",
    "\n",
    "Nhờ TensorBoard callback mà chúng ta đã tạo với hàm hỗ trợ `create_tensorflow_callback()`, chúng ta đã theo dõi các thử nghiệm lập mô hình suốt thời gian qua.\n",
    "\n",
    "Làm thế nào để upload chúng lên TensorBoard.dev và kiểm tra?\n",
    "\n",
    "Có thể thực hiện với lệnh `tensorboard dev upload` và chuyển nó vào directory nơi các thử nghiệm được ghi lại. \n",
    "\n",
    "> 🔑 **Lưu ý:** Bất cứ thứ gì bạn upload lên TensorBoard.dev cũng đều công khai. Nếu bạn không muốn chia sẻ nhật ký huấn luyện thì đừng upload."
   ]
  },
  {
   "cell_type": "code",
   "execution_count": null,
   "metadata": {
    "colab": {
     "base_uri": "https://localhost:8080/",
     "height": 262
    },
    "id": "u_OCtijuI7gv",
    "outputId": "8c0e4120-e6ed-43ef-e438-26681e8a27cc"
   },
   "outputs": [
    {
     "name": "stdout",
     "output_type": "stream",
     "text": [
      "2020-09-17 22:51:36.043126: I tensorflow/stream_executor/platform/default/dso_loader.cc:48] Successfully opened dynamic library libcudart.so.10.1\n",
      "Data for the \"graphs\" plugin is now uploaded to TensorBoard.dev! Note that uploaded data is public. If you do not want to upload data for this plugin, use the \"--plugins\" command line argument.\n",
      "Data for the \"histograms\" plugin is now uploaded to TensorBoard.dev! Note that uploaded data is public. If you do not want to upload data for this plugin, use the \"--plugins\" command line argument.\n",
      "Data for the \"hparams\" plugin is now uploaded to TensorBoard.dev! Note that uploaded data is public. If you do not want to upload data for this plugin, use the \"--plugins\" command line argument.\n",
      "Upload started and will continue reading any new data as it's added\n",
      "to the logdir. To stop uploading, press Ctrl-C.\n",
      "\n",
      "View your TensorBoard live at: https://tensorboard.dev/experiment/2O76kw3PQbKl0lByfg5B4w/\n",
      "\n",
      "\u001b[1m[2020-09-17T22:51:37]\u001b[0m Uploader started.\n",
      "\u001b[1m[2020-09-17T22:51:47]\u001b[0m Total uploaded: 128 scalars, 0 tensors, 5 binary objects (9.1 MB)\n",
      "\u001b[2K\u001b[33mListening for new data in logdir...\u001b[0m\n",
      "Done. View your TensorBoard at https://tensorboard.dev/experiment/2O76kw3PQbKl0lByfg5B4w/\n"
     ]
    }
   ],
   "source": [
    "# Xem nhật ký tensorboard của các thử nghiệm lập mô hình transfer learning (nên là 4 mô hình)\n",
    "# Upload các bản ghi TensorBoard dev\n",
    "!tensorboard dev upload --logdir ./transfer_learning \\\n",
    "  --name \"Transfer learning experiments\" \\\n",
    "  --description \"A series of different transfer learning experiments with varying amounts of data and fine-tuning\" \\\n",
    "  --one_shot # thoát khỏi uploader sau khi hoàn thành upload"
   ]
  },
  {
   "cell_type": "markdown",
   "metadata": {
    "id": "fHrA0duU6txY"
   },
   "source": [
    "Sau khi đã upload kết quả lên TensorBoard.dev, chúng ta có một liên kết có thể chia sẻ được dùng để xem, so sánh các thử nghiệm và chia sẻ kết quả với người khác nếu cần.\n",
    "\n",
    "Bạn có thể xem các phiên bản ban đầu của những thử nghiệm mà chúng ta đã chạy trong notebook này ở: https://tensorboard.dev/experiment/2O76kw3PQbKl0lByfg5B4w/\n",
    "\n",
    "> 🤔 **Câu hỏi:** Mô hình nào thực hiện tốt nhất? Tại sao bạn lại nghĩ vậy? Fine-tuning diễn ra thế nào?\n",
    "\n",
    "Để tìm tất cả các thử nghiệm TensorBoard.dev trước đó, có thể sử dụng `tensorboard dev list`."
   ]
  },
  {
   "cell_type": "code",
   "execution_count": null,
   "metadata": {
    "colab": {
     "base_uri": "https://localhost:8080/",
     "height": 504
    },
    "id": "dy4FuwhrLKzr",
    "outputId": "b97e1f31-912f-4dfe-f66a-e415be5301d7"
   },
   "outputs": [
    {
     "name": "stdout",
     "output_type": "stream",
     "text": [
      "2020-09-17 22:51:48.747476: I tensorflow/stream_executor/platform/default/dso_loader.cc:48] Successfully opened dynamic library libcudart.so.10.1\n",
      "Data for the \"graphs\" plugin is now uploaded to TensorBoard.dev! Note that uploaded data is public. If you do not want to upload data for this plugin, use the \"--plugins\" command line argument.\n",
      "Data for the \"histograms\" plugin is now uploaded to TensorBoard.dev! Note that uploaded data is public. If you do not want to upload data for this plugin, use the \"--plugins\" command line argument.\n",
      "Data for the \"hparams\" plugin is now uploaded to TensorBoard.dev! Note that uploaded data is public. If you do not want to upload data for this plugin, use the \"--plugins\" command line argument.\n",
      "https://tensorboard.dev/experiment/2O76kw3PQbKl0lByfg5B4w/\n",
      "\tName                 Transfer learning experiments\n",
      "\tDescription          A series of different transfer learning experiments with varying amounts of data and fine-tuning\n",
      "\tId                   2O76kw3PQbKl0lByfg5B4w\n",
      "\tCreated              2020-09-17 22:51:37 (15 seconds ago)\n",
      "\tUpdated              2020-09-17 22:51:47 (5 seconds ago)\n",
      "\tRuns                 10\n",
      "\tTags                 3\n",
      "\tScalars              128\n",
      "\tTensor bytes         0\n",
      "\tBinary object bytes  9520961\n",
      "https://tensorboard.dev/experiment/73taSKxXQeGPQsNBcVvY3g/\n",
      "\tName                 EfficientNetB0 vs. ResNet50V2\n",
      "\tDescription          Comparing two different TF Hub feature extraction models architectures using 10% of training images\n",
      "\tId                   73taSKxXQeGPQsNBcVvY3g\n",
      "\tCreated              2020-09-14 05:02:48\n",
      "\tUpdated              2020-09-14 05:02:50\n",
      "\tRuns                 4\n",
      "\tTags                 3\n",
      "\tScalars              40\n",
      "\tTensor bytes         0\n",
      "\tBinary object bytes  3402042\n",
      "Total: 2 experiment(s)\n"
     ]
    }
   ],
   "source": [
    "# Xem các thử nghiệm trước đó\n",
    "!tensorboard dev list"
   ]
  },
  {
   "cell_type": "markdown",
   "metadata": {
    "id": "icXKqZkn7HRA"
   },
   "source": [
    "Có thể sử dụng lệnh sau nếu bạn muốn loại bỏ thử nghiệm trước đó (và xóa nó khỏi chế độ xem công khai):\n",
    "\n",
    "```\n",
    "tensorboard dev delete --experiment_id [INSERT_EXPERIMENT_ID_TO_DELETE]```"
   ]
  },
  {
   "cell_type": "code",
   "execution_count": null,
   "metadata": {
    "colab": {
     "base_uri": "https://localhost:8080/",
     "height": 124
    },
    "id": "a4zeQFbF9XLm",
    "outputId": "3fd10503-23d8-4433-9683-30feda49dba1"
   },
   "outputs": [
    {
     "name": "stdout",
     "output_type": "stream",
     "text": [
      "2020-09-17 22:51:53.982454: I tensorflow/stream_executor/platform/default/dso_loader.cc:48] Successfully opened dynamic library libcudart.so.10.1\n",
      "Data for the \"graphs\" plugin is now uploaded to TensorBoard.dev! Note that uploaded data is public. If you do not want to upload data for this plugin, use the \"--plugins\" command line argument.\n",
      "Data for the \"histograms\" plugin is now uploaded to TensorBoard.dev! Note that uploaded data is public. If you do not want to upload data for this plugin, use the \"--plugins\" command line argument.\n",
      "Data for the \"hparams\" plugin is now uploaded to TensorBoard.dev! Note that uploaded data is public. If you do not want to upload data for this plugin, use the \"--plugins\" command line argument.\n",
      "No such experiment OUbW0O3pRqqQgAphVBxi8Q. Either it never existed or it has already been deleted.\n"
     ]
    }
   ],
   "source": [
    "# Loại các thử nghiệm trước đó\n",
    "# !tensorboard dev delete --experiment_id OUbW0O3pRqqQgAphVBxi8Q"
   ]
  },
  {
   "cell_type": "markdown",
   "metadata": {
    "id": "P76rEQjPdR8m"
   },
   "source": [
    "## 🛠 Bài tập thực hành \n",
    "> **Lưu ý:** Các bạn cần làm phần bài tập này để chuẩn bị cho phiên review lab.\n",
    "\n",
    "1. Viết một hàm để hiển thị ảnh từ tập dữ liệu và lớp bất kỳ (chẳng hạn: \"steak\", \"pizza\"...), trực quan hóa nó và đưa ra dự đoán sử dụng mô hình đã huấn luyện.\n",
    "2. Sử dụng feature-extraction để huấn luyện mô hình transfer learning trên 10% dữ liệu Food Vision cho 10 epoch, sử dụng [`tf.keras.applications.EfficientNetB0`](https://www.tensorflow.org/api_docs/python/tf/keras/applications/EfficientNetB0) làm base model. Dùng [`ModelCheckpoint`](https://www.tensorflow.org/api_docs/python/tf/keras/callbacks/ModelCheckpoint) callback để lưu trọng số vào file.\n",
    "3. Tinh chỉnh 20 layer cuối của base model mà bạn đã huấn luyện ở 2 cho 10 epoch khác. Nó diễn ra thế nào?\n",
    "4. Tinh chỉnh 30 layer cuối của base model mà bạn đã huấn luyện ở 2 cho 10 epoch khác. Nó diễn ra thế nào?"
   ]
  },
  {
   "cell_type": "markdown",
   "metadata": {
    "id": "AvwXqey-dhpT"
   },
   "source": [
    "## 📖 Tài liệu đọc thêm\n",
    "\n",
    "* Đọc [tài liệu về data augmentation](https://www.tensorflow.org/tutorials/images/data_augmentation) trong TensorFlow.\n",
    "* Đọc [tài liệu ULMFit](https://arxiv.org/abs/1801.06146) (kỹ thuật) phần giới thiệu khái niệm về freezing và unfreezing các layer khác nhau.\n",
    "* Đọc về learning rate scheduling (có một [TensorFlow callback](https://www.tensorflow.org/api_docs/python/tf/keras/callbacks/LearningRateScheduler) cho điều này), nó ảnh hưởng tới việc huấn luyện mô hình thế nào?\n",
    "  * Nếu bạn huấn luyện lâu hơn, có thể bạn sẽ muốn giảm learning rate khi tới gần với đáy đồi hơn, thực hiện các bước nhỏ hơn. Hãy tưởng tượng nó như việc tìm đồng xu ở dưới sofa. Lúc đầu các chuyển động cánh tay sẽ lớn và lúc gần tới đồng xu thì chuyển động nhỏ dần."
   ]
  }
 ],
 "metadata": {
  "accelerator": "GPU",
  "colab": {
   "collapsed_sections": [],
   "name": "Lab 7_Transfer learning trong TensorFlow phần 2: Fine tuning.ipynb",
   "provenance": [],
   "toc_visible": true
  },
  "kernelspec": {
   "display_name": "Python 3",
   "language": "python",
   "name": "python3"
  },
  "language_info": {
   "codemirror_mode": {
    "name": "ipython",
    "version": 3
   },
   "file_extension": ".py",
   "mimetype": "text/x-python",
   "name": "python",
   "nbconvert_exporter": "python",
   "pygments_lexer": "ipython3",
   "version": "3.8.8"
  }
 },
 "nbformat": 4,
 "nbformat_minor": 1
}
